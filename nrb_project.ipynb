{
 "cells": [
  {
   "cell_type": "code",
   "execution_count": 111,
   "id": "dcea54a3",
   "metadata": {},
   "outputs": [
    {
     "name": "stdout",
     "output_type": "stream",
     "text": [
      "^C\n"
     ]
    },
    {
     "name": "stdout",
     "output_type": "stream",
     "text": [
      "Requirement already satisfied: typing-extensions in c:\\users\\gautam gc\\anaconda3\\lib\\site-packages (4.11.0)\n"
     ]
    }
   ],
   "source": [
    "!pip install typing-extensions"
   ]
  },
  {
   "cell_type": "code",
   "execution_count": null,
   "id": "8b2afb27",
   "metadata": {},
   "outputs": [
    {
     "name": "stdout",
     "output_type": "stream",
     "text": [
      "Requirement already satisfied: beautifulsoup4 in c:\\users\\gautam gc\\anaconda3\\lib\\site-packages (4.12.3)\n",
      "Requirement already satisfied: soupsieve>1.2 in c:\\users\\gautam gc\\anaconda3\\lib\\site-packages (from beautifulsoup4) (2.5)\n"
     ]
    }
   ],
   "source": [
    "!pip install beautifulsoup4\n"
   ]
  },
  {
   "cell_type": "code",
   "execution_count": null,
   "id": "aab019cc",
   "metadata": {},
   "outputs": [
    {
     "name": "stderr",
     "output_type": "stream",
     "text": [
      "C:\\Users\\Gautam Gc\\AppData\\Local\\Temp\\ipykernel_2600\\3302069410.py:3: MarkupResemblesLocatorWarning: The input looks more like a URL than markup. You may want to use an HTTP client like requests to get the document behind the URL, and feed that document to Beautiful Soup.\n",
      "  url = BeautifulSoup('https://www.nrb.org.np/forex/','html.parser')\n"
     ]
    },
    {
     "data": {
      "text/plain": [
       "<!DOCTYPE html>\n",
       "<!--[if lt IE 9]><html class=\"no-js no-svg ie lt-ie9 lt-ie8 lt-ie7\" lang=\"en-US\"> <![endif]--><!--[if IE 9]><html class=\"no-js no-svg ie ie9 lt-ie9 lt-ie8\" lang=\"en-US\"> <![endif]--><!--[if gt IE 9]><!--><html class=\"no-js no-svg\" lang=\"en-US\"> <!--<![endif]-->\n",
       "<head>\n",
       "<meta charset=\"utf-8\"/>\n",
       "<meta content=\"the official Site of the Central Bank of Nepal\" name=\"description\"/>\n",
       "<link href=\"https://www.nrb.org.np/contents/themes/nrb-wp-theme/assets/css/style.v1.css\" media=\"screen\" rel=\"stylesheet\" type=\"text/css\"/>\n",
       "<link href=\"https://cdnjs.cloudflare.com/ajax/libs/font-awesome/6.7.1/css/all.min.css\" media=\"screen\" rel=\"stylesheet\" type=\"text/css\"/>\n",
       "<meta content=\"text/html; charset=utf-8\" http-equiv=\"Content-Type\"/>\n",
       "<meta content=\"IE=edge\" http-equiv=\"X-UA-Compatible\"/>\n",
       "<meta content=\"width=device-width, initial-scale=1\" name=\"viewport\"/>\n",
       "<link href=\"https://www.nrb.org.np/contents/themes/nrb-wp-theme/humans.txt\" rel=\"author\"/>\n",
       "<link href=\"https://www.nrb.org.np/xmlrpc.php\" rel=\"pingback\"/>\n",
       "<link href=\"http://gmpg.org/xfn/11\" rel=\"profile\"/>\n",
       "<title>Foreign Exchange Rate - the official site of the Central Bank of Nepal</title>\n",
       "<!-- This site is optimized with the Yoast SEO plugin v12.7.1 - https://yoast.com/wordpress/plugins/seo/ -->\n",
       "<meta content=\"max-snippet:-1, max-image-preview:large, max-video-preview:-1\" name=\"robots\"/>\n",
       "<link href=\"https://www.nrb.org.np/forex/\" rel=\"canonical\"/>\n",
       "<meta content=\"en_US\" property=\"og:locale\"/>\n",
       "<meta content=\"article\" property=\"og:type\"/>\n",
       "<meta content=\"Foreign Exchange Rate - the official site of the Central Bank of Nepal\" property=\"og:title\"/>\n",
       "<meta content=\"https://www.nrb.org.np/forex/\" property=\"og:url\"/>\n",
       "<meta content=\"the official site of the Central Bank of Nepal\" property=\"og:site_name\"/>\n",
       "<meta content=\"summary_large_image\" name=\"twitter:card\"/>\n",
       "<meta content=\"Foreign Exchange Rate - the official site of the Central Bank of Nepal\" name=\"twitter:title\"/>\n",
       "<script class=\"yoast-schema-graph yoast-schema-graph--main\" type=\"application/ld+json\">{\"@context\":\"https://schema.org\",\"@graph\":[{\"@type\":\"Organization\",\"@id\":\"https://www.nrb.org.np/#organization\",\"name\":\"Nepal Rastra Bank\",\"url\":\"https://www.nrb.org.np/\",\"sameAs\":[],\"logo\":{\"@type\":\"ImageObject\",\"@id\":\"https://www.nrb.org.np/#logo\",\"url\":\"https://www.nrb.org.np/contents/uploads/2020/01/logo.jpg\",\"width\":78,\"height\":76,\"caption\":\"Nepal Rastra Bank\"},\"image\":{\"@id\":\"https://www.nrb.org.np/#logo\"}},{\"@type\":\"WebSite\",\"@id\":\"https://www.nrb.org.np/#website\",\"url\":\"https://www.nrb.org.np/\",\"name\":\"\\u0928\\u0947\\u092a\\u093e\\u0932 \\u0930\\u093e\\u0937\\u094d\\u091f\\u094d\\u0930 \\u092c\\u0948\\u0902\\u0915\",\"description\":\"the official Site of the Central Bank of Nepal\",\"publisher\":{\"@id\":\"https://www.nrb.org.np/#organization\"},\"potentialAction\":{\"@type\":\"SearchAction\",\"target\":\"https://www.nrb.org.np/?s={search_term_string}\",\"query-input\":\"required name=search_term_string\"}},{\"@type\":\"WebPage\",\"@id\":\"https://www.nrb.org.np/forex/#webpage\",\"url\":\"https://www.nrb.org.np/forex/\",\"inLanguage\":\"en-US\",\"name\":\"Foreign Exchange Rate - the official site of the Central Bank of Nepal\",\"isPartOf\":{\"@id\":\"https://www.nrb.org.np/#website\"},\"datePublished\":\"2019-12-18T11:42:25+00:00\",\"dateModified\":\"2020-01-21T10:22:49+00:00\",\"breadcrumb\":{\"@id\":\"https://www.nrb.org.np/forex/#breadcrumb\"}},{\"@type\":\"BreadcrumbList\",\"@id\":\"https://www.nrb.org.np/forex/#breadcrumb\",\"itemListElement\":[{\"@type\":\"ListItem\",\"position\":1,\"item\":{\"@type\":\"WebPage\",\"@id\":\"https://www.nrb.org.np/\",\"url\":\"https://www.nrb.org.np/\",\"name\":\"Home\"}},{\"@type\":\"ListItem\",\"position\":2,\"item\":{\"@type\":\"WebPage\",\"@id\":\"https://www.nrb.org.np/forex/\",\"url\":\"https://www.nrb.org.np/forex/\",\"name\":\"Foreign Exchange Rate\"}}]}]}</script>\n",
       "<!-- / Yoast SEO plugin. -->\n",
       "<link href=\"//www.google.com\" rel=\"dns-prefetch\"/>\n",
       "<link href=\"//cdn.jsdelivr.net\" rel=\"dns-prefetch\"/>\n",
       "<link href=\"//cdnjs.cloudflare.com\" rel=\"dns-prefetch\"/>\n",
       "<link href=\"//cdn.datatables.net\" rel=\"dns-prefetch\"/>\n",
       "<link href=\"//s.w.org\" rel=\"dns-prefetch\"/>\n",
       "<link href=\"https://www.nrb.org.np/feed/\" rel=\"alternate\" title=\"the official site of the Central Bank of Nepal » Feed\" type=\"application/rss+xml\"/>\n",
       "<link href=\"https://www.nrb.org.np/comments/feed/\" rel=\"alternate\" title=\"the official site of the Central Bank of Nepal » Comments Feed\" type=\"application/rss+xml\"/>\n",
       "<!-- This site uses the Google Analytics by MonsterInsights plugin v8.18 - Using Analytics tracking - https://www.monsterinsights.com/ -->\n",
       "<script async=\"\" data-cfasync=\"false\" data-wpfc-render=\"false\" src=\"//www.googletagmanager.com/gtag/js?id=G-CSFBZG2BVZ\" type=\"text/javascript\"></script>\n",
       "<script data-cfasync=\"false\" data-wpfc-render=\"false\" type=\"text/javascript\">\n",
       "\t\t\t\tvar mi_version = '8.18';\n",
       "\t\t\t\tvar mi_track_user = true;\n",
       "\t\t\t\tvar mi_no_track_reason = '';\n",
       "\t\t\t\t\n",
       "\t\t\t\t\t\t\t\tvar disableStrs = [\n",
       "\t\t\t\t\t\t\t\t\t\t'ga-disable-G-CSFBZG2BVZ',\n",
       "\t\t\t\t\t\t\t\t\t];\n",
       "\n",
       "\t\t\t\t/* Function to detect opted out users */\n",
       "\t\t\t\tfunction __gtagTrackerIsOptedOut() {\n",
       "\t\t\t\t\tfor (var index = 0; index < disableStrs.length; index++) {\n",
       "\t\t\t\t\t\tif (document.cookie.indexOf(disableStrs[index] + '=true') > -1) {\n",
       "\t\t\t\t\t\t\treturn true;\n",
       "\t\t\t\t\t\t}\n",
       "\t\t\t\t\t}\n",
       "\n",
       "\t\t\t\t\treturn false;\n",
       "\t\t\t\t}\n",
       "\n",
       "\t\t\t\t/* Disable tracking if the opt-out cookie exists. */\n",
       "\t\t\t\tif (__gtagTrackerIsOptedOut()) {\n",
       "\t\t\t\t\tfor (var index = 0; index < disableStrs.length; index++) {\n",
       "\t\t\t\t\t\twindow[disableStrs[index]] = true;\n",
       "\t\t\t\t\t}\n",
       "\t\t\t\t}\n",
       "\n",
       "\t\t\t\t/* Opt-out function */\n",
       "\t\t\t\tfunction __gtagTrackerOptout() {\n",
       "\t\t\t\t\tfor (var index = 0; index < disableStrs.length; index++) {\n",
       "\t\t\t\t\t\tdocument.cookie = disableStrs[index] + '=true; expires=Thu, 31 Dec 2099 23:59:59 UTC; path=/';\n",
       "\t\t\t\t\t\twindow[disableStrs[index]] = true;\n",
       "\t\t\t\t\t}\n",
       "\t\t\t\t}\n",
       "\n",
       "\t\t\t\tif ('undefined' === typeof gaOptout) {\n",
       "\t\t\t\t\tfunction gaOptout() {\n",
       "\t\t\t\t\t\t__gtagTrackerOptout();\n",
       "\t\t\t\t\t}\n",
       "\t\t\t\t}\n",
       "\t\t\t\t\t\t\t\twindow.dataLayer = window.dataLayer || [];\n",
       "\n",
       "\t\t\t\twindow.MonsterInsightsDualTracker = {\n",
       "\t\t\t\t\thelpers: {},\n",
       "\t\t\t\t\ttrackers: {},\n",
       "\t\t\t\t};\n",
       "\t\t\t\tif (mi_track_user) {\n",
       "\t\t\t\t\tfunction __gtagDataLayer() {\n",
       "\t\t\t\t\t\tdataLayer.push(arguments);\n",
       "\t\t\t\t\t}\n",
       "\n",
       "\t\t\t\t\tfunction __gtagTracker(type, name, parameters) {\n",
       "\t\t\t\t\t\tif (!parameters) {\n",
       "\t\t\t\t\t\t\tparameters = {};\n",
       "\t\t\t\t\t\t}\n",
       "\n",
       "\t\t\t\t\t\tif (parameters.send_to) {\n",
       "\t\t\t\t\t\t\t__gtagDataLayer.apply(null, arguments);\n",
       "\t\t\t\t\t\t\treturn;\n",
       "\t\t\t\t\t\t}\n",
       "\n",
       "\t\t\t\t\t\tif (type === 'event') {\n",
       "\t\t\t\t\t\t\t\t\t\t\t\t\t\tparameters.send_to = monsterinsights_frontend.v4_id;\n",
       "\t\t\t\t\t\t\tvar hookName = name;\n",
       "\t\t\t\t\t\t\tif (typeof parameters['event_category'] !== 'undefined') {\n",
       "\t\t\t\t\t\t\t\thookName = parameters['event_category'] + ':' + name;\n",
       "\t\t\t\t\t\t\t}\n",
       "\n",
       "\t\t\t\t\t\t\tif (typeof MonsterInsightsDualTracker.trackers[hookName] !== 'undefined') {\n",
       "\t\t\t\t\t\t\t\tMonsterInsightsDualTracker.trackers[hookName](parameters);\n",
       "\t\t\t\t\t\t\t} else {\n",
       "\t\t\t\t\t\t\t\t__gtagDataLayer('event', name, parameters);\n",
       "\t\t\t\t\t\t\t}\n",
       "\t\t\t\t\t\t\t\n",
       "\t\t\t\t\t\t} else {\n",
       "\t\t\t\t\t\t\t__gtagDataLayer.apply(null, arguments);\n",
       "\t\t\t\t\t\t}\n",
       "\t\t\t\t\t}\n",
       "\n",
       "\t\t\t\t\t__gtagTracker('js', new Date());\n",
       "\t\t\t\t\t__gtagTracker('set', {\n",
       "\t\t\t\t\t\t'developer_id.dZGIzZG': true,\n",
       "\t\t\t\t\t\t\t\t\t\t\t});\n",
       "\t\t\t\t\t\t\t\t\t\t__gtagTracker('config', 'G-CSFBZG2BVZ', {\"forceSSL\":\"true\",\"link_attribution\":\"true\"} );\n",
       "\t\t\t\t\t\t\t\t\t\t\t\t\t\t\twindow.gtag = __gtagTracker;\t\t\t\t\t\t\t\t\t\t(function () {\n",
       "\t\t\t\t\t\t/* https://developers.google.com/analytics/devguides/collection/analyticsjs/ */\n",
       "\t\t\t\t\t\t/* ga and __gaTracker compatibility shim. */\n",
       "\t\t\t\t\t\tvar noopfn = function () {\n",
       "\t\t\t\t\t\t\treturn null;\n",
       "\t\t\t\t\t\t};\n",
       "\t\t\t\t\t\tvar newtracker = function () {\n",
       "\t\t\t\t\t\t\treturn new Tracker();\n",
       "\t\t\t\t\t\t};\n",
       "\t\t\t\t\t\tvar Tracker = function () {\n",
       "\t\t\t\t\t\t\treturn null;\n",
       "\t\t\t\t\t\t};\n",
       "\t\t\t\t\t\tvar p = Tracker.prototype;\n",
       "\t\t\t\t\t\tp.get = noopfn;\n",
       "\t\t\t\t\t\tp.set = noopfn;\n",
       "\t\t\t\t\t\tp.send = function () {\n",
       "\t\t\t\t\t\t\tvar args = Array.prototype.slice.call(arguments);\n",
       "\t\t\t\t\t\t\targs.unshift('send');\n",
       "\t\t\t\t\t\t\t__gaTracker.apply(null, args);\n",
       "\t\t\t\t\t\t};\n",
       "\t\t\t\t\t\tvar __gaTracker = function () {\n",
       "\t\t\t\t\t\t\tvar len = arguments.length;\n",
       "\t\t\t\t\t\t\tif (len === 0) {\n",
       "\t\t\t\t\t\t\t\treturn;\n",
       "\t\t\t\t\t\t\t}\n",
       "\t\t\t\t\t\t\tvar f = arguments[len - 1];\n",
       "\t\t\t\t\t\t\tif (typeof f !== 'object' || f === null || typeof f.hitCallback !== 'function') {\n",
       "\t\t\t\t\t\t\t\tif ('send' === arguments[0]) {\n",
       "\t\t\t\t\t\t\t\t\tvar hitConverted, hitObject = false, action;\n",
       "\t\t\t\t\t\t\t\t\tif ('event' === arguments[1]) {\n",
       "\t\t\t\t\t\t\t\t\t\tif ('undefined' !== typeof arguments[3]) {\n",
       "\t\t\t\t\t\t\t\t\t\t\thitObject = {\n",
       "\t\t\t\t\t\t\t\t\t\t\t\t'eventAction': arguments[3],\n",
       "\t\t\t\t\t\t\t\t\t\t\t\t'eventCategory': arguments[2],\n",
       "\t\t\t\t\t\t\t\t\t\t\t\t'eventLabel': arguments[4],\n",
       "\t\t\t\t\t\t\t\t\t\t\t\t'value': arguments[5] ? arguments[5] : 1,\n",
       "\t\t\t\t\t\t\t\t\t\t\t}\n",
       "\t\t\t\t\t\t\t\t\t\t}\n",
       "\t\t\t\t\t\t\t\t\t}\n",
       "\t\t\t\t\t\t\t\t\tif ('pageview' === arguments[1]) {\n",
       "\t\t\t\t\t\t\t\t\t\tif ('undefined' !== typeof arguments[2]) {\n",
       "\t\t\t\t\t\t\t\t\t\t\thitObject = {\n",
       "\t\t\t\t\t\t\t\t\t\t\t\t'eventAction': 'page_view',\n",
       "\t\t\t\t\t\t\t\t\t\t\t\t'page_path': arguments[2],\n",
       "\t\t\t\t\t\t\t\t\t\t\t}\n",
       "\t\t\t\t\t\t\t\t\t\t}\n",
       "\t\t\t\t\t\t\t\t\t}\n",
       "\t\t\t\t\t\t\t\t\tif (typeof arguments[2] === 'object') {\n",
       "\t\t\t\t\t\t\t\t\t\thitObject = arguments[2];\n",
       "\t\t\t\t\t\t\t\t\t}\n",
       "\t\t\t\t\t\t\t\t\tif (typeof arguments[5] === 'object') {\n",
       "\t\t\t\t\t\t\t\t\t\tObject.assign(hitObject, arguments[5]);\n",
       "\t\t\t\t\t\t\t\t\t}\n",
       "\t\t\t\t\t\t\t\t\tif ('undefined' !== typeof arguments[1].hitType) {\n",
       "\t\t\t\t\t\t\t\t\t\thitObject = arguments[1];\n",
       "\t\t\t\t\t\t\t\t\t\tif ('pageview' === hitObject.hitType) {\n",
       "\t\t\t\t\t\t\t\t\t\t\thitObject.eventAction = 'page_view';\n",
       "\t\t\t\t\t\t\t\t\t\t}\n",
       "\t\t\t\t\t\t\t\t\t}\n",
       "\t\t\t\t\t\t\t\t\tif (hitObject) {\n",
       "\t\t\t\t\t\t\t\t\t\taction = 'timing' === arguments[1].hitType ? 'timing_complete' : hitObject.eventAction;\n",
       "\t\t\t\t\t\t\t\t\t\thitConverted = mapArgs(hitObject);\n",
       "\t\t\t\t\t\t\t\t\t\t__gtagTracker('event', action, hitConverted);\n",
       "\t\t\t\t\t\t\t\t\t}\n",
       "\t\t\t\t\t\t\t\t}\n",
       "\t\t\t\t\t\t\t\treturn;\n",
       "\t\t\t\t\t\t\t}\n",
       "\n",
       "\t\t\t\t\t\t\tfunction mapArgs(args) {\n",
       "\t\t\t\t\t\t\t\tvar arg, hit = {};\n",
       "\t\t\t\t\t\t\t\tvar gaMap = {\n",
       "\t\t\t\t\t\t\t\t\t'eventCategory': 'event_category',\n",
       "\t\t\t\t\t\t\t\t\t'eventAction': 'event_action',\n",
       "\t\t\t\t\t\t\t\t\t'eventLabel': 'event_label',\n",
       "\t\t\t\t\t\t\t\t\t'eventValue': 'event_value',\n",
       "\t\t\t\t\t\t\t\t\t'nonInteraction': 'non_interaction',\n",
       "\t\t\t\t\t\t\t\t\t'timingCategory': 'event_category',\n",
       "\t\t\t\t\t\t\t\t\t'timingVar': 'name',\n",
       "\t\t\t\t\t\t\t\t\t'timingValue': 'value',\n",
       "\t\t\t\t\t\t\t\t\t'timingLabel': 'event_label',\n",
       "\t\t\t\t\t\t\t\t\t'page': 'page_path',\n",
       "\t\t\t\t\t\t\t\t\t'location': 'page_location',\n",
       "\t\t\t\t\t\t\t\t\t'title': 'page_title',\n",
       "\t\t\t\t\t\t\t\t};\n",
       "\t\t\t\t\t\t\t\tfor (arg in args) {\n",
       "\t\t\t\t\t\t\t\t\t\t\t\t\t\t\t\t\t\tif (!(!args.hasOwnProperty(arg) || !gaMap.hasOwnProperty(arg))) {\n",
       "\t\t\t\t\t\t\t\t\t\thit[gaMap[arg]] = args[arg];\n",
       "\t\t\t\t\t\t\t\t\t} else {\n",
       "\t\t\t\t\t\t\t\t\t\thit[arg] = args[arg];\n",
       "\t\t\t\t\t\t\t\t\t}\n",
       "\t\t\t\t\t\t\t\t}\n",
       "\t\t\t\t\t\t\t\treturn hit;\n",
       "\t\t\t\t\t\t\t}\n",
       "\n",
       "\t\t\t\t\t\t\ttry {\n",
       "\t\t\t\t\t\t\t\tf.hitCallback();\n",
       "\t\t\t\t\t\t\t} catch (ex) {\n",
       "\t\t\t\t\t\t\t}\n",
       "\t\t\t\t\t\t};\n",
       "\t\t\t\t\t\t__gaTracker.create = newtracker;\n",
       "\t\t\t\t\t\t__gaTracker.getByName = newtracker;\n",
       "\t\t\t\t\t\t__gaTracker.getAll = function () {\n",
       "\t\t\t\t\t\t\treturn [];\n",
       "\t\t\t\t\t\t};\n",
       "\t\t\t\t\t\t__gaTracker.remove = noopfn;\n",
       "\t\t\t\t\t\t__gaTracker.loaded = true;\n",
       "\t\t\t\t\t\twindow['__gaTracker'] = __gaTracker;\n",
       "\t\t\t\t\t})();\n",
       "\t\t\t\t\t\t\t\t\t} else {\n",
       "\t\t\t\t\t\t\t\t\t\tconsole.log(\"\");\n",
       "\t\t\t\t\t(function () {\n",
       "\t\t\t\t\t\tfunction __gtagTracker() {\n",
       "\t\t\t\t\t\t\treturn null;\n",
       "\t\t\t\t\t\t}\n",
       "\n",
       "\t\t\t\t\t\twindow['__gtagTracker'] = __gtagTracker;\n",
       "\t\t\t\t\t\twindow['gtag'] = __gtagTracker;\n",
       "\t\t\t\t\t})();\n",
       "\t\t\t\t\t\t\t\t\t}\n",
       "\t\t\t</script>\n",
       "<!-- / Google Analytics by MonsterInsights -->\n",
       "<script type=\"text/javascript\">\n",
       "\t\t\twindow._wpemojiSettings = {\"baseUrl\":\"https:\\/\\/s.w.org\\/images\\/core\\/emoji\\/12.0.0-1\\/72x72\\/\",\"ext\":\".png\",\"svgUrl\":\"https:\\/\\/s.w.org\\/images\\/core\\/emoji\\/12.0.0-1\\/svg\\/\",\"svgExt\":\".svg\",\"source\":{\"concatemoji\":\"https:\\/\\/www.nrb.org.np\\/wp-includes\\/js\\/wp-emoji-release.min.js?ver=5.3.18\"}};\n",
       "\t\t\t!function(e,a,t){var n,r,o,i=a.createElement(\"canvas\"),p=i.getContext&&i.getContext(\"2d\");function s(e,t){var a=String.fromCharCode;p.clearRect(0,0,i.width,i.height),p.fillText(a.apply(this,e),0,0);e=i.toDataURL();return p.clearRect(0,0,i.width,i.height),p.fillText(a.apply(this,t),0,0),e===i.toDataURL()}function c(e){var t=a.createElement(\"script\");t.src=e,t.defer=t.type=\"text/javascript\",a.getElementsByTagName(\"head\")[0].appendChild(t)}for(o=Array(\"flag\",\"emoji\"),t.supports={everything:!0,everythingExceptFlag:!0},r=0;r<o.length;r++)t.supports[o[r]]=function(e){if(!p||!p.fillText)return!1;switch(p.textBaseline=\"top\",p.font=\"600 32px Arial\",e){case\"flag\":return s([127987,65039,8205,9895,65039],[127987,65039,8203,9895,65039])?!1:!s([55356,56826,55356,56819],[55356,56826,8203,55356,56819])&&!s([55356,57332,56128,56423,56128,56418,56128,56421,56128,56430,56128,56423,56128,56447],[55356,57332,8203,56128,56423,8203,56128,56418,8203,56128,56421,8203,56128,56430,8203,56128,56423,8203,56128,56447]);case\"emoji\":return!s([55357,56424,55356,57342,8205,55358,56605,8205,55357,56424,55356,57340],[55357,56424,55356,57342,8203,55358,56605,8203,55357,56424,55356,57340])}return!1}(o[r]),t.supports.everything=t.supports.everything&&t.supports[o[r]],\"flag\"!==o[r]&&(t.supports.everythingExceptFlag=t.supports.everythingExceptFlag&&t.supports[o[r]]);t.supports.everythingExceptFlag=t.supports.everythingExceptFlag&&!t.supports.flag,t.DOMReady=!1,t.readyCallback=function(){t.DOMReady=!0},t.supports.everything||(n=function(){t.readyCallback()},a.addEventListener?(a.addEventListener(\"DOMContentLoaded\",n,!1),e.addEventListener(\"load\",n,!1)):(e.attachEvent(\"onload\",n),a.attachEvent(\"onreadystatechange\",function(){\"complete\"===a.readyState&&t.readyCallback()})),(n=t.source||{}).concatemoji?c(n.concatemoji):n.wpemoji&&n.twemoji&&(c(n.twemoji),c(n.wpemoji)))}(window,document,window._wpemojiSettings);\n",
       "\t\t</script>\n",
       "<style type=\"text/css\">\n",
       "img.wp-smiley,\n",
       "img.emoji {\n",
       "\tdisplay: inline !important;\n",
       "\tborder: none !important;\n",
       "\tbox-shadow: none !important;\n",
       "\theight: 1em !important;\n",
       "\twidth: 1em !important;\n",
       "\tmargin: 0 .07em !important;\n",
       "\tvertical-align: -0.1em !important;\n",
       "\tbackground: none !important;\n",
       "\tpadding: 0 !important;\n",
       "}\n",
       "</style>\n",
       "<link href=\"https://www.nrb.org.np/wp-includes/css/dist/block-library/style.min.css?ver=5.3.18\" id=\"wp-block-library-css\" media=\"all\" rel=\"stylesheet\" type=\"text/css\"/>\n",
       "<link href=\"https://www.nrb.org.np/contents/plugins/contact-form-7/includes/css/styles.css?ver=5.1.6\" id=\"contact-form-7-css\" media=\"all\" rel=\"stylesheet\" type=\"text/css\"/>\n",
       "<link href=\"https://www.nrb.org.np/contents/plugins/ditty-news-ticker/inc/static/libs/fontastic/styles.css?ver=2.2.17\" id=\"ditty-news-ticker-font-css\" media=\"all\" rel=\"stylesheet\" type=\"text/css\"/>\n",
       "<link href=\"https://www.nrb.org.np/contents/plugins/ditty-news-ticker/inc/static/css/style.css?ver=1605313229\" id=\"ditty-news-ticker-css\" media=\"all\" rel=\"stylesheet\" type=\"text/css\"/>\n",
       "<link href=\"https://www.nrb.org.np/contents/plugins/smart-popup-blaster/assets/css/animation.css?ver=5.3.18\" id=\"animation-style-css\" media=\"all\" rel=\"stylesheet\" type=\"text/css\"/>\n",
       "<link href=\"https://fonts.googleapis.com/css?family=Noto+Sans:400,700\" id=\"font-css\" media=\"all\" rel=\"stylesheet\" type=\"text/css\"/>\n",
       "<link href=\"https://www.nrb.org.np/contents/themes/nrb-wp-theme/print.css\" id=\"print-css\" media=\"print\" rel=\"stylesheet\" type=\"text/css\"/>\n",
       "<link href=\"https://cdnjs.cloudflare.com/ajax/libs/slick-carousel/1.9.0/slick.min.css\" id=\"slick-css\" media=\"all\" rel=\"stylesheet\" type=\"text/css\"/>\n",
       "<link href=\"https://www.nrb.org.np/contents/themes/nrb-wp-theme/assets/css/slick-theme.min.css\" id=\"slicktheme-css\" media=\"all\" rel=\"stylesheet\" type=\"text/css\"/>\n",
       "<link href=\"https://www.nrb.org.np/contents/themes/nrb-wp-theme/audio-player.css\" id=\"audioplayercss-css\" media=\"all\" rel=\"stylesheet\" type=\"text/css\"/>\n",
       "<link href=\"https://cdn.jsdelivr.net/npm/lightgallery@1.6.12/dist/css/lightgallery.min.css\" id=\"lightgallery_css-css\" media=\"all\" rel=\"stylesheet\" type=\"text/css\"/>\n",
       "<link href=\"https://www.nrb.org.np/contents/themes/nrb-wp-theme/style.css\" id=\"style-css\" media=\"all\" rel=\"stylesheet\" type=\"text/css\"/>\n",
       "<link href=\"https://www.nrb.org.np/contents/themes/nrb-wp-theme/assets/css/dataTables.bootstrap4.min.css\" id=\"datatablecss-css\" media=\"all\" rel=\"stylesheet\" type=\"text/css\"/>\n",
       "<link href=\"https://www.nrb.org.np/contents/themes/nrb-wp-theme/assets/css/responsive.dataTables.min.css\" id=\"datatablecss_responsive-css\" media=\"all\" rel=\"stylesheet\" type=\"text/css\"/>\n",
       "<link href=\"https://www.nrb.org.np/contents/themes/nrb-wp-theme/assets/css/tooltipster.min.css\" id=\"tooltipstercss-css\" media=\"all\" rel=\"stylesheet\" type=\"text/css\"/>\n",
       "<link href=\"https://www.nrb.org.np/contents/themes/nrb-wp-theme/assets/css/tooltipster-shadow.min.css\" id=\"tooltipsterthemecss-css\" media=\"all\" rel=\"stylesheet\" type=\"text/css\"/>\n",
       "<link href=\"https://www.nrb.org.np/wp-admin/admin-ajax.php?action=spb_dynamic_css&amp;ver=1.0\" id=\"spb_dynamic-css-css\" media=\"all\" rel=\"stylesheet\" type=\"text/css\"/>\n",
       "<script src=\"https://www.nrb.org.np/contents/plugins/google-analytics-for-wordpress/assets/js/frontend-gtag.min.js?ver=8.18\" type=\"text/javascript\"></script>\n",
       "<script data-cfasync=\"false\" data-wpfc-render=\"false\" id=\"monsterinsights-frontend-script-js-extra\" type=\"text/javascript\">/* <![CDATA[ */\n",
       "var monsterinsights_frontend = {\"js_events_tracking\":\"true\",\"download_extensions\":\"doc,pdf,ppt,zip,xls,docx,pptx,xlsx\",\"inbound_paths\":\"[{\\\"path\\\":\\\"\\\\\\/go\\\\\\/\\\",\\\"label\\\":\\\"affiliate\\\"},{\\\"path\\\":\\\"\\\\\\/recommend\\\\\\/\\\",\\\"label\\\":\\\"affiliate\\\"}]\",\"home_url\":\"https:\\/\\/www.nrb.org.np\",\"hash_tracking\":\"false\",\"v4_id\":\"G-CSFBZG2BVZ\"};/* ]]> */\n",
       "</script>\n",
       "<link href=\"https://www.nrb.org.np/api/\" rel=\"https://api.w.org/\"/>\n",
       "<link href=\"https://www.nrb.org.np/xmlrpc.php?rsd\" rel=\"EditURI\" title=\"RSD\" type=\"application/rsd+xml\"/>\n",
       "<link href=\"https://www.nrb.org.np/wp-includes/wlwmanifest.xml\" rel=\"wlwmanifest\" type=\"application/wlwmanifest+xml\"/>\n",
       "<meta content=\"WordPress 5.3.18\" name=\"generator\"/>\n",
       "<link href=\"https://www.nrb.org.np/?p=649\" rel=\"shortlink\"/>\n",
       "<link href=\"https://www.nrb.org.np/api/oembed/1.0/embed?url=https%3A%2F%2Fwww.nrb.org.np%2Fforex%2F\" rel=\"alternate\" type=\"application/json+oembed\"/>\n",
       "<link href=\"https://www.nrb.org.np/api/oembed/1.0/embed?url=https%3A%2F%2Fwww.nrb.org.np%2Fforex%2F&amp;format=xml\" rel=\"alternate\" type=\"text/xml+oembed\"/>\n",
       "<style type=\"text/css\">\n",
       ".social-links {\n",
       "\t\tdisplay: flex;\n",
       " \t\tflex-direction: row;\n",
       " \t\tmargin-top:10px; \n",
       "\t}\n",
       "\t a.facebook i{ \n",
       "\t\tcolor: #1877F2;\n",
       "\t}\n",
       "\t\n",
       "\t a.twitter i{ \n",
       "\t\tcolor:#1DA1F2;\n",
       "\t}\n",
       "\t\n",
       "\t a.youtube i{ \n",
       "\t\tcolor: #FF0000;\n",
       "\t}\n",
       "\t\n",
       "\t.social-links a {\n",
       "  \t \tmargin-right: 10px;\n",
       "\t\tmargin-top: 3px;\n",
       "\t}\n",
       "\t\n",
       "\t.social-links a i {\n",
       "\t\tfont-size: 25px;\n",
       "\t\t\n",
       "\t}\n",
       "\t.faqs-table table, .faqs-table td, .faqs-table th {\n",
       "    border: 1px solid black;\n",
       "}\n",
       "\t\n",
       "\t.overlay-content {\n",
       "\t\twidth: auto;\n",
       "\t}\n",
       "\t\n",
       "\t \n",
       "\t\n",
       "</style>\n",
       "<meta content=\"ltxllV7ja76byAsv2ftL_tOvEhhAQ05Ou00DhpLYRlI\" name=\"google-site-verification\"/><link href=\"https://www.nrb.org.np/contents/uploads/2020/01/logo.jpg\" rel=\"icon\" sizes=\"32x32\"/>\n",
       "<link href=\"https://www.nrb.org.np/contents/uploads/2020/01/logo.jpg\" rel=\"icon\" sizes=\"192x192\"/>\n",
       "<link href=\"https://www.nrb.org.np/contents/uploads/2020/01/logo.jpg\" rel=\"apple-touch-icon-precomposed\"/>\n",
       "<meta content=\"https://www.nrb.org.np/contents/uploads/2020/01/logo.jpg\" name=\"msapplication-TileImage\"/>\n",
       "</head>\n",
       "<body class=\"page-template-default page page-id-649 wp-custom-logo\" data-template=\"base.twig\">\n",
       "<a class=\"skip-link d-none d-sr-block\" href=\"#content\">Skip to content</a>\n",
       "<header class=\"header fixed-top py-lg-0 py-2\">\n",
       "<div class=\"container\">\n",
       "<nav class=\"navbar navbar-expand-lg navbar-light font-size-s py-0 px-1\">\n",
       "<div>\n",
       "<a class=\"d-flex navbar-brand text-primary font-weight-semi-bold p-0 align-items-center\" href=\"https://www.nrb.org.np\" rel=\"home\">\n",
       "<img class=\"p-2 mr-2\" src=\"https://www.nrb.org.np/contents/uploads/2020/01/logo.jpg\" width=\"60\"/>\n",
       "<h6 class=\"m-0 ucase\">\n",
       "                Nepal Rastra Bank <br/>नेपाल राष्ट्र बैंक</h6>\n",
       "</a>\n",
       "</div>\n",
       "<button aria-controls=\"navbarNav\" aria-expanded=\"false\" aria-label=\"Toggle navigation\" class=\"navbar-toggler border-0\" data-target=\"#navbarNav\" data-toggle=\"collapse\" type=\"button\">\n",
       "<span class=\"navbar-toggler-icon\"></span>\n",
       "</button>\n",
       "<div class=\"collapse navbar-collapse\" id=\"navbarNav\">\n",
       "<ul class=\"navbar-nav align-items-lg-stretch align-items-start ml-auto hide-for-mobile\">\n",
       "<li class=\"nav-item menu-item menu-item-type-custom menu-item-object-custom menu-item-77726 menu-item-has-children dropdown position-static\">\n",
       "<a aria-expanded=\"false\" aria-haspopup=\"true\" class=\"h-100 align-items-center d-flex nav-link nav-link dropdown-toggle\" data-toggle=\"dropdown\" href=\"#\">About</a>\n",
       "<div aria-labelledby=\"navbarDropdown\" class=\"dropdown-menu nav__megamenu text-white\">\n",
       "<ul class=\"submenu submenu--level-1\">\n",
       "<li class=\"first-level-title menu-item menu-item-type-custom menu-item-object-custom menu-item-77727 menu-item-has-children 1\">\n",
       "<span class=\"text-decoration-none nav-link p-0\">Introduction</span>\n",
       "<ul class=\"submenu submenu--level-2\">\n",
       "<li class=\"menu-item menu-item-type-post_type menu-item-object-page menu-item-77728 2\">\n",
       "<a href=\"https://www.nrb.org.np/about/\" target=\"\">About NRB</a>\n",
       "</li>\n",
       "<li class=\"menu-item menu-item-type-post_type menu-item-object-page menu-item-77729 2\">\n",
       "<a href=\"https://www.nrb.org.np/bod/\" target=\"\">Board of Directors</a>\n",
       "</li>\n",
       "<li class=\"menu-item menu-item-type-post_type menu-item-object-page menu-item-77730 2\">\n",
       "<a href=\"https://www.nrb.org.np/principal-officer/\" target=\"\">Principal Officers</a>\n",
       "</li>\n",
       "<li class=\"menu-item menu-item-type-post_type menu-item-object-page menu-item-77731 2\">\n",
       "<a href=\"https://www.nrb.org.np/information-officers/\" target=\"\">Information Officers</a>\n",
       "</li>\n",
       "<li class=\"menu-item menu-item-type-post_type menu-item-object-page menu-item-77732 2\">\n",
       "<a href=\"https://www.nrb.org.np/organogram/\" target=\"\">Organogram</a>\n",
       "</li>\n",
       "</ul>\n",
       "</li>\n",
       "<li class=\"first-level-title menu-item menu-item-type-custom menu-item-object-custom menu-item-77733 menu-item-has-children 1\">\n",
       "<span class=\"text-decoration-none nav-link p-0\">About Us</span>\n",
       "<ul class=\"submenu submenu--level-2\">\n",
       "<li class=\"menu-item menu-item-type-post_type menu-item-object-page menu-item-77734 2\">\n",
       "<a href=\"https://www.nrb.org.np/departments/\" target=\"\">Departments, Offices, Divisions and Units</a>\n",
       "</li>\n",
       "<li class=\"menu-item menu-item-type-post_type menu-item-object-page menu-item-77735 2\">\n",
       "<a href=\"https://www.nrb.org.np/provincial-offices/\" target=\"\">Provincial Offices</a>\n",
       "</li>\n",
       "<li class=\"menu-item menu-item-type-custom menu-item-object-custom menu-item-77736 2\">\n",
       "<a href=\"/category/annual-financial-statements/?department=fmd\" target=\"\">Financial Statements</a>\n",
       "</li>\n",
       "<li class=\"menu-item menu-item-type-post_type menu-item-object-page menu-item-77737 2\">\n",
       "<a href=\"https://www.nrb.org.np/contact/\" target=\"\">Contact</a>\n",
       "</li>\n",
       "<li class=\"menu-item menu-item-type-post_type menu-item-object-page menu-item-77738 2\">\n",
       "<a href=\"https://www.nrb.org.np/feedback/\" target=\"\">Feedback</a>\n",
       "</li>\n",
       "<li class=\"menu-item menu-item-type-custom menu-item-object-custom menu-item-77739 2\">\n",
       "<a href=\"/sitemap_index.xml\" target=\"\">Sitemap</a>\n",
       "</li>\n",
       "</ul>\n",
       "</li>\n",
       "</ul>\n",
       "</div>\n",
       "</li>\n",
       "<li class=\"nav-item menu-item menu-item-type-custom menu-item-object-custom menu-item-77740 menu-item-has-children dropdown position-static\">\n",
       "<a aria-expanded=\"false\" aria-haspopup=\"true\" class=\"h-100 align-items-center d-flex nav-link nav-link dropdown-toggle\" data-toggle=\"dropdown\" href=\"#\">Laws, Policies &amp;<br/> Guidelines</a>\n",
       "<div aria-labelledby=\"navbarDropdown\" class=\"dropdown-menu nav__megamenu text-white\">\n",
       "<ul class=\"submenu submenu--level-1\">\n",
       "<li class=\"first-level-title menu-item menu-item-type-custom menu-item-object-custom menu-item-77741 menu-item-has-children 1\">\n",
       "<span class=\"text-decoration-none nav-link p-0\">Laws and Legislation</span>\n",
       "<ul class=\"submenu submenu--level-2\">\n",
       "<li class=\"menu-item menu-item-type-custom menu-item-object-custom menu-item-77742 2\">\n",
       "<a href=\"/category/acts/?department=lgd\" target=\"\">Acts</a>\n",
       "</li>\n",
       "<li class=\"menu-item menu-item-type-custom menu-item-object-custom menu-item-77743 2\">\n",
       "<a href=\"/category/rules-by-laws/?department=lgd\" target=\"\">Rules and Bylaws</a>\n",
       "</li>\n",
       "</ul>\n",
       "</li>\n",
       "<li class=\"first-level-title menu-item menu-item-type-custom menu-item-object-custom menu-item-77744 menu-item-has-children 1\">\n",
       "<span class=\"text-decoration-none nav-link p-0\">Policies and Guidelines</span>\n",
       "<ul class=\"submenu submenu--level-2\">\n",
       "<li class=\"menu-item menu-item-type-custom menu-item-object-custom menu-item-77745 2\">\n",
       "<a href=\"/category/notices/?department=ofg\" target=\"\">Notices</a>\n",
       "</li>\n",
       "<li class=\"menu-item menu-item-type-custom menu-item-object-custom menu-item-77746 2\">\n",
       "<a href=\"/category/manual-guidelines/?department=ofg\" target=\"\">Guidelines and Manuals</a>\n",
       "</li>\n",
       "<li class=\"menu-item menu-item-type-custom menu-item-object-custom menu-item-77747 2\">\n",
       "<a href=\"/category/policies/?department=ofg\" target=\"\">Other Policies</a>\n",
       "</li>\n",
       "<li class=\"menu-item menu-item-type-custom menu-item-object-custom menu-item-77748 2\">\n",
       "<a href=\"/category/monetary-policy/?department=ofg\" target=\"\">Monetary Policy</a>\n",
       "</li>\n",
       "</ul>\n",
       "</li>\n",
       "</ul>\n",
       "</div>\n",
       "</li>\n",
       "<li class=\"nav-item menu-item menu-item-type-custom menu-item-object-custom menu-item-77749 menu-item-has-children dropdown position-static\">\n",
       "<a aria-expanded=\"false\" aria-haspopup=\"true\" class=\"h-100 align-items-center d-flex nav-link nav-link dropdown-toggle\" data-toggle=\"dropdown\" href=\"#\">Regulations &amp; <br/> Supervisions</a>\n",
       "<div aria-labelledby=\"navbarDropdown\" class=\"dropdown-menu nav__megamenu text-white\">\n",
       "<ul class=\"submenu submenu--level-1\">\n",
       "<li class=\"first-level-title menu-item menu-item-type-custom menu-item-object-custom menu-item-77750 menu-item-has-children 1\">\n",
       "<span class=\"text-decoration-none nav-link p-0\">Regulations</span>\n",
       "<ul class=\"submenu submenu--level-2\">\n",
       "<li class=\"menu-item menu-item-type-post_type menu-item-object-departments menu-item-77751 menu-item-has-children 2\">\n",
       "<a href=\"https://www.nrb.org.np/departments/bfr/\" target=\"\">Banks &amp; Financial Institutions</a>\n",
       "<ul class=\"submenu submenu--level-3\">\n",
       "<li class=\"menu-item menu-item-type-custom menu-item-object-custom menu-item-77752 3\">\n",
       "<a href=\"/category/miscellaneous-notices/?department=bfr\" target=\"\">Notices</a>\n",
       "</li>\n",
       "<li class=\"menu-item menu-item-type-custom menu-item-object-custom menu-item-77753 3\">\n",
       "<a href=\"/category/financial-stability-report/?department=bfr\" target=\"\">Financial Stability Report</a>\n",
       "</li>\n",
       "<li class=\"menu-item menu-item-type-custom menu-item-object-custom menu-item-77754 3\">\n",
       "<a href=\"/category/circulars/?department=bfr\" target=\"\">Circulars</a>\n",
       "</li>\n",
       "<li class=\"menu-item menu-item-type-custom menu-item-object-custom menu-item-77755 3\">\n",
       "<a href=\"http://gunaso.nrb.org.np/\" target=\"\">Financial Consumer Protection</a>\n",
       "</li>\n",
       "</ul>\n",
       "</li>\n",
       "<li class=\"menu-item menu-item-type-post_type menu-item-object-departments menu-item-77756 menu-item-has-children 2\">\n",
       "<a href=\"https://www.nrb.org.np/departments/fxm/\" target=\"\">Foreign Exchange Management</a>\n",
       "<ul class=\"submenu submenu--level-3\">\n",
       "<li class=\"menu-item menu-item-type-custom menu-item-object-custom menu-item-77757 3\">\n",
       "<a href=\"/category/notices/?department=fxm\" target=\"\">Notices</a>\n",
       "</li>\n",
       "<li class=\"menu-item menu-item-type-custom menu-item-object-custom menu-item-77758 3\">\n",
       "<a href=\"/category/fxm-circulars/%e0%a4%b5%e0%a4%bf%e0%a4%a6%e0%a5%87%e0%a4%b6%e0%a5%80-%e0%a4%b5%e0%a4%bf%e0%a4%a8%e0%a4%bf%e0%a4%ae%e0%a4%af-%e0%a4%b5%e0%a5%8d%e0%a4%af%e0%a4%b5%e0%a4%b8%e0%a5%8d%e0%a4%a5%e0%a4%be%e0%a4%aa%e0%a4%a8/?department=fxm\" target=\"\">Circulars</a>\n",
       "</li>\n",
       "</ul>\n",
       "</li>\n",
       "<li class=\"menu-item menu-item-type-post_type menu-item-object-departments menu-item-77759 menu-item-has-children 2\">\n",
       "<a href=\"https://www.nrb.org.np/departments/psd/\" target=\"\">Payment Systems</a>\n",
       "<ul class=\"submenu submenu--level-3\">\n",
       "<li class=\"menu-item menu-item-type-custom menu-item-object-custom menu-item-77760 3\">\n",
       "<a href=\"/category/notices/?department=psd\" target=\"\">Notices</a>\n",
       "</li>\n",
       "<li class=\"menu-item menu-item-type-custom menu-item-object-custom menu-item-77761 3\">\n",
       "<a href=\"/category/circulars/?department=psd\" target=\"\">Circulars</a>\n",
       "</li>\n",
       "<li class=\"menu-item menu-item-type-custom menu-item-object-custom menu-item-77762 3\">\n",
       "<a href=\"/category/policies-guidelines/?department=psd\" target=\"\">Policies, Guidelines</a>\n",
       "</li>\n",
       "</ul>\n",
       "</li>\n",
       "<li class=\"menu-item menu-item-type-post_type menu-item-object-departments menu-item-77763 menu-item-has-children 2\">\n",
       "<a href=\"https://www.nrb.org.np/departments/bkd/\" target=\"\">Banking Department</a>\n",
       "<ul class=\"submenu submenu--level-3\">\n",
       "<li class=\"menu-item menu-item-type-custom menu-item-object-custom menu-item-77764 3\">\n",
       "<a href=\"/category/notices/?department=bkd\" target=\"\">Notices</a>\n",
       "</li>\n",
       "<li class=\"menu-item menu-item-type-custom menu-item-object-custom menu-item-77765 3\">\n",
       "<a href=\"/category/ecc-notices/?department=bkd\" target=\"\">ECC Notices</a>\n",
       "</li>\n",
       "</ul>\n",
       "</li>\n",
       "</ul>\n",
       "</li>\n",
       "<li class=\"first-level-title menu-item menu-item-type-custom menu-item-object-custom menu-item-77766 menu-item-has-children 1\">\n",
       "<span class=\"text-decoration-none nav-link p-0\">Supervisions</span>\n",
       "<ul class=\"submenu submenu--level-2\">\n",
       "<li class=\"menu-item menu-item-type-post_type menu-item-object-departments menu-item-77767 menu-item-has-children 2\">\n",
       "<a href=\"https://www.nrb.org.np/departments/bsd/\" target=\"\">Bank Supervision</a>\n",
       "<ul class=\"submenu submenu--level-3\">\n",
       "<li class=\"menu-item menu-item-type-custom menu-item-object-custom menu-item-77768 3\">\n",
       "<a href=\"/category/enforcement-action/?department=bsd\" target=\"\">Enforcement Action</a>\n",
       "</li>\n",
       "<li class=\"menu-item menu-item-type-custom menu-item-object-custom menu-item-77769 3\">\n",
       "<a href=\"/category/key-financial-indicators/?department=bsd\" target=\"\">Key Financial Indicators</a>\n",
       "</li>\n",
       "<li class=\"menu-item menu-item-type-custom menu-item-object-custom menu-item-77770 3\">\n",
       "<a href=\"/category/annual-reports/?department=bsd\" target=\"\">Annual Reports</a>\n",
       "</li>\n",
       "</ul>\n",
       "</li>\n",
       "<li class=\"menu-item menu-item-type-post_type menu-item-object-departments menu-item-103623 menu-item-has-children 2\">\n",
       "<a href=\"https://www.nrb.org.np/departments/fisd/\" target=\"\">Financial Institutions Supervision Department</a>\n",
       "<ul class=\"submenu submenu--level-3\">\n",
       "<li class=\"menu-item menu-item-type-custom menu-item-object-custom menu-item-103628 3\">\n",
       "<a href=\"https://www.nrb.org.np/category/enforcement-action/?department=fisd\" target=\"\">Enforcement Action</a>\n",
       "</li>\n",
       "<li class=\"menu-item menu-item-type-custom menu-item-object-custom menu-item-77776 3\">\n",
       "<a href=\"/category/key-financial-highlights/?department=fisd\" target=\"\">Key Financial Highlights</a>\n",
       "</li>\n",
       "<li class=\"menu-item menu-item-type-custom menu-item-object-custom menu-item-103627 3\">\n",
       "<a href=\"https://www.nrb.org.np/category/annual-supervision-report/?department=fisd\" target=\"\">Annual Reports</a>\n",
       "</li>\n",
       "</ul>\n",
       "</li>\n",
       "<li class=\"menu-item menu-item-type-post_type menu-item-object-departments menu-item-77777 menu-item-has-children 2\">\n",
       "<a href=\"https://www.nrb.org.np/departments/mfd/\" target=\"\">Microfinance Institutions Supervision Department</a>\n",
       "<ul class=\"submenu submenu--level-3\">\n",
       "<li class=\"menu-item menu-item-type-custom menu-item-object-custom menu-item-77778 3\">\n",
       "<a href=\"/category/current-microfinance-activities/?department=mfd\" target=\"\">Current Microfinance Activities</a>\n",
       "</li>\n",
       "<li class=\"menu-item menu-item-type-custom menu-item-object-custom menu-item-77779 3\">\n",
       "<a href=\"/category/sources-uses-and-progress-report/?department=mfd\" target=\"\">Sources/Uses and Progress Report</a>\n",
       "</li>\n",
       "</ul>\n",
       "</li>\n",
       "<li class=\"menu-item menu-item-type-post_type menu-item-object-departments menu-item-78222 menu-item-has-children 2\">\n",
       "<a href=\"https://www.nrb.org.np/departments/nbfisd/\" target=\"\">Non-Bank Financial Institutions Supervision Department</a>\n",
       "<ul class=\"submenu submenu--level-3\">\n",
       "<li class=\"menu-item menu-item-type-custom menu-item-object-custom menu-item-78220 3\">\n",
       "<a href=\"https://www.nrb.org.np/category/notices/?department=nbfisd\" target=\"\">Notices</a>\n",
       "</li>\n",
       "<li class=\"menu-item menu-item-type-custom menu-item-object-custom menu-item-78221 3\">\n",
       "<a href=\"https://www.nrb.org.np/departments/nbfisd/\" target=\"\">Bylaws</a>\n",
       "</li>\n",
       "</ul>\n",
       "</li>\n",
       "</ul>\n",
       "</li>\n",
       "</ul>\n",
       "</div>\n",
       "</li>\n",
       "<li class=\"nav-item menu-item menu-item-type-custom menu-item-object-custom menu-item-77780 menu-item-has-children dropdown position-static\">\n",
       "<a aria-expanded=\"false\" aria-haspopup=\"true\" class=\"h-100 align-items-center d-flex nav-link nav-link dropdown-toggle\" data-toggle=\"dropdown\" href=\"#\">Publications &amp; <br/> Statistics</a>\n",
       "<div aria-labelledby=\"navbarDropdown\" class=\"dropdown-menu nav__megamenu text-white\">\n",
       "<ul class=\"submenu submenu--level-1\">\n",
       "<li class=\"first-level-title menu-item menu-item-type-custom menu-item-object-custom menu-item-77781 menu-item-has-children 1\">\n",
       "<span class=\"text-decoration-none nav-link p-0\">Publications</span>\n",
       "<ul class=\"submenu submenu--level-2\">\n",
       "<li class=\"menu-item menu-item-type-post_type menu-item-object-departments menu-item-99552 menu-item-has-children 2\">\n",
       "<a href=\"https://www.nrb.org.np/departments/red/\" target=\"\">Economic Research Department</a>\n",
       "<ul class=\"submenu submenu--level-3\">\n",
       "<li class=\"menu-item menu-item-type-custom menu-item-object-custom menu-item-77782 3\">\n",
       "<a href=\"/category/annual-reports/?department=red\" target=\"\">Annual Reports</a>\n",
       "</li>\n",
       "<li class=\"menu-item menu-item-type-custom menu-item-object-custom menu-item-77783 3\">\n",
       "<a href=\"/economic-review\" target=\"\">Economic Review</a>\n",
       "</li>\n",
       "<li class=\"menu-item menu-item-type-custom menu-item-object-custom menu-item-77784 3\">\n",
       "<a href=\"/category/economic-bulletin/?department=red\" target=\"\">Economic Bulletin &amp; Indicators</a>\n",
       "</li>\n",
       "<li class=\"menu-item menu-item-type-custom menu-item-object-custom menu-item-77785 3\">\n",
       "<a href=\"/category/nrb-working-paper/?department=red\" target=\"\">NRB Working Papers</a>\n",
       "</li>\n",
       "<li class=\"menu-item menu-item-type-custom menu-item-object-custom menu-item-77786 3\">\n",
       "<a href=\"/category/study-reports/?department=red\" target=\"\">Study Reports</a>\n",
       "</li>\n",
       "<li class=\"menu-item menu-item-type-custom menu-item-object-custom menu-item-77787 3\">\n",
       "<a href=\"/category/economic-activities-study-reports/?department=red\" target=\"\">Economic Activities Study Reports</a>\n",
       "</li>\n",
       "<li class=\"menu-item menu-item-type-custom menu-item-object-custom menu-item-77788 3\">\n",
       "<a href=\"https://www.nrb.org.np/category/current-macroeconomic-situation/?department=red\" target=\"\">Current Macro-Economic and Financial Situation</a>\n",
       "</li>\n",
       "<li class=\"menu-item menu-item-type-custom menu-item-object-custom menu-item-77791 3\">\n",
       "<a href=\"https://www.nrb.org.np/category/financial-corporations-survey/?department=red\" target=\"\">Financial Corporations Survey (FCS)</a>\n",
       "</li>\n",
       "</ul>\n",
       "</li>\n",
       "<li class=\"menu-item menu-item-type-custom menu-item-object-custom menu-item-99548 menu-item-has-children 2\">\n",
       "<span class=\"text-decoration-none nav-link p-0\">Other Publications</span>\n",
       "<ul class=\"submenu submenu--level-3\">\n",
       "<li class=\"menu-item menu-item-type-custom menu-item-object-custom menu-item-77792 3\">\n",
       "<a href=\"/category/special-publications/?department=ofg\" target=\"\">Special Publications</a>\n",
       "</li>\n",
       "<li class=\"menu-item menu-item-type-custom menu-item-object-custom menu-item-77793 3\">\n",
       "<a href=\"/category/golden-jubilee-publications/?department=ofg\" target=\"\">Golden Jubilee Publications</a>\n",
       "</li>\n",
       "<li class=\"menu-item menu-item-type-custom menu-item-object-custom menu-item-77794 3\">\n",
       "<span class=\"text-decoration-none nav-link p-0\">Arthabodh Annual Publication</span>\n",
       "</li>\n",
       "<li class=\"navbar-border-top- menu-item menu-item-type-post_type menu-item-object-page menu-item-77795 3\">\n",
       "<a href=\"https://www.nrb.org.np/banknotes-security-features/\" target=\"\">Know Your Bank Notes</a>\n",
       "</li>\n",
       "</ul>\n",
       "</li>\n",
       "</ul>\n",
       "</li>\n",
       "<li class=\"first-level-title menu-item menu-item-type-custom menu-item-object-custom menu-item-77796 menu-item-has-children 1\">\n",
       "<span class=\"text-decoration-none nav-link p-0\">Statistics</span>\n",
       "<ul class=\"submenu submenu--level-2\">\n",
       "<li class=\"menu-item menu-item-type-post_type menu-item-object-departments menu-item-99551 menu-item-has-children 2\">\n",
       "<a href=\"https://www.nrb.org.np/departments/bfr/\" target=\"\">Banks &amp; Financial Institutions Regulation Department</a>\n",
       "<ul class=\"submenu submenu--level-3\">\n",
       "<li class=\"menu-item menu-item-type-custom menu-item-object-custom menu-item-99553 3\">\n",
       "<a href=\"/category/financial-stability-report/?department=red\" target=\"\">Financial Stability Report</a>\n",
       "</li>\n",
       "<li class=\"menu-item menu-item-type-custom menu-item-object-custom menu-item-77797 3\">\n",
       "<a href=\"/category/monthly-statistics/?department=bfr\" target=\"\">Monthly Statistics</a>\n",
       "</li>\n",
       "<li class=\"menu-item menu-item-type-custom menu-item-object-custom menu-item-99554 3\">\n",
       "<a href=\"/category/banking-and-financial-statistics/?department=bfr\" target=\"\">Banking and Financial Statistics</a>\n",
       "</li>\n",
       "<li class=\"menu-item menu-item-type-custom menu-item-object-custom menu-item-99555 3\">\n",
       "<a href=\"/category/quarterly-financial-highlights-of-commercial-banks/?department=bfr\" target=\"\">Quartely Financial Highlights</a>\n",
       "</li>\n",
       "<li class=\"menu-item menu-item-type-custom menu-item-object-custom menu-item-99556 3\">\n",
       "<a href=\"/category/interest-rate-structure/?department=bfr\" target=\"\">Interest Rate Archives</a>\n",
       "</li>\n",
       "<li class=\"menu-item menu-item-type-custom menu-item-object-custom menu-item-77798 3\">\n",
       "<a href=\"/category/concessional-loan/?department=bfr\" target=\"\">Concessional Loan</a>\n",
       "</li>\n",
       "</ul>\n",
       "</li>\n",
       "<li class=\"menu-item menu-item-type-post_type menu-item-object-departments menu-item-99550 menu-item-has-children 2\">\n",
       "<a href=\"https://www.nrb.org.np/departments/red/\" target=\"\">Research</a>\n",
       "<ul class=\"submenu submenu--level-3\">\n",
       "<li class=\"menu-item menu-item-type-post_type menu-item-object-page menu-item-77799 3\">\n",
       "<a href=\"https://www.nrb.org.np/egdds/\" target=\"\">e-GDDS</a>\n",
       "</li>\n",
       "<li class=\"menu-item menu-item-type-custom menu-item-object-custom menu-item-99557 3\">\n",
       "<a href=\"/category/notices/?department=red\" target=\"\">Notices</a>\n",
       "</li>\n",
       "</ul>\n",
       "</li>\n",
       "<li class=\"menu-item menu-item-type-custom menu-item-object-custom menu-item-99558 2\">\n",
       "<a href=\"https://www.nrb.org.np/database-on-nepalese-economy/\" target=\"\">Database on Nepalese Economy</a>\n",
       "</li>\n",
       "<li class=\"menu-item menu-item-type-custom menu-item-object-custom menu-item-99559 2\">\n",
       "<a href=\"https://www.nrb.org.np/category/central-bank-survey-and-liquidity-position/?department=red\" target=\"\">Central Bank Survey and Liquidty Position</a>\n",
       "</li>\n",
       "</ul>\n",
       "</li>\n",
       "</ul>\n",
       "</div>\n",
       "</li>\n",
       "<li class=\"nav-item first-level-title menu-item menu-item-type-custom menu-item-object-custom menu-item-77800 menu-item-has-children dropdown position-static\">\n",
       "<a aria-expanded=\"false\" aria-haspopup=\"true\" class=\"h-100 align-items-center d-flex nav-link nav-link dropdown-toggle\" data-toggle=\"dropdown\" href=\"#\">Procurement</a>\n",
       "<div aria-labelledby=\"navbarDropdown\" class=\"dropdown-menu nav__megamenu text-white\">\n",
       "<ul class=\"submenu submenu--level-1\">\n",
       "<li class=\"menu-item menu-item-type-post_type menu-item-object-departments menu-item-99526 menu-item-has-children 1\">\n",
       "<a href=\"https://www.nrb.org.np/departments/gsd/\" target=\"\">Assets and Service Management Department</a>\n",
       "<ul class=\"submenu submenu--level-2\">\n",
       "<li class=\"menu-item menu-item-type-custom menu-item-object-custom menu-item-77801 2\">\n",
       "<a href=\"/category/notices/?department=gsd\" target=\"\">Notices</a>\n",
       "</li>\n",
       "<li class=\"menu-item menu-item-type-custom menu-item-object-custom menu-item-77802 2\">\n",
       "<a href=\"/category/global-tenders/\" target=\"\">Global Tenders</a>\n",
       "</li>\n",
       "<li class=\"menu-item menu-item-type-custom menu-item-object-custom menu-item-77803 2\">\n",
       "<a href=\"/category/domestic-tenders/\" target=\"\">Domestic Tenders</a>\n",
       "</li>\n",
       "<li class=\"menu-item menu-item-type-custom menu-item-object-custom menu-item-77804 2\">\n",
       "<a href=\"/category/pre-qualified-companies/?department=gsd\" target=\"\">Pre-qualified Companies</a>\n",
       "</li>\n",
       "</ul>\n",
       "</li>\n",
       "</ul>\n",
       "</div>\n",
       "</li>\n",
       "<li class=\"nav-item first-level-title menu-item menu-item-type-custom menu-item-object-custom menu-item-77805 menu-item-has-children dropdown position-static\">\n",
       "<a aria-expanded=\"false\" aria-haspopup=\"true\" class=\"h-100 align-items-center d-flex nav-link nav-link dropdown-toggle\" data-toggle=\"dropdown\" href=\"#\">Career</a>\n",
       "<div aria-labelledby=\"navbarDropdown\" class=\"dropdown-menu nav__megamenu text-white\">\n",
       "<ul class=\"submenu submenu--level-1\">\n",
       "<li class=\"menu-item menu-item-type-post_type menu-item-object-departments menu-item-99525 menu-item-has-children 1\">\n",
       "<a href=\"https://www.nrb.org.np/departments/hrm/\" target=\"\">Human Resources Management Department</a>\n",
       "<ul class=\"submenu submenu--level-2\">\n",
       "<li class=\"menu-item menu-item-type-custom menu-item-object-custom menu-item-99560 2\">\n",
       "<a href=\"https://jobs.nrb.org.np/\" target=\"_blank\">Online portal for contract application</a>\n",
       "</li>\n",
       "<li class=\"menu-item menu-item-type-custom menu-item-object-custom menu-item-99561 2\">\n",
       "<a href=\"https://jobs.nrb.org.np/\" target=\"_blank\">Online Portal for Open Competition</a>\n",
       "</li>\n",
       "<li class=\"menu-item menu-item-type-custom menu-item-object-custom menu-item-77806 2\">\n",
       "<a href=\"https://jobs.nrb.org.np/\" target=\"_blank\">Online Portal for Performance Evaluation Based Promotion &amp; Internal Competition</a>\n",
       "</li>\n",
       "<li class=\"menu-item menu-item-type-custom menu-item-object-custom menu-item-99505 2\">\n",
       "<a href=\"/category/notices/?department=hrm\" target=\"\">Notices</a>\n",
       "</li>\n",
       "<li class=\"menu-item menu-item-type-custom menu-item-object-custom menu-item-99506 2\">\n",
       "<a href=\"/category/open-competition-syllabus/\" target=\"\">खुल्ला प्रतियोगितात्मक परीक्षाको पाठ्यक्रम</a>\n",
       "</li>\n",
       "</ul>\n",
       "</li>\n",
       "</ul>\n",
       "</div>\n",
       "</li>\n",
       "<li class=\"nav-item menu-item menu-item-type-custom menu-item-object-custom menu-item-99502 menu-item-has-children dropdown position-static\">\n",
       "<a aria-expanded=\"false\" aria-haspopup=\"true\" class=\"h-100 align-items-center d-flex nav-link nav-link dropdown-toggle\" data-toggle=\"dropdown\" href=\"#\">Monetary <br/>Management</a>\n",
       "<div aria-labelledby=\"navbarDropdown\" class=\"dropdown-menu nav__megamenu text-white\">\n",
       "<ul class=\"submenu submenu--level-1\">\n",
       "<li class=\"menu-item menu-item-type-post_type menu-item-object-departments menu-item-99516 menu-item-has-children 1\">\n",
       "<a href=\"https://www.nrb.org.np/departments/pdm/\" target=\"\">Monetary Management Department</a>\n",
       "<ul class=\"submenu submenu--level-2\">\n",
       "<li class=\"menu-item menu-item-type-custom menu-item-object-custom menu-item-99562 2\">\n",
       "<a href=\"/category/pdm-notices/?department=pdm\" target=\"\">Notices</a>\n",
       "</li>\n",
       "<li class=\"menu-item menu-item-type-taxonomy menu-item-object-category menu-item-99563 2\">\n",
       "<a href=\"https://www.nrb.org.np/category/monetary-operations/\" target=\"\">Monetary Operations</a>\n",
       "</li>\n",
       "<li class=\"menu-item menu-item-type-taxonomy menu-item-object-category menu-item-103618 2\">\n",
       "<a href=\"https://www.nrb.org.np/category/reports/\" target=\"\">Data &amp; Reports</a>\n",
       "</li>\n",
       "<li class=\"menu-item menu-item-type-custom menu-item-object-custom menu-item-99565 2\">\n",
       "<a href=\"https://www.nrb.org.np/category/pdm-circulars/?department=pdm\" target=\"\">Circulars</a>\n",
       "</li>\n",
       "<li class=\"menu-item menu-item-type-custom menu-item-object-custom menu-item-99564 2\">\n",
       "<a href=\"https://www.nrb.org.np/category/acts-bylaws/?department=pdm\" target=\"\">Acts, Rules &amp; Bylaws, Policies &amp; Procedures</a>\n",
       "</li>\n",
       "</ul>\n",
       "</li>\n",
       "</ul>\n",
       "</div>\n",
       "</li>\n",
       "<li class=\"nav-item menu-item menu-item-type-custom menu-item-object-custom menu-item-99503 menu-item-has-children dropdown position-static\">\n",
       "<a aria-expanded=\"false\" aria-haspopup=\"true\" class=\"h-100 align-items-center d-flex nav-link nav-link dropdown-toggle\" data-toggle=\"dropdown\" href=\"#\">Media <br/> Speeches</a>\n",
       "<div aria-labelledby=\"navbarDropdown\" class=\"dropdown-menu nav__megamenu text-white\">\n",
       "<ul class=\"submenu submenu--level-1\">\n",
       "<li class=\"menu-item menu-item-type-custom menu-item-object-custom menu-item-99522 menu-item-has-children 1\">\n",
       "<span class=\"text-decoration-none nav-link p-0\">Media &amp; Speeches</span>\n",
       "<ul class=\"submenu submenu--level-2\">\n",
       "<li class=\"menu-item menu-item-type-custom menu-item-object-custom menu-item-99517 2\">\n",
       "<a href=\"https://www.nrb.org.np/category/media-releases/?department=ofg\" target=\"\">Media Release</a>\n",
       "</li>\n",
       "<li class=\"menu-item menu-item-type-custom menu-item-object-custom menu-item-99518 menu-item-has-children 2\">\n",
       "<span class=\"text-decoration-none nav-link p-0\">NRB Newsletters</span>\n",
       "<ul class=\"submenu submenu--level-3\">\n",
       "<li class=\"menu-item menu-item-type-custom menu-item-object-custom menu-item-99519 3\">\n",
       "<a href=\"/category/nepal-rastra-bank-news/?department=ofg\" target=\"\">NRB Quarterly news</a>\n",
       "</li>\n",
       "<li class=\"menu-item menu-item-type-custom menu-item-object-custom menu-item-99520 3\">\n",
       "<a href=\"/category/nepal-rastra-bank-samachar/?department=ofg\" target=\"\">NRB Monthly Samachar</a>\n",
       "</li>\n",
       "<li class=\"menu-item menu-item-type-custom menu-item-object-custom menu-item-99521 3\">\n",
       "<a href=\"/category/anniversary-publications/?department=ofg\" target=\"\">NRb Anniversary Publications</a>\n",
       "</li>\n",
       "</ul>\n",
       "</li>\n",
       "<li class=\"menu-item menu-item-type-custom menu-item-object-custom menu-item-99523 2\">\n",
       "<a href=\"https://www.nrb.org.np/category/governors-speech/?department=ofg\" target=\"\">Speeches</a>\n",
       "</li>\n",
       "<li class=\"menu-item menu-item-type-custom menu-item-object-custom menu-item-99524 2\">\n",
       "<a href=\"https://www.nrb.org.np/gallery/\" target=\"\">Gallery</a>\n",
       "</li>\n",
       "</ul>\n",
       "</li>\n",
       "</ul>\n",
       "</div>\n",
       "</li>\n",
       "<li class=\"nav-item menu-item menu-item-type-custom menu-item-object-custom menu-item-99504\">\n",
       "<a class=\"h-100 align-items-center d-flex nav-link\" href=\"/category/faqs/\">FAQS</a>\n",
       "</li>\n",
       "</ul>\n",
       "<ul class=\"navbar-nav align-items-lg-center align-items-start ml-auto show-for-mobile\">\n",
       "<li class=\"nav-item menu-item menu-item-type-custom menu-item-object-custom menu-item-77726 menu-item-has-children\">\n",
       "<span class=\"nav-link nav-link text-decoration-none\">About</span>\n",
       "<ul class=\"submenu submenu--level-1\">\n",
       "<li class=\"first-level-title menu-item menu-item-type-custom menu-item-object-custom menu-item-77727 menu-item-has-children 1\">\n",
       "<span class=\"text-decoration-none nav-link p-0\">Introduction</span>\n",
       "<ul class=\"submenu submenu--level-2\">\n",
       "<li class=\"menu-item menu-item-type-post_type menu-item-object-page menu-item-77728 2\">\n",
       "<a href=\"https://www.nrb.org.np/about/\" target=\"\">About NRB</a>\n",
       "</li>\n",
       "<li class=\"menu-item menu-item-type-post_type menu-item-object-page menu-item-77729 2\">\n",
       "<a href=\"https://www.nrb.org.np/bod/\" target=\"\">Board of Directors</a>\n",
       "</li>\n",
       "<li class=\"menu-item menu-item-type-post_type menu-item-object-page menu-item-77730 2\">\n",
       "<a href=\"https://www.nrb.org.np/principal-officer/\" target=\"\">Principal Officers</a>\n",
       "</li>\n",
       "<li class=\"menu-item menu-item-type-post_type menu-item-object-page menu-item-77731 2\">\n",
       "<a href=\"https://www.nrb.org.np/information-officers/\" target=\"\">Information Officers</a>\n",
       "</li>\n",
       "<li class=\"menu-item menu-item-type-post_type menu-item-object-page menu-item-77732 2\">\n",
       "<a href=\"https://www.nrb.org.np/organogram/\" target=\"\">Organogram</a>\n",
       "</li>\n",
       "</ul>\n",
       "</li>\n",
       "<li class=\"first-level-title menu-item menu-item-type-custom menu-item-object-custom menu-item-77733 menu-item-has-children 1\">\n",
       "<span class=\"text-decoration-none nav-link p-0\">About Us</span>\n",
       "<ul class=\"submenu submenu--level-2\">\n",
       "<li class=\"menu-item menu-item-type-post_type menu-item-object-page menu-item-77734 2\">\n",
       "<a href=\"https://www.nrb.org.np/departments/\" target=\"\">Departments, Offices, Divisions and Units</a>\n",
       "</li>\n",
       "<li class=\"menu-item menu-item-type-post_type menu-item-object-page menu-item-77735 2\">\n",
       "<a href=\"https://www.nrb.org.np/provincial-offices/\" target=\"\">Provincial Offices</a>\n",
       "</li>\n",
       "<li class=\"menu-item menu-item-type-custom menu-item-object-custom menu-item-77736 2\">\n",
       "<a href=\"/category/annual-financial-statements/?department=fmd\" target=\"\">Financial Statements</a>\n",
       "</li>\n",
       "<li class=\"menu-item menu-item-type-post_type menu-item-object-page menu-item-77737 2\">\n",
       "<a href=\"https://www.nrb.org.np/contact/\" target=\"\">Contact</a>\n",
       "</li>\n",
       "<li class=\"menu-item menu-item-type-post_type menu-item-object-page menu-item-77738 2\">\n",
       "<a href=\"https://www.nrb.org.np/feedback/\" target=\"\">Feedback</a>\n",
       "</li>\n",
       "<li class=\"menu-item menu-item-type-custom menu-item-object-custom menu-item-77739 2\">\n",
       "<a href=\"/sitemap_index.xml\" target=\"\">Sitemap</a>\n",
       "</li>\n",
       "</ul>\n",
       "</li>\n",
       "</ul>\n",
       "</li>\n",
       "<li class=\"nav-item menu-item menu-item-type-custom menu-item-object-custom menu-item-77740 menu-item-has-children\">\n",
       "<span class=\"nav-link nav-link text-decoration-none\">Laws, Policies &amp;<br/> Guidelines</span>\n",
       "<ul class=\"submenu submenu--level-1\">\n",
       "<li class=\"first-level-title menu-item menu-item-type-custom menu-item-object-custom menu-item-77741 menu-item-has-children 1\">\n",
       "<span class=\"text-decoration-none nav-link p-0\">Laws and Legislation</span>\n",
       "<ul class=\"submenu submenu--level-2\">\n",
       "<li class=\"menu-item menu-item-type-custom menu-item-object-custom menu-item-77742 2\">\n",
       "<a href=\"/category/acts/?department=lgd\" target=\"\">Acts</a>\n",
       "</li>\n",
       "<li class=\"menu-item menu-item-type-custom menu-item-object-custom menu-item-77743 2\">\n",
       "<a href=\"/category/rules-by-laws/?department=lgd\" target=\"\">Rules and Bylaws</a>\n",
       "</li>\n",
       "</ul>\n",
       "</li>\n",
       "<li class=\"first-level-title menu-item menu-item-type-custom menu-item-object-custom menu-item-77744 menu-item-has-children 1\">\n",
       "<span class=\"text-decoration-none nav-link p-0\">Policies and Guidelines</span>\n",
       "<ul class=\"submenu submenu--level-2\">\n",
       "<li class=\"menu-item menu-item-type-custom menu-item-object-custom menu-item-77745 2\">\n",
       "<a href=\"/category/notices/?department=ofg\" target=\"\">Notices</a>\n",
       "</li>\n",
       "<li class=\"menu-item menu-item-type-custom menu-item-object-custom menu-item-77746 2\">\n",
       "<a href=\"/category/manual-guidelines/?department=ofg\" target=\"\">Guidelines and Manuals</a>\n",
       "</li>\n",
       "<li class=\"menu-item menu-item-type-custom menu-item-object-custom menu-item-77747 2\">\n",
       "<a href=\"/category/policies/?department=ofg\" target=\"\">Other Policies</a>\n",
       "</li>\n",
       "<li class=\"menu-item menu-item-type-custom menu-item-object-custom menu-item-77748 2\">\n",
       "<a href=\"/category/monetary-policy/?department=ofg\" target=\"\">Monetary Policy</a>\n",
       "</li>\n",
       "</ul>\n",
       "</li>\n",
       "</ul>\n",
       "</li>\n",
       "<li class=\"nav-item menu-item menu-item-type-custom menu-item-object-custom menu-item-77749 menu-item-has-children\">\n",
       "<span class=\"nav-link nav-link text-decoration-none\">Regulations &amp; <br/> Supervisions</span>\n",
       "<ul class=\"submenu submenu--level-1\">\n",
       "<li class=\"first-level-title menu-item menu-item-type-custom menu-item-object-custom menu-item-77750 menu-item-has-children 1\">\n",
       "<span class=\"text-decoration-none nav-link p-0\">Regulations</span>\n",
       "<ul class=\"submenu submenu--level-2\">\n",
       "<li class=\"menu-item menu-item-type-post_type menu-item-object-departments menu-item-77751 menu-item-has-children 2\">\n",
       "<a href=\"https://www.nrb.org.np/departments/bfr/\" target=\"\">Banks &amp; Financial Institutions</a>\n",
       "<ul class=\"submenu submenu--level-3\">\n",
       "<li class=\"menu-item menu-item-type-custom menu-item-object-custom menu-item-77752 3\">\n",
       "<a href=\"/category/miscellaneous-notices/?department=bfr\" target=\"\">Notices</a>\n",
       "</li>\n",
       "<li class=\"menu-item menu-item-type-custom menu-item-object-custom menu-item-77753 3\">\n",
       "<a href=\"/category/financial-stability-report/?department=bfr\" target=\"\">Financial Stability Report</a>\n",
       "</li>\n",
       "<li class=\"menu-item menu-item-type-custom menu-item-object-custom menu-item-77754 3\">\n",
       "<a href=\"/category/circulars/?department=bfr\" target=\"\">Circulars</a>\n",
       "</li>\n",
       "<li class=\"menu-item menu-item-type-custom menu-item-object-custom menu-item-77755 3\">\n",
       "<a href=\"http://gunaso.nrb.org.np/\" target=\"\">Financial Consumer Protection</a>\n",
       "</li>\n",
       "</ul>\n",
       "</li>\n",
       "<li class=\"menu-item menu-item-type-post_type menu-item-object-departments menu-item-77756 menu-item-has-children 2\">\n",
       "<a href=\"https://www.nrb.org.np/departments/fxm/\" target=\"\">Foreign Exchange Management</a>\n",
       "<ul class=\"submenu submenu--level-3\">\n",
       "<li class=\"menu-item menu-item-type-custom menu-item-object-custom menu-item-77757 3\">\n",
       "<a href=\"/category/notices/?department=fxm\" target=\"\">Notices</a>\n",
       "</li>\n",
       "<li class=\"menu-item menu-item-type-custom menu-item-object-custom menu-item-77758 3\">\n",
       "<a href=\"/category/fxm-circulars/%e0%a4%b5%e0%a4%bf%e0%a4%a6%e0%a5%87%e0%a4%b6%e0%a5%80-%e0%a4%b5%e0%a4%bf%e0%a4%a8%e0%a4%bf%e0%a4%ae%e0%a4%af-%e0%a4%b5%e0%a5%8d%e0%a4%af%e0%a4%b5%e0%a4%b8%e0%a5%8d%e0%a4%a5%e0%a4%be%e0%a4%aa%e0%a4%a8/?department=fxm\" target=\"\">Circulars</a>\n",
       "</li>\n",
       "</ul>\n",
       "</li>\n",
       "<li class=\"menu-item menu-item-type-post_type menu-item-object-departments menu-item-77759 menu-item-has-children 2\">\n",
       "<a href=\"https://www.nrb.org.np/departments/psd/\" target=\"\">Payment Systems</a>\n",
       "<ul class=\"submenu submenu--level-3\">\n",
       "<li class=\"menu-item menu-item-type-custom menu-item-object-custom menu-item-77760 3\">\n",
       "<a href=\"/category/notices/?department=psd\" target=\"\">Notices</a>\n",
       "</li>\n",
       "<li class=\"menu-item menu-item-type-custom menu-item-object-custom menu-item-77761 3\">\n",
       "<a href=\"/category/circulars/?department=psd\" target=\"\">Circulars</a>\n",
       "</li>\n",
       "<li class=\"menu-item menu-item-type-custom menu-item-object-custom menu-item-77762 3\">\n",
       "<a href=\"/category/policies-guidelines/?department=psd\" target=\"\">Policies, Guidelines</a>\n",
       "</li>\n",
       "</ul>\n",
       "</li>\n",
       "<li class=\"menu-item menu-item-type-post_type menu-item-object-departments menu-item-77763 menu-item-has-children 2\">\n",
       "<a href=\"https://www.nrb.org.np/departments/bkd/\" target=\"\">Banking Department</a>\n",
       "<ul class=\"submenu submenu--level-3\">\n",
       "<li class=\"menu-item menu-item-type-custom menu-item-object-custom menu-item-77764 3\">\n",
       "<a href=\"/category/notices/?department=bkd\" target=\"\">Notices</a>\n",
       "</li>\n",
       "<li class=\"menu-item menu-item-type-custom menu-item-object-custom menu-item-77765 3\">\n",
       "<a href=\"/category/ecc-notices/?department=bkd\" target=\"\">ECC Notices</a>\n",
       "</li>\n",
       "</ul>\n",
       "</li>\n",
       "</ul>\n",
       "</li>\n",
       "<li class=\"first-level-title menu-item menu-item-type-custom menu-item-object-custom menu-item-77766 menu-item-has-children 1\">\n",
       "<span class=\"text-decoration-none nav-link p-0\">Supervisions</span>\n",
       "<ul class=\"submenu submenu--level-2\">\n",
       "<li class=\"menu-item menu-item-type-post_type menu-item-object-departments menu-item-77767 menu-item-has-children 2\">\n",
       "<a href=\"https://www.nrb.org.np/departments/bsd/\" target=\"\">Bank Supervision</a>\n",
       "<ul class=\"submenu submenu--level-3\">\n",
       "<li class=\"menu-item menu-item-type-custom menu-item-object-custom menu-item-77768 3\">\n",
       "<a href=\"/category/enforcement-action/?department=bsd\" target=\"\">Enforcement Action</a>\n",
       "</li>\n",
       "<li class=\"menu-item menu-item-type-custom menu-item-object-custom menu-item-77769 3\">\n",
       "<a href=\"/category/key-financial-indicators/?department=bsd\" target=\"\">Key Financial Indicators</a>\n",
       "</li>\n",
       "<li class=\"menu-item menu-item-type-custom menu-item-object-custom menu-item-77770 3\">\n",
       "<a href=\"/category/annual-reports/?department=bsd\" target=\"\">Annual Reports</a>\n",
       "</li>\n",
       "</ul>\n",
       "</li>\n",
       "<li class=\"menu-item menu-item-type-post_type menu-item-object-departments menu-item-103623 menu-item-has-children 2\">\n",
       "<a href=\"https://www.nrb.org.np/departments/fisd/\" target=\"\">Financial Institutions Supervision Department</a>\n",
       "<ul class=\"submenu submenu--level-3\">\n",
       "<li class=\"menu-item menu-item-type-custom menu-item-object-custom menu-item-103628 3\">\n",
       "<a href=\"https://www.nrb.org.np/category/enforcement-action/?department=fisd\" target=\"\">Enforcement Action</a>\n",
       "</li>\n",
       "<li class=\"menu-item menu-item-type-custom menu-item-object-custom menu-item-77776 3\">\n",
       "<a href=\"/category/key-financial-highlights/?department=fisd\" target=\"\">Key Financial Highlights</a>\n",
       "</li>\n",
       "<li class=\"menu-item menu-item-type-custom menu-item-object-custom menu-item-103627 3\">\n",
       "<a href=\"https://www.nrb.org.np/category/annual-supervision-report/?department=fisd\" target=\"\">Annual Reports</a>\n",
       "</li>\n",
       "</ul>\n",
       "</li>\n",
       "<li class=\"menu-item menu-item-type-post_type menu-item-object-departments menu-item-77777 menu-item-has-children 2\">\n",
       "<a href=\"https://www.nrb.org.np/departments/mfd/\" target=\"\">Microfinance Institutions Supervision Department</a>\n",
       "<ul class=\"submenu submenu--level-3\">\n",
       "<li class=\"menu-item menu-item-type-custom menu-item-object-custom menu-item-77778 3\">\n",
       "<a href=\"/category/current-microfinance-activities/?department=mfd\" target=\"\">Current Microfinance Activities</a>\n",
       "</li>\n",
       "<li class=\"menu-item menu-item-type-custom menu-item-object-custom menu-item-77779 3\">\n",
       "<a href=\"/category/sources-uses-and-progress-report/?department=mfd\" target=\"\">Sources/Uses and Progress Report</a>\n",
       "</li>\n",
       "</ul>\n",
       "</li>\n",
       "<li class=\"menu-item menu-item-type-post_type menu-item-object-departments menu-item-78222 menu-item-has-children 2\">\n",
       "<a href=\"https://www.nrb.org.np/departments/nbfisd/\" target=\"\">Non-Bank Financial Institutions Supervision Department</a>\n",
       "<ul class=\"submenu submenu--level-3\">\n",
       "<li class=\"menu-item menu-item-type-custom menu-item-object-custom menu-item-78220 3\">\n",
       "<a href=\"https://www.nrb.org.np/category/notices/?department=nbfisd\" target=\"\">Notices</a>\n",
       "</li>\n",
       "<li class=\"menu-item menu-item-type-custom menu-item-object-custom menu-item-78221 3\">\n",
       "<a href=\"https://www.nrb.org.np/departments/nbfisd/\" target=\"\">Bylaws</a>\n",
       "</li>\n",
       "</ul>\n",
       "</li>\n",
       "</ul>\n",
       "</li>\n",
       "</ul>\n",
       "</li>\n",
       "<li class=\"nav-item menu-item menu-item-type-custom menu-item-object-custom menu-item-77780 menu-item-has-children\">\n",
       "<span class=\"nav-link nav-link text-decoration-none\">Publications &amp; <br/> Statistics</span>\n",
       "<ul class=\"submenu submenu--level-1\">\n",
       "<li class=\"first-level-title menu-item menu-item-type-custom menu-item-object-custom menu-item-77781 menu-item-has-children 1\">\n",
       "<span class=\"text-decoration-none nav-link p-0\">Publications</span>\n",
       "<ul class=\"submenu submenu--level-2\">\n",
       "<li class=\"menu-item menu-item-type-post_type menu-item-object-departments menu-item-99552 menu-item-has-children 2\">\n",
       "<a href=\"https://www.nrb.org.np/departments/red/\" target=\"\">Economic Research Department</a>\n",
       "<ul class=\"submenu submenu--level-3\">\n",
       "<li class=\"menu-item menu-item-type-custom menu-item-object-custom menu-item-77782 3\">\n",
       "<a href=\"/category/annual-reports/?department=red\" target=\"\">Annual Reports</a>\n",
       "</li>\n",
       "<li class=\"menu-item menu-item-type-custom menu-item-object-custom menu-item-77783 3\">\n",
       "<a href=\"/economic-review\" target=\"\">Economic Review</a>\n",
       "</li>\n",
       "<li class=\"menu-item menu-item-type-custom menu-item-object-custom menu-item-77784 3\">\n",
       "<a href=\"/category/economic-bulletin/?department=red\" target=\"\">Economic Bulletin &amp; Indicators</a>\n",
       "</li>\n",
       "<li class=\"menu-item menu-item-type-custom menu-item-object-custom menu-item-77785 3\">\n",
       "<a href=\"/category/nrb-working-paper/?department=red\" target=\"\">NRB Working Papers</a>\n",
       "</li>\n",
       "<li class=\"menu-item menu-item-type-custom menu-item-object-custom menu-item-77786 3\">\n",
       "<a href=\"/category/study-reports/?department=red\" target=\"\">Study Reports</a>\n",
       "</li>\n",
       "<li class=\"menu-item menu-item-type-custom menu-item-object-custom menu-item-77787 3\">\n",
       "<a href=\"/category/economic-activities-study-reports/?department=red\" target=\"\">Economic Activities Study Reports</a>\n",
       "</li>\n",
       "<li class=\"menu-item menu-item-type-custom menu-item-object-custom menu-item-77788 3\">\n",
       "<a href=\"https://www.nrb.org.np/category/current-macroeconomic-situation/?department=red\" target=\"\">Current Macro-Economic and Financial Situation</a>\n",
       "</li>\n",
       "<li class=\"menu-item menu-item-type-custom menu-item-object-custom menu-item-77791 3\">\n",
       "<a href=\"https://www.nrb.org.np/category/financial-corporations-survey/?department=red\" target=\"\">Financial Corporations Survey (FCS)</a>\n",
       "</li>\n",
       "</ul>\n",
       "</li>\n",
       "<li class=\"menu-item menu-item-type-custom menu-item-object-custom menu-item-99548 menu-item-has-children 2\">\n",
       "<span class=\"text-decoration-none nav-link p-0\">Other Publications</span>\n",
       "<ul class=\"submenu submenu--level-3\">\n",
       "<li class=\"menu-item menu-item-type-custom menu-item-object-custom menu-item-77792 3\">\n",
       "<a href=\"/category/special-publications/?department=ofg\" target=\"\">Special Publications</a>\n",
       "</li>\n",
       "<li class=\"menu-item menu-item-type-custom menu-item-object-custom menu-item-77793 3\">\n",
       "<a href=\"/category/golden-jubilee-publications/?department=ofg\" target=\"\">Golden Jubilee Publications</a>\n",
       "</li>\n",
       "<li class=\"menu-item menu-item-type-custom menu-item-object-custom menu-item-77794 3\">\n",
       "<span class=\"text-decoration-none nav-link p-0\">Arthabodh Annual Publication</span>\n",
       "</li>\n",
       "<li class=\"navbar-border-top- menu-item menu-item-type-post_type menu-item-object-page menu-item-77795 3\">\n",
       "<a href=\"https://www.nrb.org.np/banknotes-security-features/\" target=\"\">Know Your Bank Notes</a>\n",
       "</li>\n",
       "</ul>\n",
       "</li>\n",
       "</ul>\n",
       "</li>\n",
       "<li class=\"first-level-title menu-item menu-item-type-custom menu-item-object-custom menu-item-77796 menu-item-has-children 1\">\n",
       "<span class=\"text-decoration-none nav-link p-0\">Statistics</span>\n",
       "<ul class=\"submenu submenu--level-2\">\n",
       "<li class=\"menu-item menu-item-type-post_type menu-item-object-departments menu-item-99551 menu-item-has-children 2\">\n",
       "<a href=\"https://www.nrb.org.np/departments/bfr/\" target=\"\">Banks &amp; Financial Institutions Regulation Department</a>\n",
       "<ul class=\"submenu submenu--level-3\">\n",
       "<li class=\"menu-item menu-item-type-custom menu-item-object-custom menu-item-99553 3\">\n",
       "<a href=\"/category/financial-stability-report/?department=red\" target=\"\">Financial Stability Report</a>\n",
       "</li>\n",
       "<li class=\"menu-item menu-item-type-custom menu-item-object-custom menu-item-77797 3\">\n",
       "<a href=\"/category/monthly-statistics/?department=bfr\" target=\"\">Monthly Statistics</a>\n",
       "</li>\n",
       "<li class=\"menu-item menu-item-type-custom menu-item-object-custom menu-item-99554 3\">\n",
       "<a href=\"/category/banking-and-financial-statistics/?department=bfr\" target=\"\">Banking and Financial Statistics</a>\n",
       "</li>\n",
       "<li class=\"menu-item menu-item-type-custom menu-item-object-custom menu-item-99555 3\">\n",
       "<a href=\"/category/quarterly-financial-highlights-of-commercial-banks/?department=bfr\" target=\"\">Quartely Financial Highlights</a>\n",
       "</li>\n",
       "<li class=\"menu-item menu-item-type-custom menu-item-object-custom menu-item-99556 3\">\n",
       "<a href=\"/category/interest-rate-structure/?department=bfr\" target=\"\">Interest Rate Archives</a>\n",
       "</li>\n",
       "<li class=\"menu-item menu-item-type-custom menu-item-object-custom menu-item-77798 3\">\n",
       "<a href=\"/category/concessional-loan/?department=bfr\" target=\"\">Concessional Loan</a>\n",
       "</li>\n",
       "</ul>\n",
       "</li>\n",
       "<li class=\"menu-item menu-item-type-post_type menu-item-object-departments menu-item-99550 menu-item-has-children 2\">\n",
       "<a href=\"https://www.nrb.org.np/departments/red/\" target=\"\">Research</a>\n",
       "<ul class=\"submenu submenu--level-3\">\n",
       "<li class=\"menu-item menu-item-type-post_type menu-item-object-page menu-item-77799 3\">\n",
       "<a href=\"https://www.nrb.org.np/egdds/\" target=\"\">e-GDDS</a>\n",
       "</li>\n",
       "<li class=\"menu-item menu-item-type-custom menu-item-object-custom menu-item-99557 3\">\n",
       "<a href=\"/category/notices/?department=red\" target=\"\">Notices</a>\n",
       "</li>\n",
       "</ul>\n",
       "</li>\n",
       "<li class=\"menu-item menu-item-type-custom menu-item-object-custom menu-item-99558 2\">\n",
       "<a href=\"https://www.nrb.org.np/database-on-nepalese-economy/\" target=\"\">Database on Nepalese Economy</a>\n",
       "</li>\n",
       "<li class=\"menu-item menu-item-type-custom menu-item-object-custom menu-item-99559 2\">\n",
       "<a href=\"https://www.nrb.org.np/category/central-bank-survey-and-liquidity-position/?department=red\" target=\"\">Central Bank Survey and Liquidty Position</a>\n",
       "</li>\n",
       "</ul>\n",
       "</li>\n",
       "</ul>\n",
       "</li>\n",
       "<li class=\"nav-item first-level-title menu-item menu-item-type-custom menu-item-object-custom menu-item-77800 menu-item-has-children\">\n",
       "<span class=\"nav-link nav-link text-decoration-none\">Procurement</span>\n",
       "<ul class=\"submenu submenu--level-1\">\n",
       "<li class=\"menu-item menu-item-type-post_type menu-item-object-departments menu-item-99526 menu-item-has-children 1\">\n",
       "<a href=\"https://www.nrb.org.np/departments/gsd/\" target=\"\">Assets and Service Management Department</a>\n",
       "<ul class=\"submenu submenu--level-2\">\n",
       "<li class=\"menu-item menu-item-type-custom menu-item-object-custom menu-item-77801 2\">\n",
       "<a href=\"/category/notices/?department=gsd\" target=\"\">Notices</a>\n",
       "</li>\n",
       "<li class=\"menu-item menu-item-type-custom menu-item-object-custom menu-item-77802 2\">\n",
       "<a href=\"/category/global-tenders/\" target=\"\">Global Tenders</a>\n",
       "</li>\n",
       "<li class=\"menu-item menu-item-type-custom menu-item-object-custom menu-item-77803 2\">\n",
       "<a href=\"/category/domestic-tenders/\" target=\"\">Domestic Tenders</a>\n",
       "</li>\n",
       "<li class=\"menu-item menu-item-type-custom menu-item-object-custom menu-item-77804 2\">\n",
       "<a href=\"/category/pre-qualified-companies/?department=gsd\" target=\"\">Pre-qualified Companies</a>\n",
       "</li>\n",
       "</ul>\n",
       "</li>\n",
       "</ul>\n",
       "</li>\n",
       "<li class=\"nav-item first-level-title menu-item menu-item-type-custom menu-item-object-custom menu-item-77805 menu-item-has-children\">\n",
       "<span class=\"nav-link nav-link text-decoration-none\">Career</span>\n",
       "<ul class=\"submenu submenu--level-1\">\n",
       "<li class=\"menu-item menu-item-type-post_type menu-item-object-departments menu-item-99525 menu-item-has-children 1\">\n",
       "<a href=\"https://www.nrb.org.np/departments/hrm/\" target=\"\">Human Resources Management Department</a>\n",
       "<ul class=\"submenu submenu--level-2\">\n",
       "<li class=\"menu-item menu-item-type-custom menu-item-object-custom menu-item-99560 2\">\n",
       "<a href=\"https://jobs.nrb.org.np/\" target=\"_blank\">Online portal for contract application</a>\n",
       "</li>\n",
       "<li class=\"menu-item menu-item-type-custom menu-item-object-custom menu-item-99561 2\">\n",
       "<a href=\"https://jobs.nrb.org.np/\" target=\"_blank\">Online Portal for Open Competition</a>\n",
       "</li>\n",
       "<li class=\"menu-item menu-item-type-custom menu-item-object-custom menu-item-77806 2\">\n",
       "<a href=\"https://jobs.nrb.org.np/\" target=\"_blank\">Online Portal for Performance Evaluation Based Promotion &amp; Internal Competition</a>\n",
       "</li>\n",
       "<li class=\"menu-item menu-item-type-custom menu-item-object-custom menu-item-99505 2\">\n",
       "<a href=\"/category/notices/?department=hrm\" target=\"\">Notices</a>\n",
       "</li>\n",
       "<li class=\"menu-item menu-item-type-custom menu-item-object-custom menu-item-99506 2\">\n",
       "<a href=\"/category/open-competition-syllabus/\" target=\"\">खुल्ला प्रतियोगितात्मक परीक्षाको पाठ्यक्रम</a>\n",
       "</li>\n",
       "</ul>\n",
       "</li>\n",
       "</ul>\n",
       "</li>\n",
       "<li class=\"nav-item menu-item menu-item-type-custom menu-item-object-custom menu-item-99502 menu-item-has-children\">\n",
       "<span class=\"nav-link nav-link text-decoration-none\">Monetary <br/>Management</span>\n",
       "<ul class=\"submenu submenu--level-1\">\n",
       "<li class=\"menu-item menu-item-type-post_type menu-item-object-departments menu-item-99516 menu-item-has-children 1\">\n",
       "<a href=\"https://www.nrb.org.np/departments/pdm/\" target=\"\">Monetary Management Department</a>\n",
       "<ul class=\"submenu submenu--level-2\">\n",
       "<li class=\"menu-item menu-item-type-custom menu-item-object-custom menu-item-99562 2\">\n",
       "<a href=\"/category/pdm-notices/?department=pdm\" target=\"\">Notices</a>\n",
       "</li>\n",
       "<li class=\"menu-item menu-item-type-taxonomy menu-item-object-category menu-item-99563 2\">\n",
       "<a href=\"https://www.nrb.org.np/category/monetary-operations/\" target=\"\">Monetary Operations</a>\n",
       "</li>\n",
       "<li class=\"menu-item menu-item-type-taxonomy menu-item-object-category menu-item-103618 2\">\n",
       "<a href=\"https://www.nrb.org.np/category/reports/\" target=\"\">Data &amp; Reports</a>\n",
       "</li>\n",
       "<li class=\"menu-item menu-item-type-custom menu-item-object-custom menu-item-99565 2\">\n",
       "<a href=\"https://www.nrb.org.np/category/pdm-circulars/?department=pdm\" target=\"\">Circulars</a>\n",
       "</li>\n",
       "<li class=\"menu-item menu-item-type-custom menu-item-object-custom menu-item-99564 2\">\n",
       "<a href=\"https://www.nrb.org.np/category/acts-bylaws/?department=pdm\" target=\"\">Acts, Rules &amp; Bylaws, Policies &amp; Procedures</a>\n",
       "</li>\n",
       "</ul>\n",
       "</li>\n",
       "</ul>\n",
       "</li>\n",
       "<li class=\"nav-item menu-item menu-item-type-custom menu-item-object-custom menu-item-99503 menu-item-has-children\">\n",
       "<span class=\"nav-link nav-link text-decoration-none\">Media <br/> Speeches</span>\n",
       "<ul class=\"submenu submenu--level-1\">\n",
       "<li class=\"menu-item menu-item-type-custom menu-item-object-custom menu-item-99522 menu-item-has-children 1\">\n",
       "<span class=\"text-decoration-none nav-link p-0\">Media &amp; Speeches</span>\n",
       "<ul class=\"submenu submenu--level-2\">\n",
       "<li class=\"menu-item menu-item-type-custom menu-item-object-custom menu-item-99517 2\">\n",
       "<a href=\"https://www.nrb.org.np/category/media-releases/?department=ofg\" target=\"\">Media Release</a>\n",
       "</li>\n",
       "<li class=\"menu-item menu-item-type-custom menu-item-object-custom menu-item-99518 menu-item-has-children 2\">\n",
       "<span class=\"text-decoration-none nav-link p-0\">NRB Newsletters</span>\n",
       "<ul class=\"submenu submenu--level-3\">\n",
       "<li class=\"menu-item menu-item-type-custom menu-item-object-custom menu-item-99519 3\">\n",
       "<a href=\"/category/nepal-rastra-bank-news/?department=ofg\" target=\"\">NRB Quarterly news</a>\n",
       "</li>\n",
       "<li class=\"menu-item menu-item-type-custom menu-item-object-custom menu-item-99520 3\">\n",
       "<a href=\"/category/nepal-rastra-bank-samachar/?department=ofg\" target=\"\">NRB Monthly Samachar</a>\n",
       "</li>\n",
       "<li class=\"menu-item menu-item-type-custom menu-item-object-custom menu-item-99521 3\">\n",
       "<a href=\"/category/anniversary-publications/?department=ofg\" target=\"\">NRb Anniversary Publications</a>\n",
       "</li>\n",
       "</ul>\n",
       "</li>\n",
       "<li class=\"menu-item menu-item-type-custom menu-item-object-custom menu-item-99523 2\">\n",
       "<a href=\"https://www.nrb.org.np/category/governors-speech/?department=ofg\" target=\"\">Speeches</a>\n",
       "</li>\n",
       "<li class=\"menu-item menu-item-type-custom menu-item-object-custom menu-item-99524 2\">\n",
       "<a href=\"https://www.nrb.org.np/gallery/\" target=\"\">Gallery</a>\n",
       "</li>\n",
       "</ul>\n",
       "</li>\n",
       "</ul>\n",
       "</li>\n",
       "<li class=\"nav-item menu-item menu-item-type-custom menu-item-object-custom menu-item-99504\">\n",
       "<a class=\"nav-link\" href=\"/category/faqs/\">FAQS</a>\n",
       "</li>\n",
       "</ul>\n",
       "</div>\n",
       "</nav>\n",
       "</div>\n",
       "</header>\n",
       "<section class=\"content-wrapper mt-5 mt-md-3\" id=\"content\" role=\"main\">\n",
       "<div class=\"\">\n",
       "<div class=\"container\">\n",
       "<div class=\"row justify-content-center\">\n",
       "<div class=\"d-none d-lg-block col-md-12 col-lg-2\">\n",
       "<div class=\"sidebar sidebar--left sticky-top mt-3\" id=\"sticky-sidenav\" style=\"top: 6 rem; z-index: 999;\">\n",
       "<div class=\"sidebar sidebar--left mt-0 mt-md-3\">\n",
       "<div class=\"widget widget_nav_menu ml-md-3\" id=\"nav_menu-7\"><div class=\"menu-sidebar-menu-container\"><ul class=\"menu\" id=\"menu-sidebar-menu\"><li class=\"menu-item menu-item-type-post_type menu-item-object-page menu-item-491\" id=\"menu-item-491\"><a href=\"https://www.nrb.org.np/financial-literacy/\">Financial Literacy</a></li>\n",
       "<li class=\"menu-item menu-item-type-post_type menu-item-object-page menu-item-493\" id=\"menu-item-493\"><a href=\"https://www.nrb.org.np/bank-list/\">BFI List</a></li>\n",
       "<li class=\"menu-item menu-item-type-post_type menu-item-object-page menu-item-490\" id=\"menu-item-490\"><a href=\"https://www.nrb.org.np/banknotes-security-features/\">Bank Notes Security Features</a></li>\n",
       "<li class=\"menu-item menu-item-type-post_type menu-item-object-page menu-item-495\" id=\"menu-item-495\"><a href=\"https://www.nrb.org.np/departments/\">Departments</a></li>\n",
       "<li class=\"menu-item menu-item-type-post_type menu-item-object-page menu-item-494\" id=\"menu-item-494\"><a href=\"https://www.nrb.org.np/egdds/\">e-GDDS</a></li>\n",
       "<li class=\"menu-item menu-item-type-post_type menu-item-object-page menu-item-489\" id=\"menu-item-489\"><a href=\"https://www.nrb.org.np/organogram/\">Organogram</a></li>\n",
       "</ul></div></div>\n",
       "</div>\n",
       "</div>\n",
       "</div>\n",
       "<div class=\"col-lg-10 col-md-12 mb-2\">\n",
       "<div class=\"card-bt card-bt--nrb mt-3 mb-3\">\n",
       "<div class=\"card-bt-header\">\n",
       "<div class=\"card-bt-header-maintitle\">\n",
       "            Foreign Exchange Rates\n",
       "        </div>\n",
       "<div class=\"card-bt-header-subtitle\">\n",
       "<div class=\"breadcrumb\"><span><span><a href=\"https://www.nrb.org.np/\">Home</a> » <span aria-current=\"page\" class=\"breadcrumb_last\">Foreign Exchange Rate</span></span></span></div>\n",
       "</div>\n",
       "</div>\n",
       "<div class=\"card-bt-divider\"></div>\n",
       "<div class=\"card-bt-body\">\n",
       "<div class=\"body-h3\">\n",
       "            Showing Exchange Rate for April 7, 2025\n",
       "         </div>\n",
       "<p class=\"\">\n",
       "</p><form action=\"\" id=\"forexDate\" method=\"POST\">\n",
       "<div class=\"d-flex align-items-center\">\n",
       "<div class=\"text-primary font-size-s mr-3\">Select Date:\n",
       "                  </div>\n",
       "<div>\n",
       "<input class=\"form-control br-0\" id=\"target\" name=\"date\" type=\"date\" value=\"\"/>\n",
       "</div>\n",
       "<div class=\"\">\n",
       "<button class=\"btn btn-primary px-3\" form=\"forexDate\" type=\"submit\" value=\"submit\">Go</button>\n",
       "</div>\n",
       "</div>\n",
       "</form>\n",
       "</div>\n",
       "<div class=\"card-bt-section\">\n",
       "<div class=\"body-h3 card-bt-header-title main-title\" id=\"call-for-papers\">Fixed by Nepal Rastra Bank</div>\n",
       "<div class=\"card-layout\">\n",
       "<div class=\"table-responsive\">\n",
       "<table class=\"table table-hover table-borderless\">\n",
       "<thead>\n",
       "<tr>\n",
       "<th scope=\"col\">Currency</th>\n",
       "<th scope=\"col\">Unit</th>\n",
       "<th scope=\"col\">Buy</th>\n",
       "<th scope=\"col\">Sell</th>\n",
       "</tr>\n",
       "</thead>\n",
       "<tbody>\n",
       "<tr>\n",
       "<td>\n",
       "<div class=\"d-flex align-items-center\">\n",
       "<div class=\"flag flag--inr\"></div>\n",
       "<div class=\"ml-2 text-uppercase\">INR <span class=\"text-capitalize\">(Indian Rupee)</span>\n",
       "</div>\n",
       "</div>\n",
       "</td>\n",
       "<td>100</td>\n",
       "<td>160.00</td>\n",
       "<td>160.15</td>\n",
       "</tr>\n",
       "</tbody>\n",
       "</table>\n",
       "</div>\n",
       "</div>\n",
       "</div>\n",
       "<div class=\"card-bt-section\">\n",
       "<div class=\"body-h3 card-bt-header-title main-title\" id=\"call-for-papers\">Open Market Exchange Rates</div>\n",
       "<p class=\"text-info font-weight-semi-bold font-size-s\">(For the purpose of Nepal Rastra Bank)\n",
       "         \n",
       "      </p><div class=\"card-layout\">\n",
       "<div class=\"table-responsive\">\n",
       "<table class=\"table table-hover table-borderless\">\n",
       "<caption class=\"text-blue font-weight-semi-bold font-size-s mb-0\">Note: Under the present\n",
       "               system the open market exchange rates quoted by different banks may differ.</caption>\n",
       "<thead>\n",
       "<tr>\n",
       "<th scope=\"col\">Currency</th>\n",
       "<th scope=\"col\">Unit</th>\n",
       "<th scope=\"col\">Buy</th>\n",
       "<th scope=\"col\">Sell</th>\n",
       "</tr>\n",
       "</thead>\n",
       "<tbody>\n",
       "<tr>\n",
       "<td>\n",
       "<div class=\"d-flex align-items-center\">\n",
       "<div class=\"flag flag--usd\"></div>\n",
       "<div class=\"ml-2 text-uppercase\">usd <span class=\"text-capitalize\">(U.S. Dollar)</span>\n",
       "</div>\n",
       "</div>\n",
       "</td>\n",
       "<td>1</td>\n",
       "<td>136.08</td>\n",
       "<td>136.68</td>\n",
       "</tr>\n",
       "<tr>\n",
       "<td>\n",
       "<div class=\"d-flex align-items-center\">\n",
       "<div class=\"flag flag--eur\"></div>\n",
       "<div class=\"ml-2 text-uppercase\">eur <span class=\"text-capitalize\">(European Euro)</span>\n",
       "</div>\n",
       "</div>\n",
       "</td>\n",
       "<td>1</td>\n",
       "<td>149.09</td>\n",
       "<td>149.75</td>\n",
       "</tr>\n",
       "<tr>\n",
       "<td>\n",
       "<div class=\"d-flex align-items-center\">\n",
       "<div class=\"flag flag--gbp\"></div>\n",
       "<div class=\"ml-2 text-uppercase\">gbp <span class=\"text-capitalize\">(UK Pound Sterling)</span>\n",
       "</div>\n",
       "</div>\n",
       "</td>\n",
       "<td>1</td>\n",
       "<td>175.43</td>\n",
       "<td>176.20</td>\n",
       "</tr>\n",
       "<tr>\n",
       "<td>\n",
       "<div class=\"d-flex align-items-center\">\n",
       "<div class=\"flag flag--chf\"></div>\n",
       "<div class=\"ml-2 text-uppercase\">chf <span class=\"text-capitalize\">(Swiss Franc)</span>\n",
       "</div>\n",
       "</div>\n",
       "</td>\n",
       "<td>1</td>\n",
       "<td>158.13</td>\n",
       "<td>158.83</td>\n",
       "</tr>\n",
       "<tr>\n",
       "<td>\n",
       "<div class=\"d-flex align-items-center\">\n",
       "<div class=\"flag flag--aud\"></div>\n",
       "<div class=\"ml-2 text-uppercase\">aud <span class=\"text-capitalize\">(Australian Dollar)</span>\n",
       "</div>\n",
       "</div>\n",
       "</td>\n",
       "<td>1</td>\n",
       "<td>82.25</td>\n",
       "<td>82.61</td>\n",
       "</tr>\n",
       "<tr>\n",
       "<td>\n",
       "<div class=\"d-flex align-items-center\">\n",
       "<div class=\"flag flag--cad\"></div>\n",
       "<div class=\"ml-2 text-uppercase\">cad <span class=\"text-capitalize\">(Canadian Dollar)</span>\n",
       "</div>\n",
       "</div>\n",
       "</td>\n",
       "<td>1</td>\n",
       "<td>95.69</td>\n",
       "<td>96.11</td>\n",
       "</tr>\n",
       "<tr>\n",
       "<td>\n",
       "<div class=\"d-flex align-items-center\">\n",
       "<div class=\"flag flag--sgd\"></div>\n",
       "<div class=\"ml-2 text-uppercase\">sgd <span class=\"text-capitalize\">(Singapore Dollar)</span>\n",
       "</div>\n",
       "</div>\n",
       "</td>\n",
       "<td>1</td>\n",
       "<td>101.10</td>\n",
       "<td>101.55</td>\n",
       "</tr>\n",
       "<tr>\n",
       "<td>\n",
       "<div class=\"d-flex align-items-center\">\n",
       "<div class=\"flag flag--jpy\"></div>\n",
       "<div class=\"ml-2 text-uppercase\">jpy <span class=\"text-capitalize\">(Japanese Yen)</span>\n",
       "</div>\n",
       "</div>\n",
       "</td>\n",
       "<td>10</td>\n",
       "<td>9.26</td>\n",
       "<td>9.30</td>\n",
       "</tr>\n",
       "<tr>\n",
       "<td>\n",
       "<div class=\"d-flex align-items-center\">\n",
       "<div class=\"flag flag--cny\"></div>\n",
       "<div class=\"ml-2 text-uppercase\">cny <span class=\"text-capitalize\">(Chinese Yuan)</span>\n",
       "</div>\n",
       "</div>\n",
       "</td>\n",
       "<td>1</td>\n",
       "<td>18.69</td>\n",
       "<td>18.77</td>\n",
       "</tr>\n",
       "<tr>\n",
       "<td>\n",
       "<div class=\"d-flex align-items-center\">\n",
       "<div class=\"flag flag--sar\"></div>\n",
       "<div class=\"ml-2 text-uppercase\">sar <span class=\"text-capitalize\">(Saudi Arabian Riyal)</span>\n",
       "</div>\n",
       "</div>\n",
       "</td>\n",
       "<td>1</td>\n",
       "<td>36.27</td>\n",
       "<td>36.43</td>\n",
       "</tr>\n",
       "<tr>\n",
       "<td>\n",
       "<div class=\"d-flex align-items-center\">\n",
       "<div class=\"flag flag--qar\"></div>\n",
       "<div class=\"ml-2 text-uppercase\">qar <span class=\"text-capitalize\">(Qatari Riyal)</span>\n",
       "</div>\n",
       "</div>\n",
       "</td>\n",
       "<td>1</td>\n",
       "<td>37.33</td>\n",
       "<td>37.50</td>\n",
       "</tr>\n",
       "<tr>\n",
       "<td>\n",
       "<div class=\"d-flex align-items-center\">\n",
       "<div class=\"flag flag--thb\"></div>\n",
       "<div class=\"ml-2 text-uppercase\">thb <span class=\"text-capitalize\">(Thai Baht)</span>\n",
       "</div>\n",
       "</div>\n",
       "</td>\n",
       "<td>1</td>\n",
       "<td>3.95</td>\n",
       "<td>3.97</td>\n",
       "</tr>\n",
       "<tr>\n",
       "<td>\n",
       "<div class=\"d-flex align-items-center\">\n",
       "<div class=\"flag flag--aed\"></div>\n",
       "<div class=\"ml-2 text-uppercase\">aed <span class=\"text-capitalize\">(UAE Dirham)</span>\n",
       "</div>\n",
       "</div>\n",
       "</td>\n",
       "<td>1</td>\n",
       "<td>37.05</td>\n",
       "<td>37.21</td>\n",
       "</tr>\n",
       "<tr>\n",
       "<td>\n",
       "<div class=\"d-flex align-items-center\">\n",
       "<div class=\"flag flag--myr\"></div>\n",
       "<div class=\"ml-2 text-uppercase\">myr <span class=\"text-capitalize\">(Malaysian Ringgit)</span>\n",
       "</div>\n",
       "</div>\n",
       "</td>\n",
       "<td>1</td>\n",
       "<td>30.67</td>\n",
       "<td>30.80</td>\n",
       "</tr>\n",
       "<tr>\n",
       "<td>\n",
       "<div class=\"d-flex align-items-center\">\n",
       "<div class=\"flag flag--krw\"></div>\n",
       "<div class=\"ml-2 text-uppercase\">krw <span class=\"text-capitalize\">(South Korean Won)</span>\n",
       "</div>\n",
       "</div>\n",
       "</td>\n",
       "<td>100</td>\n",
       "<td>9.32</td>\n",
       "<td>9.36</td>\n",
       "</tr>\n",
       "<tr>\n",
       "<td>\n",
       "<div class=\"d-flex align-items-center\">\n",
       "<div class=\"flag flag--sek\"></div>\n",
       "<div class=\"ml-2 text-uppercase\">sek <span class=\"text-capitalize\">(Swedish Kroner)</span>\n",
       "</div>\n",
       "</div>\n",
       "</td>\n",
       "<td>1</td>\n",
       "<td>13.62</td>\n",
       "<td>13.68</td>\n",
       "</tr>\n",
       "<tr>\n",
       "<td>\n",
       "<div class=\"d-flex align-items-center\">\n",
       "<div class=\"flag flag--dkk\"></div>\n",
       "<div class=\"ml-2 text-uppercase\">dkk <span class=\"text-capitalize\">(Danish Kroner)</span>\n",
       "</div>\n",
       "</div>\n",
       "</td>\n",
       "<td>1</td>\n",
       "<td>20.00</td>\n",
       "<td>20.08</td>\n",
       "</tr>\n",
       "<tr>\n",
       "<td>\n",
       "<div class=\"d-flex align-items-center\">\n",
       "<div class=\"flag flag--hkd\"></div>\n",
       "<div class=\"ml-2 text-uppercase\">hkd <span class=\"text-capitalize\">(Hong Kong Dollar)</span>\n",
       "</div>\n",
       "</div>\n",
       "</td>\n",
       "<td>1</td>\n",
       "<td>17.50</td>\n",
       "<td>17.58</td>\n",
       "</tr>\n",
       "<tr>\n",
       "<td>\n",
       "<div class=\"d-flex align-items-center\">\n",
       "<div class=\"flag flag--kwd\"></div>\n",
       "<div class=\"ml-2 text-uppercase\">kwd <span class=\"text-capitalize\">(Kuwaity Dinar)</span>\n",
       "</div>\n",
       "</div>\n",
       "</td>\n",
       "<td>1</td>\n",
       "<td>442.09</td>\n",
       "<td>444.04</td>\n",
       "</tr>\n",
       "<tr>\n",
       "<td>\n",
       "<div class=\"d-flex align-items-center\">\n",
       "<div class=\"flag flag--bhd\"></div>\n",
       "<div class=\"ml-2 text-uppercase\">bhd <span class=\"text-capitalize\">(Bahrain Dinar)</span>\n",
       "</div>\n",
       "</div>\n",
       "</td>\n",
       "<td>1</td>\n",
       "<td>360.96</td>\n",
       "<td>362.56</td>\n",
       "</tr>\n",
       "<tr>\n",
       "<td>\n",
       "<div class=\"d-flex align-items-center\">\n",
       "<div class=\"flag flag--omr\"></div>\n",
       "<div class=\"ml-2 text-uppercase\">omr <span class=\"text-capitalize\">(Omani Rial)</span>\n",
       "</div>\n",
       "</div>\n",
       "</td>\n",
       "<td>1</td>\n",
       "<td>353.49</td>\n",
       "<td>355.05</td>\n",
       "</tr>\n",
       "</tbody>\n",
       "</table>\n",
       "</div>\n",
       "</div>\n",
       "</div>\n",
       "</div>\n",
       "<div class=\"card-bt card-bt--info mb-3\">\n",
       "<div class=\"card-bt-header\">\n",
       "<a id=\"forexGraph\" name=\"forexGraph\"></a>\n",
       "<div class=\"card-bt-header-maintitle\">\n",
       "            Foreign Exchange Graph\n",
       "        </div>\n",
       "</div>\n",
       "<div class=\"card-bt-body\">\n",
       "<div class=\"row\">\n",
       "<div class=\"col-md-4\">\n",
       "<form action=\"\" id=\"dateRange\" method=\"POST\">\n",
       "<select class=\"form-control\" name=\"range\" onchange=\"this.form.submit();\">\n",
       "<option>Select date range </option>\n",
       "<option value=\"2020\">2015 - 2020\n",
       "                  </option>\n",
       "<option value=\"2015\">2010 - 2015\n",
       "                  </option>\n",
       "<option value=\"2010\">2005 - 2010\n",
       "                  </option>\n",
       "<option value=\"2005\">2000 - 2005\n",
       "                  </option>\n",
       "</select>\n",
       "</form>\n",
       "</div>\n",
       "</div>\n",
       "<div class=\"text-center\">\n",
       "<canvas height=\"100\" id=\"forex-chart\"></canvas>\n",
       "</div>\n",
       "</div>\n",
       "</div>\n",
       "<div class=\"card-bt card-bt--success mb-3\">\n",
       "<div class=\"card-bt-header\">\n",
       "<a id=\"forexGraph\" name=\"forexGraph\"></a>\n",
       "<div class=\"card-bt-header-maintitle\">\n",
       "            Export Foreign Exchange Rates\n",
       "        </div>\n",
       "</div>\n",
       "<div class=\"card-bt-body\">\n",
       "<form action=\"\" id=\"forexExport\" method=\"POST\">\n",
       "<div class=\"row\">\n",
       "<div class=\"col-md-4 mb-3\">\n",
       "<label>From:</label>\n",
       "<input class=\"form-control\" id=\"dateFrom\" name=\"dateFrom\" required=\"\" type=\"date\"/>\n",
       "</div>\n",
       "<div class=\"col-md-4 mb-3\">\n",
       "<label>To:</label>\n",
       "<input class=\"form-control\" id=\"dateTo\" name=\"dateTo\" required=\"\" type=\"date\"/>\n",
       "</div>\n",
       "<div class=\"col-md-2 col-6 mb-3\">\n",
       "<label>Export Format:</label>\n",
       "<select class=\"form-control\" name=\"export_type\">\n",
       "<option value=\"export_csv\">CSV\n",
       "                    </option>\n",
       "<option value=\"export_json\">JSON\n",
       "                 </option>\n",
       "<!--  <option value=\"export_xml\">XML\n",
       "                 </option> -->\n",
       "</select>\n",
       "</div>\n",
       "<div class=\"col-md-2 col-6 mb-3 d-flex align-items-end\">\n",
       "<button class=\"btn btn-primary px-3 btn-block\" form=\"forexExport\" type=\"submit\" value=\"submit\">Export</button>\n",
       "</div>\n",
       "</div>\n",
       "</form>\n",
       "</div>\n",
       "<div class=\"card-bt-section\">\n",
       "<div class=\"body-h3\">\n",
       "         FOREX API Documentation:\n",
       "         <div class=\"row\">\n",
       "<div class=\"col-md-4\">\n",
       "<ul class=\"arrowed-list\">\n",
       "<li><a href=\"https://www.nrb.org.np/api-docs-v1/\" target=\"_blank\">V1 docs</a></li>\n",
       "</ul>\n",
       "</div>\n",
       "</div>\n",
       "</div>\n",
       "</div>\n",
       "</div>\n",
       "</div>\n",
       "</div>\n",
       "</div>\n",
       "<div class=\"fixed p-0\" id=\"cookie-bar\">\n",
       "<p class=\"m-2\">We use cookies to enhance your experience in our website. By visiting it, you agree our <a class=\"cb-policy\" href=\"/privacy-policy/#cookies\">Cookies Policy</a>\n",
       "<a class=\"btn btn-secondary ml-5\" id=\"save-cookie\" tabindex=\"0\">I Understand</a>\n",
       "</p>\n",
       "</div>\n",
       "<footer id=\"footer\">\n",
       "<div class=\"footer py-2\">\n",
       "<div class=\"container\">\n",
       "<div class=\"row\">\n",
       "<div class=\"col-md-2 col-sm-6\" id=\"contact\">\n",
       "<div class=\"textwidget custom-html-widget\"><div class=\"text-primary footer-title-border card-title mt-md-1\">Central Office</div>\n",
       "<ul>\n",
       "<li>Baluwatar Kathmandu, Nepal</li>\n",
       "<li>P.O. Box 73</li>\n",
       "<li>977 1 5719641, 5719642, 5719643, 5719653, 5719659</li>\n",
       "<li>Fax: 977 1 5719601</li>\n",
       "</ul>\n",
       "<div class=\"quicklinks\">\n",
       "<ul class=\"\"><li class=\"menu-item menu-item-type-post_type menu-item-object-page menu-item-32416\" id=\"menu-item-32416\"><a href=\"/contact/\">Contact</a></li>\n",
       "<li class=\"menu-item menu-item-type-post_type menu-item-object-page menu-item-33838\" id=\"menu-item-33838\"><a href=\"/feedback/\">Feedback</a></li>\n",
       "</ul>\n",
       "</div>\n",
       "<div style=\"margin-top:10px;\">\n",
       "<a href=\"https://play.google.com/store/apps/details?id=np.org.nrb&amp;hl=en\" rel=\"noopener noreferrer\" target=\"_blank\"><img src=\"https://www.nrb.org.np/contents/uploads/2021/07/google-play-1.png\" style=\"height: 30px;width: 100px;\"/></a>\n",
       "</div>\n",
       "<div class=\"social-links\">\n",
       "<a class=\"facebook\" href=\"https://www.facebook.com/NRB.CentralBank\" rel=\"noopener noreferrer\" target=\"_blank\"><i class=\"fab fa-facebook\"></i></a>\n",
       "<a class=\"\" href=\"https://twitter.com/NepalRastraBank\" rel=\"noopener noreferrer\" target=\"_blank\">\n",
       "<i class=\"fa-brands fa-square-x-twitter\"></i>\n",
       "</a>\n",
       "<a class=\"youtube\" href=\"https://www.youtube.com/channel/UCzIWcAGlJDssOei-uW3cWcQ\" rel=\"noopener noreferrer\" target=\"_blank\"><i aria-hidden=\"true\" class=\"fab fa-youtube\"></i></a>\n",
       "</div>\n",
       "</div>\n",
       "</div>\n",
       "<div class=\"col-md-4 col-sm-6 quicklinks\" id=\"quicklinks\">\n",
       "<div class=\"text-primary card-title mb-2 mt-md-1 mt-4\">Quick Links</div><div class=\"textwidget custom-html-widget\"><div class=\"row\">\n",
       "<div class=\"col-6\">\n",
       "<ul class=\"submenu submenu--level-2\">\n",
       "<li class=\"menu-item menu-item-type-custom menu-item-object-custom menu-item-31088 2\">\n",
       "<a href=\"http://emap.nrb.org.np/\" rel=\"noopener noreferrer\" target=\"_blank\">Financial Inclusion Portal</a>\n",
       "</li>\n",
       "<li class=\"menu-item menu-item-type-post_type menu-item-object-page menu-item-860 2\">\n",
       "<a href=\"/bank-list/\" rel=\"noopener noreferrer\" target=\"\">Banks &amp; Financial Institutions List</a>\n",
       "</li>\n",
       "<li class=\"menu-item menu-item-type-custom menu-item-object-custom menu-item-32904 2\">\n",
       "<a href=\"https://www.nrb.org.np/departments/fiu/\" rel=\"noopener noreferrer\" target=\"_blank\">Financial Intelligence Unit (FIU - Nepal)</a>\n",
       "</li>\n",
       "<li class=\"menu-item menu-item-type-custom menu-item-object-custom menu-item-32904 2\">\n",
       "<a href=\"https://goaml.fiu.nrb.org.np/PRD/Home\" rel=\"noopener noreferrer\" target=\"_blank\">goAML Nepal Registration &amp; Reporting Portal</a>\n",
       "</li>\n",
       "<li class=\"menu-item menu-item-type-post_type menu-item-object-page menu-item-859 2\">\n",
       "<a href=\"/financial-literacy/\" rel=\"noopener noreferrer\" target=\"\">Financial Literacy</a>\n",
       "</li>\n",
       "<li class=\"menu-item menu-item-type-post_type menu-item-object-page menu-item-859 2\">\n",
       "<a href=\"/banknotes-security-features/\" rel=\"noopener noreferrer\" target=\"\">Bank Notes Security Features</a>\n",
       "</li>\n",
       "<li class=\"menu-item menu-item-type-post_type menu-item-object-page menu-item-859 2\">\n",
       "<a href=\"/category/right-to-information/?department=ofg\" rel=\"noopener noreferrer\" target=\"\">Right To Information</a>\n",
       "</li>\n",
       "<li class=\"menu-item menu-item-type-post_type menu-item-object-page menu-item-31131 2\">\n",
       "<a href=\"/international-conference\" rel=\"noopener noreferrer\" target=\"\">International Conference</a>\n",
       "</li>\n",
       "<li class=\"menu-item menu-item-type-post_type menu-item-object-page menu-item-31131 2\">\n",
       "<a href=\"http://gunaso.nrb.org.np/\" rel=\"noopener noreferrer\" target=\"_blank\">Financial Consumer Protection</a>\n",
       "</li>\n",
       "</ul>\n",
       "</div>\n",
       "<div class=\"col-6\">\n",
       "<ul class=\"submenu submenu--level-2\">\n",
       "<li class=\"menu-item menu-item-type-custom menu-item-object-custom menu-item-31133 2\">\n",
       "<a href=\"https://archive.nrb.org.np/irtc/irtcindex.php\" rel=\"noopener noreferrer\" target=\"\">International Relation and Technical Cooperation</a>\n",
       "</li>\n",
       "<li class=\"menu-item menu-item-type-custom menu-item-object-custom menu-item-31132 2\">\n",
       "<a href=\"https://www.saarcfinance.org/\" rel=\"noopener noreferrer\" target=\"_blank\">SAARC FINANCE</a>\n",
       "</li>\n",
       "<li class=\"menu-item menu-item-type-post_type menu-item-object-page menu-item-31131 2\">\n",
       "<a href=\"/multinational-institutions/\" rel=\"noopener noreferrer\" target=\"\">Multinational Institutions</a>\n",
       "</li>\n",
       "<li class=\"menu-item menu-item-type-post_type menu-item-object-page menu-item-31107 2\">\n",
       "<a href=\"/government-agencies/\" rel=\"noopener noreferrer\" target=\"\">Government Agencies</a>\n",
       "</li>\n",
       "<li class=\"menu-item menu-item-type-custom menu-item-object-custom menu-item-31087 2\">\n",
       "<a href=\"https://obss.nrb.org.np/\" rel=\"noopener noreferrer\" target=\"_blank\">OBSS</a>\n",
       "</li>\n",
       "<li class=\"menu-item menu-item-type-custom menu-item-object-custom menu-item-31087 2\">\n",
       "<a href=\"https://www.nrb.org.np/targeted-sanction-list-and-other\" rel=\"noopener noreferrer\" target=\"_blank\">Targeted Sanction List and Other</a>\n",
       "</li>\n",
       "</ul>\n",
       "</div>\n",
       "</div></div>\n",
       "</div>\n",
       "<div class=\"col-md-3 col-sm-6\" id=\"spokesperson\">\n",
       "<div class=\"text-primary card-title mb-2 mt-md-1 mt-4\">Spokesperson</div><div class=\"textwidget custom-html-widget\"><div class=\"d-flex mt-2\">\n",
       "<img alt=\"\" class=\"mr-2 wp-image-21679 alignleft\" height=\"100\" src=\"https://www.nrb.org.np/contents/uploads/2024/07/Ramu-Sir-crop.jpg\" width=\"97\"/>\n",
       "<ul class=\"ml-3\">\n",
       "<li> Mr. Ramu Paudel</li>\n",
       "<li>Office-Tel: +977-1-5719641, (Ext: 2491)</li>\n",
       "<!--<li>Mob: +977-9851164200</li> -->\n",
       "<!--  \t<li>Res-Tel: +977-1-4364200</li> -->\n",
       "<li>Email: spokesperson@nrb.org.np</li>\n",
       "</ul>\n",
       "</div>\n",
       "</div>\n",
       "</div>\n",
       "<div class=\"col-md-3 col-sm-6\" id=\"deputy-spokesperson\">\n",
       "<div class=\"text-primary card-title mb-2 mt-md-1 mt-4\">Deputy Spokesperson &amp; Information Officer</div> <div class=\"textwidget\"><div class=\"d-flex mt-2\">\n",
       "<p><img alt=\"\" class=\"wp-image-94840 alignleft\" height=\"110\" src=\"https://www.nrb.org.np/contents/uploads/2025/03/Suman-Neupane-NEW-NEW-copy-scaled.jpg\" width=\"97\"/></p>\n",
       "<ul class=\"ml-3 px-2\">\n",
       "<li>Mr. Suman Neupane</li>\n",
       "<li>Office-Tel: +977-01-5719603 (Ext. 2141)</li>\n",
       "<li>Mob: +977-9741803278</li>\n",
       "<li>Email: information@nrb.org.np</li>\n",
       "</ul>\n",
       "</div>\n",
       "</div>\n",
       "<div class=\"text-primary card-title mb-2 mt-md-1 mt-4\">Assistant Information Officer</div> <div class=\"textwidget\"><div class=\"d-flex mt-2\">\n",
       "<p> </p>\n",
       "<ul class=\"ml-3 px-2\">\n",
       "<li>Dr. Bhagawat Acharya</li>\n",
       "<li>Office-Tel: +977-01-5719603 (Ext. 2139)</li>\n",
       "<li>Mob: +977-9841573101</li>\n",
       "<li>Email: information@nrb.org.np</li>\n",
       "</ul>\n",
       "</div>\n",
       "</div>\n",
       "</div>\n",
       "</div>\n",
       "</div>\n",
       "<div class=\"w-100 mt-3\"><img alt=\"\" class=\"image wp-image-871 w-100 attachment-full size-full\" height=\"84\" sizes=\"(max-width: 2560px) 100vw, 2560px\" src=\"https://www.nrb.org.np/contents/uploads/2019/12/nrb_footer_image-scaled-e1577354199670.png\" srcset=\"https://www.nrb.org.np/contents/uploads/2019/12/nrb_footer_image-scaled-e1577354199670.png 2560w, https://www.nrb.org.np/contents/uploads/2019/12/nrb_footer_image-scaled-e1577354199670-300x10.png 300w, https://www.nrb.org.np/contents/uploads/2019/12/nrb_footer_image-scaled-e1577354199670-1024x34.png 1024w, https://www.nrb.org.np/contents/uploads/2019/12/nrb_footer_image-scaled-e1577354199670-768x25.png 768w, https://www.nrb.org.np/contents/uploads/2019/12/nrb_footer_image-scaled-e1577354199670-1536x50.png 1536w, https://www.nrb.org.np/contents/uploads/2019/12/nrb_footer_image-scaled-e1577354199670-2048x67.png 2048w\" style=\"max-width: 100%; height: auto;\" width=\"2560\"/></div><div class=\"widget_text w-100 mt-3\"><div class=\"textwidget custom-html-widget\"><div class=\"container\">\n",
       "<div class=\"row\">\n",
       "<div class=\"col-lg-8 font-size-xs float-right text-muted\">© <span id=\"date\"></span>. Nepal Rastra Bank. All Rights Reserved.\n",
       "\t\t</div>\n",
       "<div class=\"col-lg-4 font-size-xs\"><a href=\"https://www.nrb.org.np/privacy-policy/\"><span class=\"float-right text-muted\">\n",
       "\t\t\tPrivacy Policy</span></a>\n",
       "</div>\n",
       "</div>\n",
       "</div>\n",
       "<script>\n",
       "\tn =  new Date();\n",
       "\ty = n.getFullYear();\n",
       "document.getElementById(\"date\").innerHTML = y;\n",
       "\t</script></div></div>\n",
       "</div>\n",
       "<!-- <script>\n",
       "    $(document).ready(function () {\n",
       "        // $('.slider-stats').slick({\n",
       "        //     infinite: true,\n",
       "        //     slidesToShow: 6,\n",
       "        //     slidesToScroll: 1,\n",
       "        //     responsive: [\n",
       "        //         {\n",
       "        //             breakpoint: 1024,\n",
       "        //             settings: {\n",
       "        //                 slidesToShow: 4\n",
       "        //             }\n",
       "        //         }, {\n",
       "        //             breakpoint: 600,\n",
       "        //             settings: {\n",
       "        //                 slidesToShow: 3\n",
       "        //             }\n",
       "        //         }, {\n",
       "        //             breakpoint: 480,\n",
       "        //             settings: {\n",
       "        //                 slidesToShow: 2\n",
       "        //             }\n",
       "        //         }\n",
       "        //     ]\n",
       "        // });\n",
       "\n",
       "        //  $(\".navbar-search__btn\").click(function () {\n",
       "        //     $(\".navbar-search\").focus();\n",
       "        //     console.log(\"focus\");\n",
       "        // });\n",
       "\n",
       "        // Chart\n",
       "        \n",
       "    });\n",
       "\n",
       "</script> -->\n",
       "</footer>\n",
       "<script async=\"\" charset=\"utf-8\" src=\"https://platform.twitter.com/widgets.js\"></script><script src=\"https://code.jquery.com/jquery-3.4.1.min.js\" type=\"text/javascript\"></script>\n",
       "<script type=\"text/javascript\">\n",
       "/* <![CDATA[ */\n",
       "var wpcf7 = {\"apiSettings\":{\"root\":\"https:\\/\\/www.nrb.org.np\\/api\\/contact-form-7\\/v1\",\"namespace\":\"contact-form-7\\/v1\"},\"cached\":\"1\"};\n",
       "/* ]]> */\n",
       "</script>\n",
       "<script src=\"https://www.nrb.org.np/contents/plugins/contact-form-7/includes/js/scripts.js?ver=5.1.6\" type=\"text/javascript\"></script>\n",
       "<script src=\"https://www.nrb.org.np/contents/plugins/ditty-news-ticker/inc/static/js/jquery.touchSwipe.min.js?ver=2.2.17\" type=\"text/javascript\"></script>\n",
       "<script src=\"https://www.nrb.org.np/contents/plugins/ditty-news-ticker/inc/static/js/jquery.easing.js?ver=1.4.1\" type=\"text/javascript\"></script>\n",
       "<script src=\"https://www.nrb.org.np/contents/plugins/ditty-news-ticker/inc/static/js/imagesloaded.pkgd.min.js?ver=4.1.4\" type=\"text/javascript\"></script>\n",
       "<script type=\"text/javascript\">\n",
       "/* <![CDATA[ */\n",
       "var mtphr_dnt_vars = {\"is_rtl\":\"\"};\n",
       "/* ]]> */\n",
       "</script>\n",
       "<script src=\"https://www.nrb.org.np/contents/plugins/ditty-news-ticker/inc/static/js/ditty-news-ticker.min.js?ver=1605313229\" type=\"text/javascript\"></script>\n",
       "<script type=\"text/javascript\">\n",
       "/* <![CDATA[ */\n",
       "var cookieAjax = {\"ajax_url\":\"https:\\/\\/www.nrb.org.np\\/wp-admin\\/admin-ajax.php\"};\n",
       "/* ]]> */\n",
       "</script>\n",
       "<script src=\"https://www.nrb.org.np/contents/plugins/smart-popup-blaster/assets/js/popup-script.js?ver=1.0\" type=\"text/javascript\"></script>\n",
       "<script src=\"https://www.google.com/recaptcha/api.js?render=6Lf7ctwUAAAAAGhTAToAUwXPyKWEqq3p1QGwy27W&amp;ver=3.0\" type=\"text/javascript\"></script>\n",
       "<script type=\"text/javascript\">\n",
       "/* <![CDATA[ */\n",
       "var AJAX_DATA = {\"url\":\"https:\\/\\/www.nrb.org.np\\/wp-admin\\/admin-ajax.php\"};\n",
       "/* ]]> */\n",
       "</script>\n",
       "<script src=\"https://www.nrb.org.np/contents/plugins/nrb-cmfm-rates/assets/js/app.frontend.js\" type=\"text/javascript\"></script>\n",
       "<script src=\"https://www.nrb.org.np/contents/plugins/nrb-indicators/assets/js/app.frontend.js\" type=\"text/javascript\"></script>\n",
       "<script src=\"https://cdn.jsdelivr.net/npm/chart.js@2.8.0/dist/Chart.min.js\" type=\"text/javascript\"></script>\n",
       "<script src=\"https://cdnjs.cloudflare.com/ajax/libs/tooltipster/3.3.0/js/jquery.tooltipster.min.js\" type=\"text/javascript\"></script>\n",
       "<script src=\"//cdn.datatables.net/1.10.19/js/jquery.dataTables.min.js\" type=\"text/javascript\"></script>\n",
       "<script src=\"https://cdn.datatables.net/responsive/1.0.7/js/dataTables.responsive.min.js\" type=\"text/javascript\"></script>\n",
       "<script src=\"https://cdnjs.cloudflare.com/ajax/libs/popper.js/1.14.7/umd/popper.min.js\" type=\"text/javascript\"></script>\n",
       "<script src=\"https://stackpath.bootstrapcdn.com/bootstrap/4.3.1/js/bootstrap.min.js\" type=\"text/javascript\"></script>\n",
       "<script src=\"https://cdn.datatables.net/1.10.19/js/dataTables.bootstrap4.min.js\" type=\"text/javascript\"></script>\n",
       "<script src=\"https://www.nrb.org.np/contents/themes/nrb-wp-theme/audio-player.js\" type=\"text/javascript\"></script>\n",
       "<script src=\"https://cdnjs.cloudflare.com/ajax/libs/slick-carousel/1.9.0/slick.min.js\" type=\"text/javascript\"></script>\n",
       "<script src=\"https://cdn.jsdelivr.net/npm/lightgallery@1.6.12/dist/js/lightgallery.min.js\" type=\"text/javascript\"></script>\n",
       "<script src=\"https://cdn.jsdelivr.net/npm/lightgallery@1.6.12/modules/lg-thumbnail.min.js\" type=\"text/javascript\"></script>\n",
       "<script src=\"https://cdn.jsdelivr.net/npm/lightgallery@1.6.12/modules/lg-fullscreen.min.js\" type=\"text/javascript\"></script>\n",
       "<script src=\"https://cdn.jsdelivr.net/npm/lightgallery@1.6.12/modules/lg-zoom.min.js\" type=\"text/javascript\"></script>\n",
       "<script src=\"https://cdnjs.cloudflare.com/ajax/libs/jquery-mousewheel/3.1.13/jquery.mousewheel.min.js\" type=\"text/javascript\"></script>\n",
       "<script src=\"https://www.nrb.org.np/contents/themes/nrb-wp-theme/app.js\" type=\"text/javascript\"></script>\n",
       "<script src=\"https://www.nrb.org.np/wp-includes/js/wp-embed.min.js?ver=5.3.18\" type=\"text/javascript\"></script>\n",
       "<script type=\"text/javascript\">\n",
       "( function( grecaptcha, sitekey, actions ) {\n",
       "\n",
       "\tvar wpcf7recaptcha = {\n",
       "\n",
       "\t\texecute: function( action ) {\n",
       "\t\t\tgrecaptcha.execute(\n",
       "\t\t\t\tsitekey,\n",
       "\t\t\t\t{ action: action }\n",
       "\t\t\t).then( function( token ) {\n",
       "\t\t\t\tvar forms = document.getElementsByTagName( 'form' );\n",
       "\n",
       "\t\t\t\tfor ( var i = 0; i < forms.length; i++ ) {\n",
       "\t\t\t\t\tvar fields = forms[ i ].getElementsByTagName( 'input' );\n",
       "\n",
       "\t\t\t\t\tfor ( var j = 0; j < fields.length; j++ ) {\n",
       "\t\t\t\t\t\tvar field = fields[ j ];\n",
       "\n",
       "\t\t\t\t\t\tif ( 'g-recaptcha-response' === field.getAttribute( 'name' ) ) {\n",
       "\t\t\t\t\t\t\tfield.setAttribute( 'value', token );\n",
       "\t\t\t\t\t\t\tbreak;\n",
       "\t\t\t\t\t\t}\n",
       "\t\t\t\t\t}\n",
       "\t\t\t\t}\n",
       "\t\t\t} );\n",
       "\t\t},\n",
       "\n",
       "\t\texecuteOnHomepage: function() {\n",
       "\t\t\twpcf7recaptcha.execute( actions[ 'homepage' ] );\n",
       "\t\t},\n",
       "\n",
       "\t\texecuteOnContactform: function() {\n",
       "\t\t\twpcf7recaptcha.execute( actions[ 'contactform' ] );\n",
       "\t\t},\n",
       "\n",
       "\t};\n",
       "\n",
       "\tgrecaptcha.ready(\n",
       "\t\twpcf7recaptcha.executeOnHomepage\n",
       "\t);\n",
       "\n",
       "\tdocument.addEventListener( 'change',\n",
       "\t\twpcf7recaptcha.executeOnContactform, false\n",
       "\t);\n",
       "\n",
       "\tdocument.addEventListener( 'wpcf7submit',\n",
       "\t\twpcf7recaptcha.executeOnHomepage, false\n",
       "\t);\n",
       "\n",
       "} )(\n",
       "\tgrecaptcha,\n",
       "\t'6Lf7ctwUAAAAAGhTAToAUwXPyKWEqq3p1QGwy27W',\n",
       "\t{\"homepage\":\"homepage\",\"contactform\":\"contactform\"}\n",
       ");\n",
       "</script>\n",
       "<style type=\"text/css\">\n",
       "    \n",
       "   \t/*\n",
       "    code by Iatek LLC 2018 - CC 2.0 License - Attribution required\n",
       "    code customized by Azmind.com\n",
       "*/\n",
       "@media (min-width: 768px) and (max-width: 991px) {\n",
       "    /* Show 4th slide on md if col-md-4*/\n",
       "    .carousel-inner .active.col-md-4.carousel-item + .carousel-item + .carousel-item + .carousel-item {\n",
       "        position: absolute;\n",
       "        top: 0;\n",
       "        right: -33.3333%;  /*change this with javascript in the future*/\n",
       "        z-index: -1;\n",
       "        display: block;\n",
       "        visibility: visible;\n",
       "    }\n",
       "}\n",
       "@media (min-width: 576px) and (max-width: 768px) {\n",
       "    /* Show 3rd slide on sm if col-sm-6*/\n",
       "    .carousel-inner .active.col-sm-6.carousel-item + .carousel-item + .carousel-item {\n",
       "        position: absolute;\n",
       "        top: 0;\n",
       "        right: -50%;  /*change this with javascript in the future*/\n",
       "        z-index: -1;\n",
       "        display: block;\n",
       "        visibility: visible;\n",
       "    }\n",
       "}\n",
       "@media (min-width: 576px) {\n",
       "    .carousel-item {\n",
       "        margin-right: 0;\n",
       "    }\n",
       "    /* show 2 items */\n",
       "    .carousel-inner .active + .carousel-item {\n",
       "        display: block;\n",
       "    }\n",
       "    .carousel-inner .carousel-item.active:not(.carousel-item-right):not(.carousel-item-left),\n",
       "    .carousel-inner .carousel-item.active:not(.carousel-item-right):not(.carousel-item-left) + .carousel-item {\n",
       "        transition: none;\n",
       "    }\n",
       "    .carousel-inner .carousel-item-next {\n",
       "        position: relative;\n",
       "        transform: translate3d(0, 0, 0);\n",
       "    }\n",
       "    /* left or forward direction */\n",
       "    .active.carousel-item-left + .carousel-item-next.carousel-item-left,\n",
       "    .carousel-item-next.carousel-item-left + .carousel-item,\n",
       "    .carousel-item-next.carousel-item-left + .carousel-item + .carousel-item {\n",
       "        position: relative;\n",
       "        transform: translate3d(-100%, 0, 0);\n",
       "        visibility: visible;\n",
       "    }\n",
       "    /* farthest right hidden item must be also positioned for animations */\n",
       "    .carousel-inner .carousel-item-prev.carousel-item-right {\n",
       "        position: absolute;\n",
       "        top: 0;\n",
       "        left: 0;\n",
       "        z-index: -1;\n",
       "        display: block;\n",
       "        visibility: visible;\n",
       "    }\n",
       "    /* right or prev direction */\n",
       "    .active.carousel-item-right + .carousel-item-prev.carousel-item-right,\n",
       "    .carousel-item-prev.carousel-item-right + .carousel-item,\n",
       "    .carousel-item-prev.carousel-item-right + .carousel-item + .carousel-item {\n",
       "        position: relative;\n",
       "        transform: translate3d(100%, 0, 0);\n",
       "        visibility: visible;\n",
       "        display: block;\n",
       "        visibility: visible;\n",
       "    }\n",
       "}\n",
       "/* MD */\n",
       "@media (min-width: 768px) {\n",
       "    /* show 3rd of 3 item slide */\n",
       "    .carousel-inner .active + .carousel-item + .carousel-item {\n",
       "        display: block;\n",
       "    }\n",
       "    .carousel-inner .carousel-item.active:not(.carousel-item-right):not(.carousel-item-left) + .carousel-item + .carousel-item {\n",
       "        transition: none;\n",
       "    }\n",
       "    .carousel-inner .carousel-item-next {\n",
       "        position: relative;\n",
       "        transform: translate3d(0, 0, 0);\n",
       "    }\n",
       "    /* left or forward direction */\n",
       "    .carousel-item-next.carousel-item-left + .carousel-item + .carousel-item + .carousel-item {\n",
       "        position: relative;\n",
       "        transform: translate3d(-100%, 0, 0);\n",
       "        visibility: visible;\n",
       "    }\n",
       "    /* right or prev direction */\n",
       "    .carousel-item-prev.carousel-item-right + .carousel-item + .carousel-item + .carousel-item {\n",
       "        position: relative;\n",
       "        transform: translate3d(100%, 0, 0);\n",
       "        visibility: visible;\n",
       "        display: block;\n",
       "        visibility: visible;\n",
       "    }\n",
       "}\n",
       "/* LG */\n",
       "@media (min-width: 991px) {\n",
       "    /* show 4th item */\n",
       "    .carousel-inner .active + .carousel-item + .carousel-item + .carousel-item {\n",
       "        display: block;\n",
       "    }\n",
       "    .carousel-inner .carousel-item.active:not(.carousel-item-right):not(.carousel-item-left) + .carousel-item + .carousel-item + .carousel-item {\n",
       "        transition: none;\n",
       "    }\n",
       "    /* Show 5th slide on lg if col-lg-3 */\n",
       "    .carousel-inner .active.col-lg-3.carousel-item + .carousel-item + .carousel-item + .carousel-item + .carousel-item {\n",
       "        position: absolute;\n",
       "        top: 0;\n",
       "        right: -25%;  /*change this with javascript in the future*/\n",
       "        z-index: -1;\n",
       "        display: block;\n",
       "        visibility: visible;\n",
       "    }\n",
       "    /* left or forward direction */\n",
       "    .carousel-item-next.carousel-item-left + .carousel-item + .carousel-item + .carousel-item + .carousel-item {\n",
       "        position: relative;\n",
       "        transform: translate3d(-100%, 0, 0);\n",
       "        visibility: visible;\n",
       "    }\n",
       "    /* right or prev direction //t - previous slide direction last item animation fix */\n",
       "    .carousel-item-prev.carousel-item-right + .carousel-item + .carousel-item + .carousel-item + .carousel-item {\n",
       "        position: relative;\n",
       "        transform: translate3d(100%, 0, 0);\n",
       "        visibility: visible;\n",
       "        display: block;\n",
       "        visibility: visible;\n",
       "    }\n",
       "}\n",
       "</style>\n",
       "</div></section></body>\n",
       "</html>"
      ]
     },
     "execution_count": 94,
     "metadata": {},
     "output_type": "execute_result"
    }
   ],
   "source": [
    "from bs4 import BeautifulSoup\n",
    "import requests \n",
    "url = BeautifulSoup('https://www.nrb.org.np/forex/','html.parser')\n",
    "soup = requests.get(url)\n",
    "soup = BeautifulSoup(soup.text)\n",
    "soup\n"
   ]
  },
  {
   "cell_type": "code",
   "execution_count": null,
   "id": "22850821",
   "metadata": {},
   "outputs": [
    {
     "data": {
      "text/plain": [
       "<div class=\"table-responsive\">\n",
       "<table class=\"table table-hover table-borderless\">\n",
       "<caption class=\"text-blue font-weight-semi-bold font-size-s mb-0\">Note: Under the present\n",
       "               system the open market exchange rates quoted by different banks may differ.</caption>\n",
       "<thead>\n",
       "<tr>\n",
       "<th scope=\"col\">Currency</th>\n",
       "<th scope=\"col\">Unit</th>\n",
       "<th scope=\"col\">Buy</th>\n",
       "<th scope=\"col\">Sell</th>\n",
       "</tr>\n",
       "</thead>\n",
       "<tbody>\n",
       "<tr>\n",
       "<td>\n",
       "<div class=\"d-flex align-items-center\">\n",
       "<div class=\"flag flag--usd\"></div>\n",
       "<div class=\"ml-2 text-uppercase\">usd <span class=\"text-capitalize\">(U.S. Dollar)</span>\n",
       "</div>\n",
       "</div>\n",
       "</td>\n",
       "<td>1</td>\n",
       "<td>136.08</td>\n",
       "<td>136.68</td>\n",
       "</tr>\n",
       "<tr>\n",
       "<td>\n",
       "<div class=\"d-flex align-items-center\">\n",
       "<div class=\"flag flag--eur\"></div>\n",
       "<div class=\"ml-2 text-uppercase\">eur <span class=\"text-capitalize\">(European Euro)</span>\n",
       "</div>\n",
       "</div>\n",
       "</td>\n",
       "<td>1</td>\n",
       "<td>149.09</td>\n",
       "<td>149.75</td>\n",
       "</tr>\n",
       "<tr>\n",
       "<td>\n",
       "<div class=\"d-flex align-items-center\">\n",
       "<div class=\"flag flag--gbp\"></div>\n",
       "<div class=\"ml-2 text-uppercase\">gbp <span class=\"text-capitalize\">(UK Pound Sterling)</span>\n",
       "</div>\n",
       "</div>\n",
       "</td>\n",
       "<td>1</td>\n",
       "<td>175.43</td>\n",
       "<td>176.20</td>\n",
       "</tr>\n",
       "<tr>\n",
       "<td>\n",
       "<div class=\"d-flex align-items-center\">\n",
       "<div class=\"flag flag--chf\"></div>\n",
       "<div class=\"ml-2 text-uppercase\">chf <span class=\"text-capitalize\">(Swiss Franc)</span>\n",
       "</div>\n",
       "</div>\n",
       "</td>\n",
       "<td>1</td>\n",
       "<td>158.13</td>\n",
       "<td>158.83</td>\n",
       "</tr>\n",
       "<tr>\n",
       "<td>\n",
       "<div class=\"d-flex align-items-center\">\n",
       "<div class=\"flag flag--aud\"></div>\n",
       "<div class=\"ml-2 text-uppercase\">aud <span class=\"text-capitalize\">(Australian Dollar)</span>\n",
       "</div>\n",
       "</div>\n",
       "</td>\n",
       "<td>1</td>\n",
       "<td>82.25</td>\n",
       "<td>82.61</td>\n",
       "</tr>\n",
       "<tr>\n",
       "<td>\n",
       "<div class=\"d-flex align-items-center\">\n",
       "<div class=\"flag flag--cad\"></div>\n",
       "<div class=\"ml-2 text-uppercase\">cad <span class=\"text-capitalize\">(Canadian Dollar)</span>\n",
       "</div>\n",
       "</div>\n",
       "</td>\n",
       "<td>1</td>\n",
       "<td>95.69</td>\n",
       "<td>96.11</td>\n",
       "</tr>\n",
       "<tr>\n",
       "<td>\n",
       "<div class=\"d-flex align-items-center\">\n",
       "<div class=\"flag flag--sgd\"></div>\n",
       "<div class=\"ml-2 text-uppercase\">sgd <span class=\"text-capitalize\">(Singapore Dollar)</span>\n",
       "</div>\n",
       "</div>\n",
       "</td>\n",
       "<td>1</td>\n",
       "<td>101.10</td>\n",
       "<td>101.55</td>\n",
       "</tr>\n",
       "<tr>\n",
       "<td>\n",
       "<div class=\"d-flex align-items-center\">\n",
       "<div class=\"flag flag--jpy\"></div>\n",
       "<div class=\"ml-2 text-uppercase\">jpy <span class=\"text-capitalize\">(Japanese Yen)</span>\n",
       "</div>\n",
       "</div>\n",
       "</td>\n",
       "<td>10</td>\n",
       "<td>9.26</td>\n",
       "<td>9.30</td>\n",
       "</tr>\n",
       "<tr>\n",
       "<td>\n",
       "<div class=\"d-flex align-items-center\">\n",
       "<div class=\"flag flag--cny\"></div>\n",
       "<div class=\"ml-2 text-uppercase\">cny <span class=\"text-capitalize\">(Chinese Yuan)</span>\n",
       "</div>\n",
       "</div>\n",
       "</td>\n",
       "<td>1</td>\n",
       "<td>18.69</td>\n",
       "<td>18.77</td>\n",
       "</tr>\n",
       "<tr>\n",
       "<td>\n",
       "<div class=\"d-flex align-items-center\">\n",
       "<div class=\"flag flag--sar\"></div>\n",
       "<div class=\"ml-2 text-uppercase\">sar <span class=\"text-capitalize\">(Saudi Arabian Riyal)</span>\n",
       "</div>\n",
       "</div>\n",
       "</td>\n",
       "<td>1</td>\n",
       "<td>36.27</td>\n",
       "<td>36.43</td>\n",
       "</tr>\n",
       "<tr>\n",
       "<td>\n",
       "<div class=\"d-flex align-items-center\">\n",
       "<div class=\"flag flag--qar\"></div>\n",
       "<div class=\"ml-2 text-uppercase\">qar <span class=\"text-capitalize\">(Qatari Riyal)</span>\n",
       "</div>\n",
       "</div>\n",
       "</td>\n",
       "<td>1</td>\n",
       "<td>37.33</td>\n",
       "<td>37.50</td>\n",
       "</tr>\n",
       "<tr>\n",
       "<td>\n",
       "<div class=\"d-flex align-items-center\">\n",
       "<div class=\"flag flag--thb\"></div>\n",
       "<div class=\"ml-2 text-uppercase\">thb <span class=\"text-capitalize\">(Thai Baht)</span>\n",
       "</div>\n",
       "</div>\n",
       "</td>\n",
       "<td>1</td>\n",
       "<td>3.95</td>\n",
       "<td>3.97</td>\n",
       "</tr>\n",
       "<tr>\n",
       "<td>\n",
       "<div class=\"d-flex align-items-center\">\n",
       "<div class=\"flag flag--aed\"></div>\n",
       "<div class=\"ml-2 text-uppercase\">aed <span class=\"text-capitalize\">(UAE Dirham)</span>\n",
       "</div>\n",
       "</div>\n",
       "</td>\n",
       "<td>1</td>\n",
       "<td>37.05</td>\n",
       "<td>37.21</td>\n",
       "</tr>\n",
       "<tr>\n",
       "<td>\n",
       "<div class=\"d-flex align-items-center\">\n",
       "<div class=\"flag flag--myr\"></div>\n",
       "<div class=\"ml-2 text-uppercase\">myr <span class=\"text-capitalize\">(Malaysian Ringgit)</span>\n",
       "</div>\n",
       "</div>\n",
       "</td>\n",
       "<td>1</td>\n",
       "<td>30.67</td>\n",
       "<td>30.80</td>\n",
       "</tr>\n",
       "<tr>\n",
       "<td>\n",
       "<div class=\"d-flex align-items-center\">\n",
       "<div class=\"flag flag--krw\"></div>\n",
       "<div class=\"ml-2 text-uppercase\">krw <span class=\"text-capitalize\">(South Korean Won)</span>\n",
       "</div>\n",
       "</div>\n",
       "</td>\n",
       "<td>100</td>\n",
       "<td>9.32</td>\n",
       "<td>9.36</td>\n",
       "</tr>\n",
       "<tr>\n",
       "<td>\n",
       "<div class=\"d-flex align-items-center\">\n",
       "<div class=\"flag flag--sek\"></div>\n",
       "<div class=\"ml-2 text-uppercase\">sek <span class=\"text-capitalize\">(Swedish Kroner)</span>\n",
       "</div>\n",
       "</div>\n",
       "</td>\n",
       "<td>1</td>\n",
       "<td>13.62</td>\n",
       "<td>13.68</td>\n",
       "</tr>\n",
       "<tr>\n",
       "<td>\n",
       "<div class=\"d-flex align-items-center\">\n",
       "<div class=\"flag flag--dkk\"></div>\n",
       "<div class=\"ml-2 text-uppercase\">dkk <span class=\"text-capitalize\">(Danish Kroner)</span>\n",
       "</div>\n",
       "</div>\n",
       "</td>\n",
       "<td>1</td>\n",
       "<td>20.00</td>\n",
       "<td>20.08</td>\n",
       "</tr>\n",
       "<tr>\n",
       "<td>\n",
       "<div class=\"d-flex align-items-center\">\n",
       "<div class=\"flag flag--hkd\"></div>\n",
       "<div class=\"ml-2 text-uppercase\">hkd <span class=\"text-capitalize\">(Hong Kong Dollar)</span>\n",
       "</div>\n",
       "</div>\n",
       "</td>\n",
       "<td>1</td>\n",
       "<td>17.50</td>\n",
       "<td>17.58</td>\n",
       "</tr>\n",
       "<tr>\n",
       "<td>\n",
       "<div class=\"d-flex align-items-center\">\n",
       "<div class=\"flag flag--kwd\"></div>\n",
       "<div class=\"ml-2 text-uppercase\">kwd <span class=\"text-capitalize\">(Kuwaity Dinar)</span>\n",
       "</div>\n",
       "</div>\n",
       "</td>\n",
       "<td>1</td>\n",
       "<td>442.09</td>\n",
       "<td>444.04</td>\n",
       "</tr>\n",
       "<tr>\n",
       "<td>\n",
       "<div class=\"d-flex align-items-center\">\n",
       "<div class=\"flag flag--bhd\"></div>\n",
       "<div class=\"ml-2 text-uppercase\">bhd <span class=\"text-capitalize\">(Bahrain Dinar)</span>\n",
       "</div>\n",
       "</div>\n",
       "</td>\n",
       "<td>1</td>\n",
       "<td>360.96</td>\n",
       "<td>362.56</td>\n",
       "</tr>\n",
       "<tr>\n",
       "<td>\n",
       "<div class=\"d-flex align-items-center\">\n",
       "<div class=\"flag flag--omr\"></div>\n",
       "<div class=\"ml-2 text-uppercase\">omr <span class=\"text-capitalize\">(Omani Rial)</span>\n",
       "</div>\n",
       "</div>\n",
       "</td>\n",
       "<td>1</td>\n",
       "<td>353.49</td>\n",
       "<td>355.05</td>\n",
       "</tr>\n",
       "</tbody>\n",
       "</table>\n",
       "</div>"
      ]
     },
     "execution_count": 95,
     "metadata": {},
     "output_type": "execute_result"
    }
   ],
   "source": [
    "table = soup.css.select(\".table-responsive\")[1] #css bata data tanna lai  use gareko 0 indexed value deko\n",
    "table\n",
    "\n"
   ]
  },
  {
   "cell_type": "code",
   "execution_count": null,
   "id": "5d73d829",
   "metadata": {},
   "outputs": [
    {
     "data": {
      "text/plain": [
       "['',\n",
       " '',\n",
       " 'Note: Under the present',\n",
       " '               system the open market exchange rates quoted by different banks may differ.',\n",
       " '',\n",
       " '',\n",
       " 'Currency',\n",
       " 'Unit',\n",
       " 'Buy',\n",
       " 'Sell',\n",
       " '',\n",
       " '',\n",
       " '',\n",
       " '',\n",
       " '',\n",
       " '',\n",
       " '',\n",
       " 'usd (U.S. Dollar)',\n",
       " '',\n",
       " '',\n",
       " '',\n",
       " '1',\n",
       " '136.08',\n",
       " '136.68',\n",
       " '',\n",
       " '',\n",
       " '',\n",
       " '',\n",
       " '',\n",
       " 'eur (European Euro)',\n",
       " '',\n",
       " '',\n",
       " '',\n",
       " '1',\n",
       " '149.09',\n",
       " '149.75',\n",
       " '',\n",
       " '',\n",
       " '',\n",
       " '',\n",
       " '',\n",
       " 'gbp (UK Pound Sterling)',\n",
       " '',\n",
       " '',\n",
       " '',\n",
       " '1',\n",
       " '175.43',\n",
       " '176.20',\n",
       " '',\n",
       " '',\n",
       " '',\n",
       " '',\n",
       " '',\n",
       " 'chf (Swiss Franc)',\n",
       " '',\n",
       " '',\n",
       " '',\n",
       " '1',\n",
       " '158.13',\n",
       " '158.83',\n",
       " '',\n",
       " '',\n",
       " '',\n",
       " '',\n",
       " '',\n",
       " 'aud (Australian Dollar)',\n",
       " '',\n",
       " '',\n",
       " '',\n",
       " '1',\n",
       " '82.25',\n",
       " '82.61',\n",
       " '',\n",
       " '',\n",
       " '',\n",
       " '',\n",
       " '',\n",
       " 'cad (Canadian Dollar)',\n",
       " '',\n",
       " '',\n",
       " '',\n",
       " '1',\n",
       " '95.69',\n",
       " '96.11',\n",
       " '',\n",
       " '',\n",
       " '',\n",
       " '',\n",
       " '',\n",
       " 'sgd (Singapore Dollar)',\n",
       " '',\n",
       " '',\n",
       " '',\n",
       " '1',\n",
       " '101.10',\n",
       " '101.55',\n",
       " '',\n",
       " '',\n",
       " '',\n",
       " '',\n",
       " '',\n",
       " 'jpy (Japanese Yen)',\n",
       " '',\n",
       " '',\n",
       " '',\n",
       " '10',\n",
       " '9.26',\n",
       " '9.30',\n",
       " '',\n",
       " '',\n",
       " '',\n",
       " '',\n",
       " '',\n",
       " 'cny (Chinese Yuan)',\n",
       " '',\n",
       " '',\n",
       " '',\n",
       " '1',\n",
       " '18.69',\n",
       " '18.77',\n",
       " '',\n",
       " '',\n",
       " '',\n",
       " '',\n",
       " '',\n",
       " 'sar (Saudi Arabian Riyal)',\n",
       " '',\n",
       " '',\n",
       " '',\n",
       " '1',\n",
       " '36.27',\n",
       " '36.43',\n",
       " '',\n",
       " '',\n",
       " '',\n",
       " '',\n",
       " '',\n",
       " 'qar (Qatari Riyal)',\n",
       " '',\n",
       " '',\n",
       " '',\n",
       " '1',\n",
       " '37.33',\n",
       " '37.50',\n",
       " '',\n",
       " '',\n",
       " '',\n",
       " '',\n",
       " '',\n",
       " 'thb (Thai Baht)',\n",
       " '',\n",
       " '',\n",
       " '',\n",
       " '1',\n",
       " '3.95',\n",
       " '3.97',\n",
       " '',\n",
       " '',\n",
       " '',\n",
       " '',\n",
       " '',\n",
       " 'aed (UAE Dirham)',\n",
       " '',\n",
       " '',\n",
       " '',\n",
       " '1',\n",
       " '37.05',\n",
       " '37.21',\n",
       " '',\n",
       " '',\n",
       " '',\n",
       " '',\n",
       " '',\n",
       " 'myr (Malaysian Ringgit)',\n",
       " '',\n",
       " '',\n",
       " '',\n",
       " '1',\n",
       " '30.67',\n",
       " '30.80',\n",
       " '',\n",
       " '',\n",
       " '',\n",
       " '',\n",
       " '',\n",
       " 'krw (South Korean Won)',\n",
       " '',\n",
       " '',\n",
       " '',\n",
       " '100',\n",
       " '9.32',\n",
       " '9.36',\n",
       " '',\n",
       " '',\n",
       " '',\n",
       " '',\n",
       " '',\n",
       " 'sek (Swedish Kroner)',\n",
       " '',\n",
       " '',\n",
       " '',\n",
       " '1',\n",
       " '13.62',\n",
       " '13.68',\n",
       " '',\n",
       " '',\n",
       " '',\n",
       " '',\n",
       " '',\n",
       " 'dkk (Danish Kroner)',\n",
       " '',\n",
       " '',\n",
       " '',\n",
       " '1',\n",
       " '20.00',\n",
       " '20.08',\n",
       " '',\n",
       " '',\n",
       " '',\n",
       " '',\n",
       " '',\n",
       " 'hkd (Hong Kong Dollar)',\n",
       " '',\n",
       " '',\n",
       " '',\n",
       " '1',\n",
       " '17.50',\n",
       " '17.58',\n",
       " '',\n",
       " '',\n",
       " '',\n",
       " '',\n",
       " '',\n",
       " 'kwd (Kuwaity Dinar)',\n",
       " '',\n",
       " '',\n",
       " '',\n",
       " '1',\n",
       " '442.09',\n",
       " '444.04',\n",
       " '',\n",
       " '',\n",
       " '',\n",
       " '',\n",
       " '',\n",
       " 'bhd (Bahrain Dinar)',\n",
       " '',\n",
       " '',\n",
       " '',\n",
       " '1',\n",
       " '360.96',\n",
       " '362.56',\n",
       " '',\n",
       " '',\n",
       " '',\n",
       " '',\n",
       " '',\n",
       " 'omr (Omani Rial)',\n",
       " '',\n",
       " '',\n",
       " '',\n",
       " '1',\n",
       " '353.49',\n",
       " '355.05',\n",
       " '',\n",
       " '',\n",
       " '',\n",
       " '']"
      ]
     },
     "execution_count": 96,
     "metadata": {},
     "output_type": "execute_result"
    }
   ],
   "source": [
    "tags = table.text.split('\\n')#table bata text matra tanna lai split gareko\n",
    "tags "
   ]
  },
  {
   "cell_type": "code",
   "execution_count": null,
   "id": "ab26546a",
   "metadata": {},
   "outputs": [
    {
     "data": {
      "text/plain": [
       "['Currency',\n",
       " 'Unit',\n",
       " 'Buy',\n",
       " 'Sell',\n",
       " 'usd (U.S. Dollar)',\n",
       " '1',\n",
       " '136.08',\n",
       " '136.68',\n",
       " 'eur (European Euro)',\n",
       " '1',\n",
       " '149.09',\n",
       " '149.75',\n",
       " 'gbp (UK Pound Sterling)',\n",
       " '1',\n",
       " '175.43',\n",
       " '176.20',\n",
       " 'chf (Swiss Franc)',\n",
       " '1',\n",
       " '158.13',\n",
       " '158.83',\n",
       " 'aud (Australian Dollar)',\n",
       " '1',\n",
       " '82.25',\n",
       " '82.61',\n",
       " 'cad (Canadian Dollar)',\n",
       " '1',\n",
       " '95.69',\n",
       " '96.11',\n",
       " 'sgd (Singapore Dollar)',\n",
       " '1',\n",
       " '101.10',\n",
       " '101.55',\n",
       " 'jpy (Japanese Yen)',\n",
       " '10',\n",
       " '9.26',\n",
       " '9.30',\n",
       " 'cny (Chinese Yuan)',\n",
       " '1',\n",
       " '18.69',\n",
       " '18.77',\n",
       " 'sar (Saudi Arabian Riyal)',\n",
       " '1',\n",
       " '36.27',\n",
       " '36.43',\n",
       " 'qar (Qatari Riyal)',\n",
       " '1',\n",
       " '37.33',\n",
       " '37.50',\n",
       " 'thb (Thai Baht)',\n",
       " '1',\n",
       " '3.95',\n",
       " '3.97',\n",
       " 'aed (UAE Dirham)',\n",
       " '1',\n",
       " '37.05',\n",
       " '37.21',\n",
       " 'myr (Malaysian Ringgit)',\n",
       " '1',\n",
       " '30.67',\n",
       " '30.80',\n",
       " 'krw (South Korean Won)',\n",
       " '100',\n",
       " '9.32',\n",
       " '9.36',\n",
       " 'sek (Swedish Kroner)',\n",
       " '1',\n",
       " '13.62',\n",
       " '13.68',\n",
       " 'dkk (Danish Kroner)',\n",
       " '1',\n",
       " '20.00',\n",
       " '20.08',\n",
       " 'hkd (Hong Kong Dollar)',\n",
       " '1',\n",
       " '17.50',\n",
       " '17.58',\n",
       " 'kwd (Kuwaity Dinar)',\n",
       " '1',\n",
       " '442.09',\n",
       " '444.04',\n",
       " 'bhd (Bahrain Dinar)',\n",
       " '1',\n",
       " '360.96',\n",
       " '362.56',\n",
       " 'omr (Omani Rial)',\n",
       " '1',\n",
       " '353.49',\n",
       " '355.05']"
      ]
     },
     "execution_count": 97,
     "metadata": {},
     "output_type": "execute_result"
    }
   ],
   "source": [
    "data = []\n",
    "for substrings in tags:\n",
    "    if substrings != '':\n",
    "        \n",
    "        data.append(substrings)\n",
    "\n",
    "data = data[2:] \n",
    "\n",
    "data \n",
    "\n",
    "\n"
   ]
  },
  {
   "cell_type": "code",
   "execution_count": null,
   "id": "84b5396a",
   "metadata": {},
   "outputs": [
    {
     "data": {
      "text/plain": [
       "['Currency', 'Unit', 'Buy', 'Sell']"
      ]
     },
     "execution_count": 98,
     "metadata": {},
     "output_type": "execute_result"
    }
   ],
   "source": [
    "heading = data[:4]\n",
    "heading "
   ]
  },
  {
   "cell_type": "code",
   "execution_count": null,
   "id": "d6885fbb",
   "metadata": {},
   "outputs": [
    {
     "data": {
      "text/plain": [
       "['usd (U.S. Dollar)',\n",
       " '1',\n",
       " '136.08',\n",
       " '136.68',\n",
       " 'eur (European Euro)',\n",
       " '1',\n",
       " '149.09',\n",
       " '149.75',\n",
       " 'gbp (UK Pound Sterling)',\n",
       " '1',\n",
       " '175.43',\n",
       " '176.20',\n",
       " 'chf (Swiss Franc)',\n",
       " '1',\n",
       " '158.13',\n",
       " '158.83',\n",
       " 'aud (Australian Dollar)',\n",
       " '1',\n",
       " '82.25',\n",
       " '82.61',\n",
       " 'cad (Canadian Dollar)',\n",
       " '1',\n",
       " '95.69',\n",
       " '96.11',\n",
       " 'sgd (Singapore Dollar)',\n",
       " '1',\n",
       " '101.10',\n",
       " '101.55',\n",
       " 'jpy (Japanese Yen)',\n",
       " '10',\n",
       " '9.26',\n",
       " '9.30',\n",
       " 'cny (Chinese Yuan)',\n",
       " '1',\n",
       " '18.69',\n",
       " '18.77',\n",
       " 'sar (Saudi Arabian Riyal)',\n",
       " '1',\n",
       " '36.27',\n",
       " '36.43',\n",
       " 'qar (Qatari Riyal)',\n",
       " '1',\n",
       " '37.33',\n",
       " '37.50',\n",
       " 'thb (Thai Baht)',\n",
       " '1',\n",
       " '3.95',\n",
       " '3.97',\n",
       " 'aed (UAE Dirham)',\n",
       " '1',\n",
       " '37.05',\n",
       " '37.21',\n",
       " 'myr (Malaysian Ringgit)',\n",
       " '1',\n",
       " '30.67',\n",
       " '30.80',\n",
       " 'krw (South Korean Won)',\n",
       " '100',\n",
       " '9.32',\n",
       " '9.36',\n",
       " 'sek (Swedish Kroner)',\n",
       " '1',\n",
       " '13.62',\n",
       " '13.68',\n",
       " 'dkk (Danish Kroner)',\n",
       " '1',\n",
       " '20.00',\n",
       " '20.08',\n",
       " 'hkd (Hong Kong Dollar)',\n",
       " '1',\n",
       " '17.50',\n",
       " '17.58',\n",
       " 'kwd (Kuwaity Dinar)',\n",
       " '1',\n",
       " '442.09',\n",
       " '444.04',\n",
       " 'bhd (Bahrain Dinar)',\n",
       " '1',\n",
       " '360.96',\n",
       " '362.56',\n",
       " 'omr (Omani Rial)',\n",
       " '1',\n",
       " '353.49',\n",
       " '355.05']"
      ]
     },
     "execution_count": 99,
     "metadata": {},
     "output_type": "execute_result"
    }
   ],
   "source": [
    "data = data[4:] #data bata heading hataune\n",
    "data "
   ]
  },
  {
   "cell_type": "code",
   "execution_count": null,
   "id": "1985a09a",
   "metadata": {},
   "outputs": [
    {
     "name": "stdout",
     "output_type": "stream",
     "text": [
      "[['usd (U.S. Dollar)', '1', '136.08', '136.68'], ['eur (European Euro)', '1', '149.09', '149.75'], ['gbp (UK Pound Sterling)', '1', '175.43', '176.20'], ['chf (Swiss Franc)', '1', '158.13', '158.83'], ['aud (Australian Dollar)', '1', '82.25', '82.61'], ['cad (Canadian Dollar)', '1', '95.69', '96.11'], ['sgd (Singapore Dollar)', '1', '101.10', '101.55'], ['jpy (Japanese Yen)', '10', '9.26', '9.30'], ['cny (Chinese Yuan)', '1', '18.69', '18.77'], ['sar (Saudi Arabian Riyal)', '1', '36.27', '36.43'], ['qar (Qatari Riyal)', '1', '37.33', '37.50'], ['thb (Thai Baht)', '1', '3.95', '3.97'], ['aed (UAE Dirham)', '1', '37.05', '37.21'], ['myr (Malaysian Ringgit)', '1', '30.67', '30.80'], ['krw (South Korean Won)', '100', '9.32', '9.36'], ['sek (Swedish Kroner)', '1', '13.62', '13.68'], ['dkk (Danish Kroner)', '1', '20.00', '20.08'], ['hkd (Hong Kong Dollar)', '1', '17.50', '17.58'], ['kwd (Kuwaity Dinar)', '1', '442.09', '444.04'], ['bhd (Bahrain Dinar)', '1', '360.96', '362.56'], ['omr (Omani Rial)', '1', '353.49', '355.05']]\n"
     ]
    },
    {
     "data": {
      "text/plain": [
       "[['usd (U.S. Dollar)', '1', '136.08', '136.68'],\n",
       " ['eur (European Euro)', '1', '149.09', '149.75'],\n",
       " ['gbp (UK Pound Sterling)', '1', '175.43', '176.20'],\n",
       " ['chf (Swiss Franc)', '1', '158.13', '158.83'],\n",
       " ['aud (Australian Dollar)', '1', '82.25', '82.61'],\n",
       " ['cad (Canadian Dollar)', '1', '95.69', '96.11'],\n",
       " ['sgd (Singapore Dollar)', '1', '101.10', '101.55'],\n",
       " ['jpy (Japanese Yen)', '10', '9.26', '9.30'],\n",
       " ['cny (Chinese Yuan)', '1', '18.69', '18.77'],\n",
       " ['sar (Saudi Arabian Riyal)', '1', '36.27', '36.43'],\n",
       " ['qar (Qatari Riyal)', '1', '37.33', '37.50'],\n",
       " ['thb (Thai Baht)', '1', '3.95', '3.97'],\n",
       " ['aed (UAE Dirham)', '1', '37.05', '37.21'],\n",
       " ['myr (Malaysian Ringgit)', '1', '30.67', '30.80'],\n",
       " ['krw (South Korean Won)', '100', '9.32', '9.36'],\n",
       " ['sek (Swedish Kroner)', '1', '13.62', '13.68'],\n",
       " ['dkk (Danish Kroner)', '1', '20.00', '20.08'],\n",
       " ['hkd (Hong Kong Dollar)', '1', '17.50', '17.58'],\n",
       " ['kwd (Kuwaity Dinar)', '1', '442.09', '444.04'],\n",
       " ['bhd (Bahrain Dinar)', '1', '360.96', '362.56'],\n",
       " ['omr (Omani Rial)', '1', '353.49', '355.05']]"
      ]
     },
     "execution_count": 103,
     "metadata": {},
     "output_type": "execute_result"
    }
   ],
   "source": [
    "cleaned_data = []\n",
    "# Split the list into sublists of 4 elements each\n",
    "sublists = [data[i:i+4] for i in range(0, len(data), 4)]\n",
    "print(sublists)\n",
    "\n",
    "# # Print the result\n",
    "for sublist in sublists:\n",
    "    cleaned_data.append(sublist)\n",
    "cleaned_data\n"
   ]
  },
  {
   "cell_type": "code",
   "execution_count": null,
   "id": "6264280f",
   "metadata": {},
   "outputs": [
    {
     "name": "stdout",
     "output_type": "stream",
     "text": [
      "Requirement already satisfied: pandas in c:\\users\\gautam gc\\anaconda3\\lib\\site-packages (2.2.2)\n",
      "Requirement already satisfied: numpy>=1.26.0 in c:\\users\\gautam gc\\anaconda3\\lib\\site-packages (from pandas) (1.26.4)\n",
      "Requirement already satisfied: python-dateutil>=2.8.2 in c:\\users\\gautam gc\\appdata\\roaming\\python\\python312\\site-packages (from pandas) (2.9.0.post0)\n",
      "Requirement already satisfied: pytz>=2020.1 in c:\\users\\gautam gc\\anaconda3\\lib\\site-packages (from pandas) (2024.1)\n",
      "Requirement already satisfied: tzdata>=2022.7 in c:\\users\\gautam gc\\anaconda3\\lib\\site-packages (from pandas) (2023.3)\n",
      "Requirement already satisfied: six>=1.5 in c:\\users\\gautam gc\\appdata\\roaming\\python\\python312\\site-packages (from python-dateutil>=2.8.2->pandas) (1.17.0)\n"
     ]
    }
   ],
   "source": [
    "!pip install pandas \n"
   ]
  },
  {
   "cell_type": "code",
   "execution_count": 113,
   "id": "a5a5ac10",
   "metadata": {},
   "outputs": [
    {
     "data": {
      "text/html": [
       "<div>\n",
       "<style scoped>\n",
       "    .dataframe tbody tr th:only-of-type {\n",
       "        vertical-align: middle;\n",
       "    }\n",
       "\n",
       "    .dataframe tbody tr th {\n",
       "        vertical-align: top;\n",
       "    }\n",
       "\n",
       "    .dataframe thead th {\n",
       "        text-align: right;\n",
       "    }\n",
       "</style>\n",
       "<table border=\"1\" class=\"dataframe\">\n",
       "  <thead>\n",
       "    <tr style=\"text-align: right;\">\n",
       "      <th></th>\n",
       "      <th>Currency</th>\n",
       "      <th>Unit</th>\n",
       "      <th>Buy</th>\n",
       "      <th>Sell</th>\n",
       "    </tr>\n",
       "  </thead>\n",
       "  <tbody>\n",
       "    <tr>\n",
       "      <th>0</th>\n",
       "      <td>usd (U.S. Dollar)</td>\n",
       "      <td>1</td>\n",
       "      <td>136.08</td>\n",
       "      <td>136.68</td>\n",
       "    </tr>\n",
       "    <tr>\n",
       "      <th>1</th>\n",
       "      <td>eur (European Euro)</td>\n",
       "      <td>1</td>\n",
       "      <td>149.09</td>\n",
       "      <td>149.75</td>\n",
       "    </tr>\n",
       "    <tr>\n",
       "      <th>2</th>\n",
       "      <td>gbp (UK Pound Sterling)</td>\n",
       "      <td>1</td>\n",
       "      <td>175.43</td>\n",
       "      <td>176.20</td>\n",
       "    </tr>\n",
       "    <tr>\n",
       "      <th>3</th>\n",
       "      <td>chf (Swiss Franc)</td>\n",
       "      <td>1</td>\n",
       "      <td>158.13</td>\n",
       "      <td>158.83</td>\n",
       "    </tr>\n",
       "    <tr>\n",
       "      <th>4</th>\n",
       "      <td>aud (Australian Dollar)</td>\n",
       "      <td>1</td>\n",
       "      <td>82.25</td>\n",
       "      <td>82.61</td>\n",
       "    </tr>\n",
       "    <tr>\n",
       "      <th>5</th>\n",
       "      <td>cad (Canadian Dollar)</td>\n",
       "      <td>1</td>\n",
       "      <td>95.69</td>\n",
       "      <td>96.11</td>\n",
       "    </tr>\n",
       "    <tr>\n",
       "      <th>6</th>\n",
       "      <td>sgd (Singapore Dollar)</td>\n",
       "      <td>1</td>\n",
       "      <td>101.10</td>\n",
       "      <td>101.55</td>\n",
       "    </tr>\n",
       "    <tr>\n",
       "      <th>7</th>\n",
       "      <td>jpy (Japanese Yen)</td>\n",
       "      <td>10</td>\n",
       "      <td>9.26</td>\n",
       "      <td>9.30</td>\n",
       "    </tr>\n",
       "    <tr>\n",
       "      <th>8</th>\n",
       "      <td>cny (Chinese Yuan)</td>\n",
       "      <td>1</td>\n",
       "      <td>18.69</td>\n",
       "      <td>18.77</td>\n",
       "    </tr>\n",
       "    <tr>\n",
       "      <th>9</th>\n",
       "      <td>sar (Saudi Arabian Riyal)</td>\n",
       "      <td>1</td>\n",
       "      <td>36.27</td>\n",
       "      <td>36.43</td>\n",
       "    </tr>\n",
       "    <tr>\n",
       "      <th>10</th>\n",
       "      <td>qar (Qatari Riyal)</td>\n",
       "      <td>1</td>\n",
       "      <td>37.33</td>\n",
       "      <td>37.50</td>\n",
       "    </tr>\n",
       "    <tr>\n",
       "      <th>11</th>\n",
       "      <td>thb (Thai Baht)</td>\n",
       "      <td>1</td>\n",
       "      <td>3.95</td>\n",
       "      <td>3.97</td>\n",
       "    </tr>\n",
       "    <tr>\n",
       "      <th>12</th>\n",
       "      <td>aed (UAE Dirham)</td>\n",
       "      <td>1</td>\n",
       "      <td>37.05</td>\n",
       "      <td>37.21</td>\n",
       "    </tr>\n",
       "    <tr>\n",
       "      <th>13</th>\n",
       "      <td>myr (Malaysian Ringgit)</td>\n",
       "      <td>1</td>\n",
       "      <td>30.67</td>\n",
       "      <td>30.80</td>\n",
       "    </tr>\n",
       "    <tr>\n",
       "      <th>14</th>\n",
       "      <td>krw (South Korean Won)</td>\n",
       "      <td>100</td>\n",
       "      <td>9.32</td>\n",
       "      <td>9.36</td>\n",
       "    </tr>\n",
       "    <tr>\n",
       "      <th>15</th>\n",
       "      <td>sek (Swedish Kroner)</td>\n",
       "      <td>1</td>\n",
       "      <td>13.62</td>\n",
       "      <td>13.68</td>\n",
       "    </tr>\n",
       "    <tr>\n",
       "      <th>16</th>\n",
       "      <td>dkk (Danish Kroner)</td>\n",
       "      <td>1</td>\n",
       "      <td>20.00</td>\n",
       "      <td>20.08</td>\n",
       "    </tr>\n",
       "    <tr>\n",
       "      <th>17</th>\n",
       "      <td>hkd (Hong Kong Dollar)</td>\n",
       "      <td>1</td>\n",
       "      <td>17.50</td>\n",
       "      <td>17.58</td>\n",
       "    </tr>\n",
       "    <tr>\n",
       "      <th>18</th>\n",
       "      <td>kwd (Kuwaity Dinar)</td>\n",
       "      <td>1</td>\n",
       "      <td>442.09</td>\n",
       "      <td>444.04</td>\n",
       "    </tr>\n",
       "    <tr>\n",
       "      <th>19</th>\n",
       "      <td>bhd (Bahrain Dinar)</td>\n",
       "      <td>1</td>\n",
       "      <td>360.96</td>\n",
       "      <td>362.56</td>\n",
       "    </tr>\n",
       "    <tr>\n",
       "      <th>20</th>\n",
       "      <td>omr (Omani Rial)</td>\n",
       "      <td>1</td>\n",
       "      <td>353.49</td>\n",
       "      <td>355.05</td>\n",
       "    </tr>\n",
       "  </tbody>\n",
       "</table>\n",
       "</div>"
      ],
      "text/plain": [
       "                     Currency Unit     Buy    Sell\n",
       "0           usd (U.S. Dollar)    1  136.08  136.68\n",
       "1         eur (European Euro)    1  149.09  149.75\n",
       "2     gbp (UK Pound Sterling)    1  175.43  176.20\n",
       "3           chf (Swiss Franc)    1  158.13  158.83\n",
       "4     aud (Australian Dollar)    1   82.25   82.61\n",
       "5       cad (Canadian Dollar)    1   95.69   96.11\n",
       "6      sgd (Singapore Dollar)    1  101.10  101.55\n",
       "7          jpy (Japanese Yen)   10    9.26    9.30\n",
       "8          cny (Chinese Yuan)    1   18.69   18.77\n",
       "9   sar (Saudi Arabian Riyal)    1   36.27   36.43\n",
       "10         qar (Qatari Riyal)    1   37.33   37.50\n",
       "11            thb (Thai Baht)    1    3.95    3.97\n",
       "12           aed (UAE Dirham)    1   37.05   37.21\n",
       "13    myr (Malaysian Ringgit)    1   30.67   30.80\n",
       "14     krw (South Korean Won)  100    9.32    9.36\n",
       "15       sek (Swedish Kroner)    1   13.62   13.68\n",
       "16        dkk (Danish Kroner)    1   20.00   20.08\n",
       "17     hkd (Hong Kong Dollar)    1   17.50   17.58\n",
       "18        kwd (Kuwaity Dinar)    1  442.09  444.04\n",
       "19        bhd (Bahrain Dinar)    1  360.96  362.56\n",
       "20           omr (Omani Rial)    1  353.49  355.05"
      ]
     },
     "execution_count": 113,
     "metadata": {},
     "output_type": "execute_result"
    }
   ],
   "source": [
    "import pandas as pd \n",
    "df = pd.DataFrame(cleaned_data, columns=heading) #dataframe ma data halne\n",
    "df"
   ]
  },
  {
   "cell_type": "code",
   "execution_count": null,
   "id": "161ed057",
   "metadata": {},
   "outputs": [
    {
     "name": "stdout",
     "output_type": "stream",
     "text": [
      "Requirement already satisfied: plotly in c:\\users\\gautam gc\\anaconda3\\lib\\site-packages (5.24.1)\n",
      "Requirement already satisfied: tenacity>=6.2.0 in c:\\users\\gautam gc\\anaconda3\\lib\\site-packages (from plotly) (8.2.3)\n",
      "Requirement already satisfied: packaging in c:\\users\\gautam gc\\appdata\\roaming\\python\\python312\\site-packages (from plotly) (24.2)\n"
     ]
    }
   ],
   "source": [
    "!pip install plotly"
   ]
  },
  {
   "cell_type": "code",
   "execution_count": 125,
   "id": "166e5a3b",
   "metadata": {},
   "outputs": [
    {
     "data": {
      "text/html": [
       "<div>\n",
       "<style scoped>\n",
       "    .dataframe tbody tr th:only-of-type {\n",
       "        vertical-align: middle;\n",
       "    }\n",
       "\n",
       "    .dataframe tbody tr th {\n",
       "        vertical-align: top;\n",
       "    }\n",
       "\n",
       "    .dataframe thead th {\n",
       "        text-align: right;\n",
       "    }\n",
       "</style>\n",
       "<table border=\"1\" class=\"dataframe\">\n",
       "  <thead>\n",
       "    <tr style=\"text-align: right;\">\n",
       "      <th></th>\n",
       "      <th>Currency</th>\n",
       "      <th>Unit</th>\n",
       "      <th>Buy</th>\n",
       "      <th>Sell</th>\n",
       "    </tr>\n",
       "  </thead>\n",
       "  <tbody>\n",
       "    <tr>\n",
       "      <th>18</th>\n",
       "      <td>kwd (Kuwaity Dinar)</td>\n",
       "      <td>1</td>\n",
       "      <td>442.09</td>\n",
       "      <td>444.04</td>\n",
       "    </tr>\n",
       "    <tr>\n",
       "      <th>19</th>\n",
       "      <td>bhd (Bahrain Dinar)</td>\n",
       "      <td>1</td>\n",
       "      <td>360.96</td>\n",
       "      <td>362.56</td>\n",
       "    </tr>\n",
       "    <tr>\n",
       "      <th>20</th>\n",
       "      <td>omr (Omani Rial)</td>\n",
       "      <td>1</td>\n",
       "      <td>353.49</td>\n",
       "      <td>355.05</td>\n",
       "    </tr>\n",
       "    <tr>\n",
       "      <th>2</th>\n",
       "      <td>gbp (UK Pound Sterling)</td>\n",
       "      <td>1</td>\n",
       "      <td>175.43</td>\n",
       "      <td>176.20</td>\n",
       "    </tr>\n",
       "    <tr>\n",
       "      <th>3</th>\n",
       "      <td>chf (Swiss Franc)</td>\n",
       "      <td>1</td>\n",
       "      <td>158.13</td>\n",
       "      <td>158.83</td>\n",
       "    </tr>\n",
       "    <tr>\n",
       "      <th>1</th>\n",
       "      <td>eur (European Euro)</td>\n",
       "      <td>1</td>\n",
       "      <td>149.09</td>\n",
       "      <td>149.75</td>\n",
       "    </tr>\n",
       "    <tr>\n",
       "      <th>0</th>\n",
       "      <td>usd (U.S. Dollar)</td>\n",
       "      <td>1</td>\n",
       "      <td>136.08</td>\n",
       "      <td>136.68</td>\n",
       "    </tr>\n",
       "    <tr>\n",
       "      <th>6</th>\n",
       "      <td>sgd (Singapore Dollar)</td>\n",
       "      <td>1</td>\n",
       "      <td>101.10</td>\n",
       "      <td>101.55</td>\n",
       "    </tr>\n",
       "    <tr>\n",
       "      <th>5</th>\n",
       "      <td>cad (Canadian Dollar)</td>\n",
       "      <td>1</td>\n",
       "      <td>95.69</td>\n",
       "      <td>96.11</td>\n",
       "    </tr>\n",
       "    <tr>\n",
       "      <th>4</th>\n",
       "      <td>aud (Australian Dollar)</td>\n",
       "      <td>1</td>\n",
       "      <td>82.25</td>\n",
       "      <td>82.61</td>\n",
       "    </tr>\n",
       "    <tr>\n",
       "      <th>10</th>\n",
       "      <td>qar (Qatari Riyal)</td>\n",
       "      <td>1</td>\n",
       "      <td>37.33</td>\n",
       "      <td>37.50</td>\n",
       "    </tr>\n",
       "    <tr>\n",
       "      <th>12</th>\n",
       "      <td>aed (UAE Dirham)</td>\n",
       "      <td>1</td>\n",
       "      <td>37.05</td>\n",
       "      <td>37.21</td>\n",
       "    </tr>\n",
       "    <tr>\n",
       "      <th>9</th>\n",
       "      <td>sar (Saudi Arabian Riyal)</td>\n",
       "      <td>1</td>\n",
       "      <td>36.27</td>\n",
       "      <td>36.43</td>\n",
       "    </tr>\n",
       "    <tr>\n",
       "      <th>13</th>\n",
       "      <td>myr (Malaysian Ringgit)</td>\n",
       "      <td>1</td>\n",
       "      <td>30.67</td>\n",
       "      <td>30.80</td>\n",
       "    </tr>\n",
       "    <tr>\n",
       "      <th>16</th>\n",
       "      <td>dkk (Danish Kroner)</td>\n",
       "      <td>1</td>\n",
       "      <td>20.00</td>\n",
       "      <td>20.08</td>\n",
       "    </tr>\n",
       "    <tr>\n",
       "      <th>8</th>\n",
       "      <td>cny (Chinese Yuan)</td>\n",
       "      <td>1</td>\n",
       "      <td>18.69</td>\n",
       "      <td>18.77</td>\n",
       "    </tr>\n",
       "    <tr>\n",
       "      <th>17</th>\n",
       "      <td>hkd (Hong Kong Dollar)</td>\n",
       "      <td>1</td>\n",
       "      <td>17.50</td>\n",
       "      <td>17.58</td>\n",
       "    </tr>\n",
       "    <tr>\n",
       "      <th>15</th>\n",
       "      <td>sek (Swedish Kroner)</td>\n",
       "      <td>1</td>\n",
       "      <td>13.62</td>\n",
       "      <td>13.68</td>\n",
       "    </tr>\n",
       "    <tr>\n",
       "      <th>14</th>\n",
       "      <td>krw (South Korean Won)</td>\n",
       "      <td>100</td>\n",
       "      <td>9.32</td>\n",
       "      <td>9.36</td>\n",
       "    </tr>\n",
       "    <tr>\n",
       "      <th>7</th>\n",
       "      <td>jpy (Japanese Yen)</td>\n",
       "      <td>10</td>\n",
       "      <td>9.26</td>\n",
       "      <td>9.30</td>\n",
       "    </tr>\n",
       "    <tr>\n",
       "      <th>11</th>\n",
       "      <td>thb (Thai Baht)</td>\n",
       "      <td>1</td>\n",
       "      <td>3.95</td>\n",
       "      <td>3.97</td>\n",
       "    </tr>\n",
       "  </tbody>\n",
       "</table>\n",
       "</div>"
      ],
      "text/plain": [
       "                     Currency Unit     Buy    Sell\n",
       "18        kwd (Kuwaity Dinar)    1  442.09  444.04\n",
       "19        bhd (Bahrain Dinar)    1  360.96  362.56\n",
       "20           omr (Omani Rial)    1  353.49  355.05\n",
       "2     gbp (UK Pound Sterling)    1  175.43  176.20\n",
       "3           chf (Swiss Franc)    1  158.13  158.83\n",
       "1         eur (European Euro)    1  149.09  149.75\n",
       "0           usd (U.S. Dollar)    1  136.08  136.68\n",
       "6      sgd (Singapore Dollar)    1  101.10  101.55\n",
       "5       cad (Canadian Dollar)    1   95.69   96.11\n",
       "4     aud (Australian Dollar)    1   82.25   82.61\n",
       "10         qar (Qatari Riyal)    1   37.33   37.50\n",
       "12           aed (UAE Dirham)    1   37.05   37.21\n",
       "9   sar (Saudi Arabian Riyal)    1   36.27   36.43\n",
       "13    myr (Malaysian Ringgit)    1   30.67   30.80\n",
       "16        dkk (Danish Kroner)    1   20.00   20.08\n",
       "8          cny (Chinese Yuan)    1   18.69   18.77\n",
       "17     hkd (Hong Kong Dollar)    1   17.50   17.58\n",
       "15       sek (Swedish Kroner)    1   13.62   13.68\n",
       "14     krw (South Korean Won)  100    9.32    9.36\n",
       "7          jpy (Japanese Yen)   10    9.26    9.30\n",
       "11            thb (Thai Baht)    1    3.95    3.97"
      ]
     },
     "execution_count": 125,
     "metadata": {},
     "output_type": "execute_result"
    }
   ],
   "source": [
    "df['Sell'] = df['Sell'].astype(float)\n",
    "df['Buy'] = df['Buy'].astype(float) #buying rate lai float ma convert gareko\n",
    "df_sorted = df.sort_values(by=['Buy'], ascending=False) #data lai buying rate ko adhar ma sort gareko\n",
    "df_sorted\n"
   ]
  },
  {
   "cell_type": "code",
   "execution_count": 126,
   "id": "2abdbeac",
   "metadata": {},
   "outputs": [
    {
     "data": {
      "application/vnd.plotly.v1+json": {
       "config": {
        "plotlyServerURL": "https://plot.ly"
       },
       "data": [
        {
         "alignmentgroup": "True",
         "hovertemplate": "Currency=%{x}<br>Buy=%{text}<extra></extra>",
         "legendgroup": "kwd (Kuwaity Dinar)",
         "marker": {
          "color": "#636EFA",
          "pattern": {
           "shape": ""
          }
         },
         "name": "kwd (Kuwaity Dinar)",
         "offsetgroup": "kwd (Kuwaity Dinar)",
         "orientation": "v",
         "showlegend": true,
         "text": [
          442.09
         ],
         "textposition": "auto",
         "type": "bar",
         "x": [
          "kwd (Kuwaity Dinar)"
         ],
         "xaxis": "x",
         "y": [
          442.09
         ],
         "yaxis": "y"
        },
        {
         "alignmentgroup": "True",
         "hovertemplate": "Currency=%{x}<br>Buy=%{text}<extra></extra>",
         "legendgroup": "bhd (Bahrain Dinar)",
         "marker": {
          "color": "#EF553B",
          "pattern": {
           "shape": ""
          }
         },
         "name": "bhd (Bahrain Dinar)",
         "offsetgroup": "bhd (Bahrain Dinar)",
         "orientation": "v",
         "showlegend": true,
         "text": [
          360.96
         ],
         "textposition": "auto",
         "type": "bar",
         "x": [
          "bhd (Bahrain Dinar)"
         ],
         "xaxis": "x",
         "y": [
          360.96
         ],
         "yaxis": "y"
        },
        {
         "alignmentgroup": "True",
         "hovertemplate": "Currency=%{x}<br>Buy=%{text}<extra></extra>",
         "legendgroup": "omr (Omani Rial)",
         "marker": {
          "color": "#00CC96",
          "pattern": {
           "shape": ""
          }
         },
         "name": "omr (Omani Rial)",
         "offsetgroup": "omr (Omani Rial)",
         "orientation": "v",
         "showlegend": true,
         "text": [
          353.49
         ],
         "textposition": "auto",
         "type": "bar",
         "x": [
          "omr (Omani Rial)"
         ],
         "xaxis": "x",
         "y": [
          353.49
         ],
         "yaxis": "y"
        },
        {
         "alignmentgroup": "True",
         "hovertemplate": "Currency=%{x}<br>Buy=%{text}<extra></extra>",
         "legendgroup": "gbp (UK Pound Sterling)",
         "marker": {
          "color": "#AB63FA",
          "pattern": {
           "shape": ""
          }
         },
         "name": "gbp (UK Pound Sterling)",
         "offsetgroup": "gbp (UK Pound Sterling)",
         "orientation": "v",
         "showlegend": true,
         "text": [
          175.43
         ],
         "textposition": "auto",
         "type": "bar",
         "x": [
          "gbp (UK Pound Sterling)"
         ],
         "xaxis": "x",
         "y": [
          175.43
         ],
         "yaxis": "y"
        },
        {
         "alignmentgroup": "True",
         "hovertemplate": "Currency=%{x}<br>Buy=%{text}<extra></extra>",
         "legendgroup": "chf (Swiss Franc)",
         "marker": {
          "color": "#FFA15A",
          "pattern": {
           "shape": ""
          }
         },
         "name": "chf (Swiss Franc)",
         "offsetgroup": "chf (Swiss Franc)",
         "orientation": "v",
         "showlegend": true,
         "text": [
          158.13
         ],
         "textposition": "auto",
         "type": "bar",
         "x": [
          "chf (Swiss Franc)"
         ],
         "xaxis": "x",
         "y": [
          158.13
         ],
         "yaxis": "y"
        },
        {
         "alignmentgroup": "True",
         "hovertemplate": "Currency=%{x}<br>Buy=%{text}<extra></extra>",
         "legendgroup": "eur (European Euro)",
         "marker": {
          "color": "#19D3F3",
          "pattern": {
           "shape": ""
          }
         },
         "name": "eur (European Euro)",
         "offsetgroup": "eur (European Euro)",
         "orientation": "v",
         "showlegend": true,
         "text": [
          149.09
         ],
         "textposition": "auto",
         "type": "bar",
         "x": [
          "eur (European Euro)"
         ],
         "xaxis": "x",
         "y": [
          149.09
         ],
         "yaxis": "y"
        },
        {
         "alignmentgroup": "True",
         "hovertemplate": "Currency=%{x}<br>Buy=%{text}<extra></extra>",
         "legendgroup": "usd (U.S. Dollar)",
         "marker": {
          "color": "#FF6692",
          "pattern": {
           "shape": ""
          }
         },
         "name": "usd (U.S. Dollar)",
         "offsetgroup": "usd (U.S. Dollar)",
         "orientation": "v",
         "showlegend": true,
         "text": [
          136.08
         ],
         "textposition": "auto",
         "type": "bar",
         "x": [
          "usd (U.S. Dollar)"
         ],
         "xaxis": "x",
         "y": [
          136.08
         ],
         "yaxis": "y"
        },
        {
         "alignmentgroup": "True",
         "hovertemplate": "Currency=%{x}<br>Buy=%{text}<extra></extra>",
         "legendgroup": "sgd (Singapore Dollar)",
         "marker": {
          "color": "#B6E880",
          "pattern": {
           "shape": ""
          }
         },
         "name": "sgd (Singapore Dollar)",
         "offsetgroup": "sgd (Singapore Dollar)",
         "orientation": "v",
         "showlegend": true,
         "text": [
          101.1
         ],
         "textposition": "auto",
         "type": "bar",
         "x": [
          "sgd (Singapore Dollar)"
         ],
         "xaxis": "x",
         "y": [
          101.1
         ],
         "yaxis": "y"
        },
        {
         "alignmentgroup": "True",
         "hovertemplate": "Currency=%{x}<br>Buy=%{text}<extra></extra>",
         "legendgroup": "cad (Canadian Dollar)",
         "marker": {
          "color": "#FF97FF",
          "pattern": {
           "shape": ""
          }
         },
         "name": "cad (Canadian Dollar)",
         "offsetgroup": "cad (Canadian Dollar)",
         "orientation": "v",
         "showlegend": true,
         "text": [
          95.69
         ],
         "textposition": "auto",
         "type": "bar",
         "x": [
          "cad (Canadian Dollar)"
         ],
         "xaxis": "x",
         "y": [
          95.69
         ],
         "yaxis": "y"
        },
        {
         "alignmentgroup": "True",
         "hovertemplate": "Currency=%{x}<br>Buy=%{text}<extra></extra>",
         "legendgroup": "aud (Australian Dollar)",
         "marker": {
          "color": "#FECB52",
          "pattern": {
           "shape": ""
          }
         },
         "name": "aud (Australian Dollar)",
         "offsetgroup": "aud (Australian Dollar)",
         "orientation": "v",
         "showlegend": true,
         "text": [
          82.25
         ],
         "textposition": "auto",
         "type": "bar",
         "x": [
          "aud (Australian Dollar)"
         ],
         "xaxis": "x",
         "y": [
          82.25
         ],
         "yaxis": "y"
        },
        {
         "alignmentgroup": "True",
         "hovertemplate": "Currency=%{x}<br>Buy=%{text}<extra></extra>",
         "legendgroup": "qar (Qatari Riyal)",
         "marker": {
          "color": "#636EFA",
          "pattern": {
           "shape": ""
          }
         },
         "name": "qar (Qatari Riyal)",
         "offsetgroup": "qar (Qatari Riyal)",
         "orientation": "v",
         "showlegend": true,
         "text": [
          37.33
         ],
         "textposition": "auto",
         "type": "bar",
         "x": [
          "qar (Qatari Riyal)"
         ],
         "xaxis": "x",
         "y": [
          37.33
         ],
         "yaxis": "y"
        },
        {
         "alignmentgroup": "True",
         "hovertemplate": "Currency=%{x}<br>Buy=%{text}<extra></extra>",
         "legendgroup": "aed (UAE Dirham)",
         "marker": {
          "color": "#EF553B",
          "pattern": {
           "shape": ""
          }
         },
         "name": "aed (UAE Dirham)",
         "offsetgroup": "aed (UAE Dirham)",
         "orientation": "v",
         "showlegend": true,
         "text": [
          37.05
         ],
         "textposition": "auto",
         "type": "bar",
         "x": [
          "aed (UAE Dirham)"
         ],
         "xaxis": "x",
         "y": [
          37.05
         ],
         "yaxis": "y"
        },
        {
         "alignmentgroup": "True",
         "hovertemplate": "Currency=%{x}<br>Buy=%{text}<extra></extra>",
         "legendgroup": "sar (Saudi Arabian Riyal)",
         "marker": {
          "color": "#00CC96",
          "pattern": {
           "shape": ""
          }
         },
         "name": "sar (Saudi Arabian Riyal)",
         "offsetgroup": "sar (Saudi Arabian Riyal)",
         "orientation": "v",
         "showlegend": true,
         "text": [
          36.27
         ],
         "textposition": "auto",
         "type": "bar",
         "x": [
          "sar (Saudi Arabian Riyal)"
         ],
         "xaxis": "x",
         "y": [
          36.27
         ],
         "yaxis": "y"
        },
        {
         "alignmentgroup": "True",
         "hovertemplate": "Currency=%{x}<br>Buy=%{text}<extra></extra>",
         "legendgroup": "myr (Malaysian Ringgit)",
         "marker": {
          "color": "#AB63FA",
          "pattern": {
           "shape": ""
          }
         },
         "name": "myr (Malaysian Ringgit)",
         "offsetgroup": "myr (Malaysian Ringgit)",
         "orientation": "v",
         "showlegend": true,
         "text": [
          30.67
         ],
         "textposition": "auto",
         "type": "bar",
         "x": [
          "myr (Malaysian Ringgit)"
         ],
         "xaxis": "x",
         "y": [
          30.67
         ],
         "yaxis": "y"
        },
        {
         "alignmentgroup": "True",
         "hovertemplate": "Currency=%{x}<br>Buy=%{text}<extra></extra>",
         "legendgroup": "dkk (Danish Kroner)",
         "marker": {
          "color": "#FFA15A",
          "pattern": {
           "shape": ""
          }
         },
         "name": "dkk (Danish Kroner)",
         "offsetgroup": "dkk (Danish Kroner)",
         "orientation": "v",
         "showlegend": true,
         "text": [
          20
         ],
         "textposition": "auto",
         "type": "bar",
         "x": [
          "dkk (Danish Kroner)"
         ],
         "xaxis": "x",
         "y": [
          20
         ],
         "yaxis": "y"
        },
        {
         "alignmentgroup": "True",
         "hovertemplate": "Currency=%{x}<br>Buy=%{text}<extra></extra>",
         "legendgroup": "cny (Chinese Yuan)",
         "marker": {
          "color": "#19D3F3",
          "pattern": {
           "shape": ""
          }
         },
         "name": "cny (Chinese Yuan)",
         "offsetgroup": "cny (Chinese Yuan)",
         "orientation": "v",
         "showlegend": true,
         "text": [
          18.69
         ],
         "textposition": "auto",
         "type": "bar",
         "x": [
          "cny (Chinese Yuan)"
         ],
         "xaxis": "x",
         "y": [
          18.69
         ],
         "yaxis": "y"
        },
        {
         "alignmentgroup": "True",
         "hovertemplate": "Currency=%{x}<br>Buy=%{text}<extra></extra>",
         "legendgroup": "hkd (Hong Kong Dollar)",
         "marker": {
          "color": "#FF6692",
          "pattern": {
           "shape": ""
          }
         },
         "name": "hkd (Hong Kong Dollar)",
         "offsetgroup": "hkd (Hong Kong Dollar)",
         "orientation": "v",
         "showlegend": true,
         "text": [
          17.5
         ],
         "textposition": "auto",
         "type": "bar",
         "x": [
          "hkd (Hong Kong Dollar)"
         ],
         "xaxis": "x",
         "y": [
          17.5
         ],
         "yaxis": "y"
        },
        {
         "alignmentgroup": "True",
         "hovertemplate": "Currency=%{x}<br>Buy=%{text}<extra></extra>",
         "legendgroup": "sek (Swedish Kroner)",
         "marker": {
          "color": "#B6E880",
          "pattern": {
           "shape": ""
          }
         },
         "name": "sek (Swedish Kroner)",
         "offsetgroup": "sek (Swedish Kroner)",
         "orientation": "v",
         "showlegend": true,
         "text": [
          13.62
         ],
         "textposition": "auto",
         "type": "bar",
         "x": [
          "sek (Swedish Kroner)"
         ],
         "xaxis": "x",
         "y": [
          13.62
         ],
         "yaxis": "y"
        },
        {
         "alignmentgroup": "True",
         "hovertemplate": "Currency=%{x}<br>Buy=%{text}<extra></extra>",
         "legendgroup": "krw (South Korean Won)",
         "marker": {
          "color": "#FF97FF",
          "pattern": {
           "shape": ""
          }
         },
         "name": "krw (South Korean Won)",
         "offsetgroup": "krw (South Korean Won)",
         "orientation": "v",
         "showlegend": true,
         "text": [
          9.32
         ],
         "textposition": "auto",
         "type": "bar",
         "x": [
          "krw (South Korean Won)"
         ],
         "xaxis": "x",
         "y": [
          9.32
         ],
         "yaxis": "y"
        },
        {
         "alignmentgroup": "True",
         "hovertemplate": "Currency=%{x}<br>Buy=%{text}<extra></extra>",
         "legendgroup": "jpy (Japanese Yen)",
         "marker": {
          "color": "#FECB52",
          "pattern": {
           "shape": ""
          }
         },
         "name": "jpy (Japanese Yen)",
         "offsetgroup": "jpy (Japanese Yen)",
         "orientation": "v",
         "showlegend": true,
         "text": [
          9.26
         ],
         "textposition": "auto",
         "type": "bar",
         "x": [
          "jpy (Japanese Yen)"
         ],
         "xaxis": "x",
         "y": [
          9.26
         ],
         "yaxis": "y"
        },
        {
         "alignmentgroup": "True",
         "hovertemplate": "Currency=%{x}<br>Buy=%{text}<extra></extra>",
         "legendgroup": "thb (Thai Baht)",
         "marker": {
          "color": "#636EFA",
          "pattern": {
           "shape": ""
          }
         },
         "name": "thb (Thai Baht)",
         "offsetgroup": "thb (Thai Baht)",
         "orientation": "v",
         "showlegend": true,
         "text": [
          3.95
         ],
         "textposition": "auto",
         "type": "bar",
         "x": [
          "thb (Thai Baht)"
         ],
         "xaxis": "x",
         "y": [
          3.95
         ],
         "yaxis": "y"
        }
       ],
       "layout": {
        "barmode": "relative",
        "legend": {
         "title": {
          "text": "Currency"
         },
         "tracegroupgap": 0
        },
        "template": {
         "data": {
          "bar": [
           {
            "error_x": {
             "color": "#2a3f5f"
            },
            "error_y": {
             "color": "#2a3f5f"
            },
            "marker": {
             "line": {
              "color": "#E5ECF6",
              "width": 0.5
             },
             "pattern": {
              "fillmode": "overlay",
              "size": 10,
              "solidity": 0.2
             }
            },
            "type": "bar"
           }
          ],
          "barpolar": [
           {
            "marker": {
             "line": {
              "color": "#E5ECF6",
              "width": 0.5
             },
             "pattern": {
              "fillmode": "overlay",
              "size": 10,
              "solidity": 0.2
             }
            },
            "type": "barpolar"
           }
          ],
          "carpet": [
           {
            "aaxis": {
             "endlinecolor": "#2a3f5f",
             "gridcolor": "white",
             "linecolor": "white",
             "minorgridcolor": "white",
             "startlinecolor": "#2a3f5f"
            },
            "baxis": {
             "endlinecolor": "#2a3f5f",
             "gridcolor": "white",
             "linecolor": "white",
             "minorgridcolor": "white",
             "startlinecolor": "#2a3f5f"
            },
            "type": "carpet"
           }
          ],
          "choropleth": [
           {
            "colorbar": {
             "outlinewidth": 0,
             "ticks": ""
            },
            "type": "choropleth"
           }
          ],
          "contour": [
           {
            "colorbar": {
             "outlinewidth": 0,
             "ticks": ""
            },
            "colorscale": [
             [
              0,
              "#0d0887"
             ],
             [
              0.1111111111111111,
              "#46039f"
             ],
             [
              0.2222222222222222,
              "#7201a8"
             ],
             [
              0.3333333333333333,
              "#9c179e"
             ],
             [
              0.4444444444444444,
              "#bd3786"
             ],
             [
              0.5555555555555556,
              "#d8576b"
             ],
             [
              0.6666666666666666,
              "#ed7953"
             ],
             [
              0.7777777777777778,
              "#fb9f3a"
             ],
             [
              0.8888888888888888,
              "#fdca26"
             ],
             [
              1,
              "#f0f921"
             ]
            ],
            "type": "contour"
           }
          ],
          "contourcarpet": [
           {
            "colorbar": {
             "outlinewidth": 0,
             "ticks": ""
            },
            "type": "contourcarpet"
           }
          ],
          "heatmap": [
           {
            "colorbar": {
             "outlinewidth": 0,
             "ticks": ""
            },
            "colorscale": [
             [
              0,
              "#0d0887"
             ],
             [
              0.1111111111111111,
              "#46039f"
             ],
             [
              0.2222222222222222,
              "#7201a8"
             ],
             [
              0.3333333333333333,
              "#9c179e"
             ],
             [
              0.4444444444444444,
              "#bd3786"
             ],
             [
              0.5555555555555556,
              "#d8576b"
             ],
             [
              0.6666666666666666,
              "#ed7953"
             ],
             [
              0.7777777777777778,
              "#fb9f3a"
             ],
             [
              0.8888888888888888,
              "#fdca26"
             ],
             [
              1,
              "#f0f921"
             ]
            ],
            "type": "heatmap"
           }
          ],
          "heatmapgl": [
           {
            "colorbar": {
             "outlinewidth": 0,
             "ticks": ""
            },
            "colorscale": [
             [
              0,
              "#0d0887"
             ],
             [
              0.1111111111111111,
              "#46039f"
             ],
             [
              0.2222222222222222,
              "#7201a8"
             ],
             [
              0.3333333333333333,
              "#9c179e"
             ],
             [
              0.4444444444444444,
              "#bd3786"
             ],
             [
              0.5555555555555556,
              "#d8576b"
             ],
             [
              0.6666666666666666,
              "#ed7953"
             ],
             [
              0.7777777777777778,
              "#fb9f3a"
             ],
             [
              0.8888888888888888,
              "#fdca26"
             ],
             [
              1,
              "#f0f921"
             ]
            ],
            "type": "heatmapgl"
           }
          ],
          "histogram": [
           {
            "marker": {
             "pattern": {
              "fillmode": "overlay",
              "size": 10,
              "solidity": 0.2
             }
            },
            "type": "histogram"
           }
          ],
          "histogram2d": [
           {
            "colorbar": {
             "outlinewidth": 0,
             "ticks": ""
            },
            "colorscale": [
             [
              0,
              "#0d0887"
             ],
             [
              0.1111111111111111,
              "#46039f"
             ],
             [
              0.2222222222222222,
              "#7201a8"
             ],
             [
              0.3333333333333333,
              "#9c179e"
             ],
             [
              0.4444444444444444,
              "#bd3786"
             ],
             [
              0.5555555555555556,
              "#d8576b"
             ],
             [
              0.6666666666666666,
              "#ed7953"
             ],
             [
              0.7777777777777778,
              "#fb9f3a"
             ],
             [
              0.8888888888888888,
              "#fdca26"
             ],
             [
              1,
              "#f0f921"
             ]
            ],
            "type": "histogram2d"
           }
          ],
          "histogram2dcontour": [
           {
            "colorbar": {
             "outlinewidth": 0,
             "ticks": ""
            },
            "colorscale": [
             [
              0,
              "#0d0887"
             ],
             [
              0.1111111111111111,
              "#46039f"
             ],
             [
              0.2222222222222222,
              "#7201a8"
             ],
             [
              0.3333333333333333,
              "#9c179e"
             ],
             [
              0.4444444444444444,
              "#bd3786"
             ],
             [
              0.5555555555555556,
              "#d8576b"
             ],
             [
              0.6666666666666666,
              "#ed7953"
             ],
             [
              0.7777777777777778,
              "#fb9f3a"
             ],
             [
              0.8888888888888888,
              "#fdca26"
             ],
             [
              1,
              "#f0f921"
             ]
            ],
            "type": "histogram2dcontour"
           }
          ],
          "mesh3d": [
           {
            "colorbar": {
             "outlinewidth": 0,
             "ticks": ""
            },
            "type": "mesh3d"
           }
          ],
          "parcoords": [
           {
            "line": {
             "colorbar": {
              "outlinewidth": 0,
              "ticks": ""
             }
            },
            "type": "parcoords"
           }
          ],
          "pie": [
           {
            "automargin": true,
            "type": "pie"
           }
          ],
          "scatter": [
           {
            "fillpattern": {
             "fillmode": "overlay",
             "size": 10,
             "solidity": 0.2
            },
            "type": "scatter"
           }
          ],
          "scatter3d": [
           {
            "line": {
             "colorbar": {
              "outlinewidth": 0,
              "ticks": ""
             }
            },
            "marker": {
             "colorbar": {
              "outlinewidth": 0,
              "ticks": ""
             }
            },
            "type": "scatter3d"
           }
          ],
          "scattercarpet": [
           {
            "marker": {
             "colorbar": {
              "outlinewidth": 0,
              "ticks": ""
             }
            },
            "type": "scattercarpet"
           }
          ],
          "scattergeo": [
           {
            "marker": {
             "colorbar": {
              "outlinewidth": 0,
              "ticks": ""
             }
            },
            "type": "scattergeo"
           }
          ],
          "scattergl": [
           {
            "marker": {
             "colorbar": {
              "outlinewidth": 0,
              "ticks": ""
             }
            },
            "type": "scattergl"
           }
          ],
          "scattermapbox": [
           {
            "marker": {
             "colorbar": {
              "outlinewidth": 0,
              "ticks": ""
             }
            },
            "type": "scattermapbox"
           }
          ],
          "scatterpolar": [
           {
            "marker": {
             "colorbar": {
              "outlinewidth": 0,
              "ticks": ""
             }
            },
            "type": "scatterpolar"
           }
          ],
          "scatterpolargl": [
           {
            "marker": {
             "colorbar": {
              "outlinewidth": 0,
              "ticks": ""
             }
            },
            "type": "scatterpolargl"
           }
          ],
          "scatterternary": [
           {
            "marker": {
             "colorbar": {
              "outlinewidth": 0,
              "ticks": ""
             }
            },
            "type": "scatterternary"
           }
          ],
          "surface": [
           {
            "colorbar": {
             "outlinewidth": 0,
             "ticks": ""
            },
            "colorscale": [
             [
              0,
              "#0d0887"
             ],
             [
              0.1111111111111111,
              "#46039f"
             ],
             [
              0.2222222222222222,
              "#7201a8"
             ],
             [
              0.3333333333333333,
              "#9c179e"
             ],
             [
              0.4444444444444444,
              "#bd3786"
             ],
             [
              0.5555555555555556,
              "#d8576b"
             ],
             [
              0.6666666666666666,
              "#ed7953"
             ],
             [
              0.7777777777777778,
              "#fb9f3a"
             ],
             [
              0.8888888888888888,
              "#fdca26"
             ],
             [
              1,
              "#f0f921"
             ]
            ],
            "type": "surface"
           }
          ],
          "table": [
           {
            "cells": {
             "fill": {
              "color": "#EBF0F8"
             },
             "line": {
              "color": "white"
             }
            },
            "header": {
             "fill": {
              "color": "#C8D4E3"
             },
             "line": {
              "color": "white"
             }
            },
            "type": "table"
           }
          ]
         },
         "layout": {
          "annotationdefaults": {
           "arrowcolor": "#2a3f5f",
           "arrowhead": 0,
           "arrowwidth": 1
          },
          "autotypenumbers": "strict",
          "coloraxis": {
           "colorbar": {
            "outlinewidth": 0,
            "ticks": ""
           }
          },
          "colorscale": {
           "diverging": [
            [
             0,
             "#8e0152"
            ],
            [
             0.1,
             "#c51b7d"
            ],
            [
             0.2,
             "#de77ae"
            ],
            [
             0.3,
             "#f1b6da"
            ],
            [
             0.4,
             "#fde0ef"
            ],
            [
             0.5,
             "#f7f7f7"
            ],
            [
             0.6,
             "#e6f5d0"
            ],
            [
             0.7,
             "#b8e186"
            ],
            [
             0.8,
             "#7fbc41"
            ],
            [
             0.9,
             "#4d9221"
            ],
            [
             1,
             "#276419"
            ]
           ],
           "sequential": [
            [
             0,
             "#0d0887"
            ],
            [
             0.1111111111111111,
             "#46039f"
            ],
            [
             0.2222222222222222,
             "#7201a8"
            ],
            [
             0.3333333333333333,
             "#9c179e"
            ],
            [
             0.4444444444444444,
             "#bd3786"
            ],
            [
             0.5555555555555556,
             "#d8576b"
            ],
            [
             0.6666666666666666,
             "#ed7953"
            ],
            [
             0.7777777777777778,
             "#fb9f3a"
            ],
            [
             0.8888888888888888,
             "#fdca26"
            ],
            [
             1,
             "#f0f921"
            ]
           ],
           "sequentialminus": [
            [
             0,
             "#0d0887"
            ],
            [
             0.1111111111111111,
             "#46039f"
            ],
            [
             0.2222222222222222,
             "#7201a8"
            ],
            [
             0.3333333333333333,
             "#9c179e"
            ],
            [
             0.4444444444444444,
             "#bd3786"
            ],
            [
             0.5555555555555556,
             "#d8576b"
            ],
            [
             0.6666666666666666,
             "#ed7953"
            ],
            [
             0.7777777777777778,
             "#fb9f3a"
            ],
            [
             0.8888888888888888,
             "#fdca26"
            ],
            [
             1,
             "#f0f921"
            ]
           ]
          },
          "colorway": [
           "#636efa",
           "#EF553B",
           "#00cc96",
           "#ab63fa",
           "#FFA15A",
           "#19d3f3",
           "#FF6692",
           "#B6E880",
           "#FF97FF",
           "#FECB52"
          ],
          "font": {
           "color": "#2a3f5f"
          },
          "geo": {
           "bgcolor": "white",
           "lakecolor": "white",
           "landcolor": "#E5ECF6",
           "showlakes": true,
           "showland": true,
           "subunitcolor": "white"
          },
          "hoverlabel": {
           "align": "left"
          },
          "hovermode": "closest",
          "mapbox": {
           "style": "light"
          },
          "paper_bgcolor": "white",
          "plot_bgcolor": "#E5ECF6",
          "polar": {
           "angularaxis": {
            "gridcolor": "white",
            "linecolor": "white",
            "ticks": ""
           },
           "bgcolor": "#E5ECF6",
           "radialaxis": {
            "gridcolor": "white",
            "linecolor": "white",
            "ticks": ""
           }
          },
          "scene": {
           "xaxis": {
            "backgroundcolor": "#E5ECF6",
            "gridcolor": "white",
            "gridwidth": 2,
            "linecolor": "white",
            "showbackground": true,
            "ticks": "",
            "zerolinecolor": "white"
           },
           "yaxis": {
            "backgroundcolor": "#E5ECF6",
            "gridcolor": "white",
            "gridwidth": 2,
            "linecolor": "white",
            "showbackground": true,
            "ticks": "",
            "zerolinecolor": "white"
           },
           "zaxis": {
            "backgroundcolor": "#E5ECF6",
            "gridcolor": "white",
            "gridwidth": 2,
            "linecolor": "white",
            "showbackground": true,
            "ticks": "",
            "zerolinecolor": "white"
           }
          },
          "shapedefaults": {
           "line": {
            "color": "#2a3f5f"
           }
          },
          "ternary": {
           "aaxis": {
            "gridcolor": "white",
            "linecolor": "white",
            "ticks": ""
           },
           "baxis": {
            "gridcolor": "white",
            "linecolor": "white",
            "ticks": ""
           },
           "bgcolor": "#E5ECF6",
           "caxis": {
            "gridcolor": "white",
            "linecolor": "white",
            "ticks": ""
           }
          },
          "title": {
           "x": 0.05
          },
          "xaxis": {
           "automargin": true,
           "gridcolor": "white",
           "linecolor": "white",
           "ticks": "",
           "title": {
            "standoff": 15
           },
           "zerolinecolor": "white",
           "zerolinewidth": 2
          },
          "yaxis": {
           "automargin": true,
           "gridcolor": "white",
           "linecolor": "white",
           "ticks": "",
           "title": {
            "standoff": 15
           },
           "zerolinecolor": "white",
           "zerolinewidth": 2
          }
         }
        },
        "title": {
         "text": "Foreign Exchange Rate"
        },
        "xaxis": {
         "anchor": "y",
         "categoryarray": [
          "kwd (Kuwaity Dinar)",
          "bhd (Bahrain Dinar)",
          "omr (Omani Rial)",
          "gbp (UK Pound Sterling)",
          "chf (Swiss Franc)",
          "eur (European Euro)",
          "usd (U.S. Dollar)",
          "sgd (Singapore Dollar)",
          "cad (Canadian Dollar)",
          "aud (Australian Dollar)",
          "qar (Qatari Riyal)",
          "aed (UAE Dirham)",
          "sar (Saudi Arabian Riyal)",
          "myr (Malaysian Ringgit)",
          "dkk (Danish Kroner)",
          "cny (Chinese Yuan)",
          "hkd (Hong Kong Dollar)",
          "sek (Swedish Kroner)",
          "krw (South Korean Won)",
          "jpy (Japanese Yen)",
          "thb (Thai Baht)"
         ],
         "categoryorder": "array",
         "domain": [
          0,
          1
         ],
         "title": {
          "text": "Currency"
         }
        },
        "yaxis": {
         "anchor": "x",
         "domain": [
          0,
          1
         ],
         "title": {
          "text": "Buy"
         }
        }
       }
      }
     },
     "metadata": {},
     "output_type": "display_data"
    }
   ],
   "source": [
    "import plotly.express as px\n",
    "fig = px.bar(df_sorted,x='Currency',y = 'Buy',title='Foreign Exchange Rate',text='Buy',color='Currency',color_discrete_sequence=px.colors.qualitative.Plotly)\n",
    "fig.show()"
   ]
  },
  {
   "cell_type": "code",
   "execution_count": 127,
   "id": "f243a54d",
   "metadata": {},
   "outputs": [
    {
     "data": {
      "text/html": [
       "<div>\n",
       "<style scoped>\n",
       "    .dataframe tbody tr th:only-of-type {\n",
       "        vertical-align: middle;\n",
       "    }\n",
       "\n",
       "    .dataframe tbody tr th {\n",
       "        vertical-align: top;\n",
       "    }\n",
       "\n",
       "    .dataframe thead th {\n",
       "        text-align: right;\n",
       "    }\n",
       "</style>\n",
       "<table border=\"1\" class=\"dataframe\">\n",
       "  <thead>\n",
       "    <tr style=\"text-align: right;\">\n",
       "      <th></th>\n",
       "      <th>Currency</th>\n",
       "      <th>Unit</th>\n",
       "      <th>Buy</th>\n",
       "      <th>Sell</th>\n",
       "    </tr>\n",
       "  </thead>\n",
       "  <tbody>\n",
       "    <tr>\n",
       "      <th>18</th>\n",
       "      <td>kwd (Kuwaity Dinar)</td>\n",
       "      <td>1</td>\n",
       "      <td>442.09</td>\n",
       "      <td>444.04</td>\n",
       "    </tr>\n",
       "    <tr>\n",
       "      <th>19</th>\n",
       "      <td>bhd (Bahrain Dinar)</td>\n",
       "      <td>1</td>\n",
       "      <td>360.96</td>\n",
       "      <td>362.56</td>\n",
       "    </tr>\n",
       "    <tr>\n",
       "      <th>20</th>\n",
       "      <td>omr (Omani Rial)</td>\n",
       "      <td>1</td>\n",
       "      <td>353.49</td>\n",
       "      <td>355.05</td>\n",
       "    </tr>\n",
       "    <tr>\n",
       "      <th>2</th>\n",
       "      <td>gbp (UK Pound Sterling)</td>\n",
       "      <td>1</td>\n",
       "      <td>175.43</td>\n",
       "      <td>176.20</td>\n",
       "    </tr>\n",
       "    <tr>\n",
       "      <th>3</th>\n",
       "      <td>chf (Swiss Franc)</td>\n",
       "      <td>1</td>\n",
       "      <td>158.13</td>\n",
       "      <td>158.83</td>\n",
       "    </tr>\n",
       "    <tr>\n",
       "      <th>1</th>\n",
       "      <td>eur (European Euro)</td>\n",
       "      <td>1</td>\n",
       "      <td>149.09</td>\n",
       "      <td>149.75</td>\n",
       "    </tr>\n",
       "    <tr>\n",
       "      <th>0</th>\n",
       "      <td>usd (U.S. Dollar)</td>\n",
       "      <td>1</td>\n",
       "      <td>136.08</td>\n",
       "      <td>136.68</td>\n",
       "    </tr>\n",
       "    <tr>\n",
       "      <th>6</th>\n",
       "      <td>sgd (Singapore Dollar)</td>\n",
       "      <td>1</td>\n",
       "      <td>101.10</td>\n",
       "      <td>101.55</td>\n",
       "    </tr>\n",
       "    <tr>\n",
       "      <th>5</th>\n",
       "      <td>cad (Canadian Dollar)</td>\n",
       "      <td>1</td>\n",
       "      <td>95.69</td>\n",
       "      <td>96.11</td>\n",
       "    </tr>\n",
       "    <tr>\n",
       "      <th>4</th>\n",
       "      <td>aud (Australian Dollar)</td>\n",
       "      <td>1</td>\n",
       "      <td>82.25</td>\n",
       "      <td>82.61</td>\n",
       "    </tr>\n",
       "    <tr>\n",
       "      <th>10</th>\n",
       "      <td>qar (Qatari Riyal)</td>\n",
       "      <td>1</td>\n",
       "      <td>37.33</td>\n",
       "      <td>37.50</td>\n",
       "    </tr>\n",
       "    <tr>\n",
       "      <th>12</th>\n",
       "      <td>aed (UAE Dirham)</td>\n",
       "      <td>1</td>\n",
       "      <td>37.05</td>\n",
       "      <td>37.21</td>\n",
       "    </tr>\n",
       "    <tr>\n",
       "      <th>9</th>\n",
       "      <td>sar (Saudi Arabian Riyal)</td>\n",
       "      <td>1</td>\n",
       "      <td>36.27</td>\n",
       "      <td>36.43</td>\n",
       "    </tr>\n",
       "    <tr>\n",
       "      <th>13</th>\n",
       "      <td>myr (Malaysian Ringgit)</td>\n",
       "      <td>1</td>\n",
       "      <td>30.67</td>\n",
       "      <td>30.80</td>\n",
       "    </tr>\n",
       "    <tr>\n",
       "      <th>16</th>\n",
       "      <td>dkk (Danish Kroner)</td>\n",
       "      <td>1</td>\n",
       "      <td>20.00</td>\n",
       "      <td>20.08</td>\n",
       "    </tr>\n",
       "    <tr>\n",
       "      <th>8</th>\n",
       "      <td>cny (Chinese Yuan)</td>\n",
       "      <td>1</td>\n",
       "      <td>18.69</td>\n",
       "      <td>18.77</td>\n",
       "    </tr>\n",
       "    <tr>\n",
       "      <th>17</th>\n",
       "      <td>hkd (Hong Kong Dollar)</td>\n",
       "      <td>1</td>\n",
       "      <td>17.50</td>\n",
       "      <td>17.58</td>\n",
       "    </tr>\n",
       "    <tr>\n",
       "      <th>15</th>\n",
       "      <td>sek (Swedish Kroner)</td>\n",
       "      <td>1</td>\n",
       "      <td>13.62</td>\n",
       "      <td>13.68</td>\n",
       "    </tr>\n",
       "    <tr>\n",
       "      <th>14</th>\n",
       "      <td>krw (South Korean Won)</td>\n",
       "      <td>100</td>\n",
       "      <td>9.32</td>\n",
       "      <td>9.36</td>\n",
       "    </tr>\n",
       "    <tr>\n",
       "      <th>7</th>\n",
       "      <td>jpy (Japanese Yen)</td>\n",
       "      <td>10</td>\n",
       "      <td>9.26</td>\n",
       "      <td>9.30</td>\n",
       "    </tr>\n",
       "    <tr>\n",
       "      <th>11</th>\n",
       "      <td>thb (Thai Baht)</td>\n",
       "      <td>1</td>\n",
       "      <td>3.95</td>\n",
       "      <td>3.97</td>\n",
       "    </tr>\n",
       "  </tbody>\n",
       "</table>\n",
       "</div>"
      ],
      "text/plain": [
       "                     Currency Unit     Buy    Sell\n",
       "18        kwd (Kuwaity Dinar)    1  442.09  444.04\n",
       "19        bhd (Bahrain Dinar)    1  360.96  362.56\n",
       "20           omr (Omani Rial)    1  353.49  355.05\n",
       "2     gbp (UK Pound Sterling)    1  175.43  176.20\n",
       "3           chf (Swiss Franc)    1  158.13  158.83\n",
       "1         eur (European Euro)    1  149.09  149.75\n",
       "0           usd (U.S. Dollar)    1  136.08  136.68\n",
       "6      sgd (Singapore Dollar)    1  101.10  101.55\n",
       "5       cad (Canadian Dollar)    1   95.69   96.11\n",
       "4     aud (Australian Dollar)    1   82.25   82.61\n",
       "10         qar (Qatari Riyal)    1   37.33   37.50\n",
       "12           aed (UAE Dirham)    1   37.05   37.21\n",
       "9   sar (Saudi Arabian Riyal)    1   36.27   36.43\n",
       "13    myr (Malaysian Ringgit)    1   30.67   30.80\n",
       "16        dkk (Danish Kroner)    1   20.00   20.08\n",
       "8          cny (Chinese Yuan)    1   18.69   18.77\n",
       "17     hkd (Hong Kong Dollar)    1   17.50   17.58\n",
       "15       sek (Swedish Kroner)    1   13.62   13.68\n",
       "14     krw (South Korean Won)  100    9.32    9.36\n",
       "7          jpy (Japanese Yen)   10    9.26    9.30\n",
       "11            thb (Thai Baht)    1    3.95    3.97"
      ]
     },
     "execution_count": 127,
     "metadata": {},
     "output_type": "execute_result"
    }
   ],
   "source": [
    "df_sorted = df.sort_values(by=['Sell'], ascending=False) #data lai selling rate ko adhar ma sort gareko\n",
    "df_sorted"
   ]
  },
  {
   "cell_type": "code",
   "execution_count": 128,
   "id": "43f50627",
   "metadata": {},
   "outputs": [
    {
     "data": {
      "application/vnd.plotly.v1+json": {
       "config": {
        "plotlyServerURL": "https://plot.ly"
       },
       "data": [
        {
         "alignmentgroup": "True",
         "hovertemplate": "Currency=%{x}<br>Sell=%{text}<extra></extra>",
         "legendgroup": "kwd (Kuwaity Dinar)",
         "marker": {
          "color": "#636EFA",
          "pattern": {
           "shape": ""
          }
         },
         "name": "kwd (Kuwaity Dinar)",
         "offsetgroup": "kwd (Kuwaity Dinar)",
         "orientation": "v",
         "showlegend": true,
         "text": [
          444.04
         ],
         "textposition": "auto",
         "type": "bar",
         "x": [
          "kwd (Kuwaity Dinar)"
         ],
         "xaxis": "x",
         "y": [
          444.04
         ],
         "yaxis": "y"
        },
        {
         "alignmentgroup": "True",
         "hovertemplate": "Currency=%{x}<br>Sell=%{text}<extra></extra>",
         "legendgroup": "bhd (Bahrain Dinar)",
         "marker": {
          "color": "#EF553B",
          "pattern": {
           "shape": ""
          }
         },
         "name": "bhd (Bahrain Dinar)",
         "offsetgroup": "bhd (Bahrain Dinar)",
         "orientation": "v",
         "showlegend": true,
         "text": [
          362.56
         ],
         "textposition": "auto",
         "type": "bar",
         "x": [
          "bhd (Bahrain Dinar)"
         ],
         "xaxis": "x",
         "y": [
          362.56
         ],
         "yaxis": "y"
        },
        {
         "alignmentgroup": "True",
         "hovertemplate": "Currency=%{x}<br>Sell=%{text}<extra></extra>",
         "legendgroup": "omr (Omani Rial)",
         "marker": {
          "color": "#00CC96",
          "pattern": {
           "shape": ""
          }
         },
         "name": "omr (Omani Rial)",
         "offsetgroup": "omr (Omani Rial)",
         "orientation": "v",
         "showlegend": true,
         "text": [
          355.05
         ],
         "textposition": "auto",
         "type": "bar",
         "x": [
          "omr (Omani Rial)"
         ],
         "xaxis": "x",
         "y": [
          355.05
         ],
         "yaxis": "y"
        },
        {
         "alignmentgroup": "True",
         "hovertemplate": "Currency=%{x}<br>Sell=%{text}<extra></extra>",
         "legendgroup": "gbp (UK Pound Sterling)",
         "marker": {
          "color": "#AB63FA",
          "pattern": {
           "shape": ""
          }
         },
         "name": "gbp (UK Pound Sterling)",
         "offsetgroup": "gbp (UK Pound Sterling)",
         "orientation": "v",
         "showlegend": true,
         "text": [
          176.2
         ],
         "textposition": "auto",
         "type": "bar",
         "x": [
          "gbp (UK Pound Sterling)"
         ],
         "xaxis": "x",
         "y": [
          176.2
         ],
         "yaxis": "y"
        },
        {
         "alignmentgroup": "True",
         "hovertemplate": "Currency=%{x}<br>Sell=%{text}<extra></extra>",
         "legendgroup": "chf (Swiss Franc)",
         "marker": {
          "color": "#FFA15A",
          "pattern": {
           "shape": ""
          }
         },
         "name": "chf (Swiss Franc)",
         "offsetgroup": "chf (Swiss Franc)",
         "orientation": "v",
         "showlegend": true,
         "text": [
          158.83
         ],
         "textposition": "auto",
         "type": "bar",
         "x": [
          "chf (Swiss Franc)"
         ],
         "xaxis": "x",
         "y": [
          158.83
         ],
         "yaxis": "y"
        },
        {
         "alignmentgroup": "True",
         "hovertemplate": "Currency=%{x}<br>Sell=%{text}<extra></extra>",
         "legendgroup": "eur (European Euro)",
         "marker": {
          "color": "#19D3F3",
          "pattern": {
           "shape": ""
          }
         },
         "name": "eur (European Euro)",
         "offsetgroup": "eur (European Euro)",
         "orientation": "v",
         "showlegend": true,
         "text": [
          149.75
         ],
         "textposition": "auto",
         "type": "bar",
         "x": [
          "eur (European Euro)"
         ],
         "xaxis": "x",
         "y": [
          149.75
         ],
         "yaxis": "y"
        },
        {
         "alignmentgroup": "True",
         "hovertemplate": "Currency=%{x}<br>Sell=%{text}<extra></extra>",
         "legendgroup": "usd (U.S. Dollar)",
         "marker": {
          "color": "#FF6692",
          "pattern": {
           "shape": ""
          }
         },
         "name": "usd (U.S. Dollar)",
         "offsetgroup": "usd (U.S. Dollar)",
         "orientation": "v",
         "showlegend": true,
         "text": [
          136.68
         ],
         "textposition": "auto",
         "type": "bar",
         "x": [
          "usd (U.S. Dollar)"
         ],
         "xaxis": "x",
         "y": [
          136.68
         ],
         "yaxis": "y"
        },
        {
         "alignmentgroup": "True",
         "hovertemplate": "Currency=%{x}<br>Sell=%{text}<extra></extra>",
         "legendgroup": "sgd (Singapore Dollar)",
         "marker": {
          "color": "#B6E880",
          "pattern": {
           "shape": ""
          }
         },
         "name": "sgd (Singapore Dollar)",
         "offsetgroup": "sgd (Singapore Dollar)",
         "orientation": "v",
         "showlegend": true,
         "text": [
          101.55
         ],
         "textposition": "auto",
         "type": "bar",
         "x": [
          "sgd (Singapore Dollar)"
         ],
         "xaxis": "x",
         "y": [
          101.55
         ],
         "yaxis": "y"
        },
        {
         "alignmentgroup": "True",
         "hovertemplate": "Currency=%{x}<br>Sell=%{text}<extra></extra>",
         "legendgroup": "cad (Canadian Dollar)",
         "marker": {
          "color": "#FF97FF",
          "pattern": {
           "shape": ""
          }
         },
         "name": "cad (Canadian Dollar)",
         "offsetgroup": "cad (Canadian Dollar)",
         "orientation": "v",
         "showlegend": true,
         "text": [
          96.11
         ],
         "textposition": "auto",
         "type": "bar",
         "x": [
          "cad (Canadian Dollar)"
         ],
         "xaxis": "x",
         "y": [
          96.11
         ],
         "yaxis": "y"
        },
        {
         "alignmentgroup": "True",
         "hovertemplate": "Currency=%{x}<br>Sell=%{text}<extra></extra>",
         "legendgroup": "aud (Australian Dollar)",
         "marker": {
          "color": "#FECB52",
          "pattern": {
           "shape": ""
          }
         },
         "name": "aud (Australian Dollar)",
         "offsetgroup": "aud (Australian Dollar)",
         "orientation": "v",
         "showlegend": true,
         "text": [
          82.61
         ],
         "textposition": "auto",
         "type": "bar",
         "x": [
          "aud (Australian Dollar)"
         ],
         "xaxis": "x",
         "y": [
          82.61
         ],
         "yaxis": "y"
        },
        {
         "alignmentgroup": "True",
         "hovertemplate": "Currency=%{x}<br>Sell=%{text}<extra></extra>",
         "legendgroup": "qar (Qatari Riyal)",
         "marker": {
          "color": "#636EFA",
          "pattern": {
           "shape": ""
          }
         },
         "name": "qar (Qatari Riyal)",
         "offsetgroup": "qar (Qatari Riyal)",
         "orientation": "v",
         "showlegend": true,
         "text": [
          37.5
         ],
         "textposition": "auto",
         "type": "bar",
         "x": [
          "qar (Qatari Riyal)"
         ],
         "xaxis": "x",
         "y": [
          37.5
         ],
         "yaxis": "y"
        },
        {
         "alignmentgroup": "True",
         "hovertemplate": "Currency=%{x}<br>Sell=%{text}<extra></extra>",
         "legendgroup": "aed (UAE Dirham)",
         "marker": {
          "color": "#EF553B",
          "pattern": {
           "shape": ""
          }
         },
         "name": "aed (UAE Dirham)",
         "offsetgroup": "aed (UAE Dirham)",
         "orientation": "v",
         "showlegend": true,
         "text": [
          37.21
         ],
         "textposition": "auto",
         "type": "bar",
         "x": [
          "aed (UAE Dirham)"
         ],
         "xaxis": "x",
         "y": [
          37.21
         ],
         "yaxis": "y"
        },
        {
         "alignmentgroup": "True",
         "hovertemplate": "Currency=%{x}<br>Sell=%{text}<extra></extra>",
         "legendgroup": "sar (Saudi Arabian Riyal)",
         "marker": {
          "color": "#00CC96",
          "pattern": {
           "shape": ""
          }
         },
         "name": "sar (Saudi Arabian Riyal)",
         "offsetgroup": "sar (Saudi Arabian Riyal)",
         "orientation": "v",
         "showlegend": true,
         "text": [
          36.43
         ],
         "textposition": "auto",
         "type": "bar",
         "x": [
          "sar (Saudi Arabian Riyal)"
         ],
         "xaxis": "x",
         "y": [
          36.43
         ],
         "yaxis": "y"
        },
        {
         "alignmentgroup": "True",
         "hovertemplate": "Currency=%{x}<br>Sell=%{text}<extra></extra>",
         "legendgroup": "myr (Malaysian Ringgit)",
         "marker": {
          "color": "#AB63FA",
          "pattern": {
           "shape": ""
          }
         },
         "name": "myr (Malaysian Ringgit)",
         "offsetgroup": "myr (Malaysian Ringgit)",
         "orientation": "v",
         "showlegend": true,
         "text": [
          30.8
         ],
         "textposition": "auto",
         "type": "bar",
         "x": [
          "myr (Malaysian Ringgit)"
         ],
         "xaxis": "x",
         "y": [
          30.8
         ],
         "yaxis": "y"
        },
        {
         "alignmentgroup": "True",
         "hovertemplate": "Currency=%{x}<br>Sell=%{text}<extra></extra>",
         "legendgroup": "dkk (Danish Kroner)",
         "marker": {
          "color": "#FFA15A",
          "pattern": {
           "shape": ""
          }
         },
         "name": "dkk (Danish Kroner)",
         "offsetgroup": "dkk (Danish Kroner)",
         "orientation": "v",
         "showlegend": true,
         "text": [
          20.08
         ],
         "textposition": "auto",
         "type": "bar",
         "x": [
          "dkk (Danish Kroner)"
         ],
         "xaxis": "x",
         "y": [
          20.08
         ],
         "yaxis": "y"
        },
        {
         "alignmentgroup": "True",
         "hovertemplate": "Currency=%{x}<br>Sell=%{text}<extra></extra>",
         "legendgroup": "cny (Chinese Yuan)",
         "marker": {
          "color": "#19D3F3",
          "pattern": {
           "shape": ""
          }
         },
         "name": "cny (Chinese Yuan)",
         "offsetgroup": "cny (Chinese Yuan)",
         "orientation": "v",
         "showlegend": true,
         "text": [
          18.77
         ],
         "textposition": "auto",
         "type": "bar",
         "x": [
          "cny (Chinese Yuan)"
         ],
         "xaxis": "x",
         "y": [
          18.77
         ],
         "yaxis": "y"
        },
        {
         "alignmentgroup": "True",
         "hovertemplate": "Currency=%{x}<br>Sell=%{text}<extra></extra>",
         "legendgroup": "hkd (Hong Kong Dollar)",
         "marker": {
          "color": "#FF6692",
          "pattern": {
           "shape": ""
          }
         },
         "name": "hkd (Hong Kong Dollar)",
         "offsetgroup": "hkd (Hong Kong Dollar)",
         "orientation": "v",
         "showlegend": true,
         "text": [
          17.58
         ],
         "textposition": "auto",
         "type": "bar",
         "x": [
          "hkd (Hong Kong Dollar)"
         ],
         "xaxis": "x",
         "y": [
          17.58
         ],
         "yaxis": "y"
        },
        {
         "alignmentgroup": "True",
         "hovertemplate": "Currency=%{x}<br>Sell=%{text}<extra></extra>",
         "legendgroup": "sek (Swedish Kroner)",
         "marker": {
          "color": "#B6E880",
          "pattern": {
           "shape": ""
          }
         },
         "name": "sek (Swedish Kroner)",
         "offsetgroup": "sek (Swedish Kroner)",
         "orientation": "v",
         "showlegend": true,
         "text": [
          13.68
         ],
         "textposition": "auto",
         "type": "bar",
         "x": [
          "sek (Swedish Kroner)"
         ],
         "xaxis": "x",
         "y": [
          13.68
         ],
         "yaxis": "y"
        },
        {
         "alignmentgroup": "True",
         "hovertemplate": "Currency=%{x}<br>Sell=%{text}<extra></extra>",
         "legendgroup": "krw (South Korean Won)",
         "marker": {
          "color": "#FF97FF",
          "pattern": {
           "shape": ""
          }
         },
         "name": "krw (South Korean Won)",
         "offsetgroup": "krw (South Korean Won)",
         "orientation": "v",
         "showlegend": true,
         "text": [
          9.36
         ],
         "textposition": "auto",
         "type": "bar",
         "x": [
          "krw (South Korean Won)"
         ],
         "xaxis": "x",
         "y": [
          9.36
         ],
         "yaxis": "y"
        },
        {
         "alignmentgroup": "True",
         "hovertemplate": "Currency=%{x}<br>Sell=%{text}<extra></extra>",
         "legendgroup": "jpy (Japanese Yen)",
         "marker": {
          "color": "#FECB52",
          "pattern": {
           "shape": ""
          }
         },
         "name": "jpy (Japanese Yen)",
         "offsetgroup": "jpy (Japanese Yen)",
         "orientation": "v",
         "showlegend": true,
         "text": [
          9.3
         ],
         "textposition": "auto",
         "type": "bar",
         "x": [
          "jpy (Japanese Yen)"
         ],
         "xaxis": "x",
         "y": [
          9.3
         ],
         "yaxis": "y"
        },
        {
         "alignmentgroup": "True",
         "hovertemplate": "Currency=%{x}<br>Sell=%{text}<extra></extra>",
         "legendgroup": "thb (Thai Baht)",
         "marker": {
          "color": "#636EFA",
          "pattern": {
           "shape": ""
          }
         },
         "name": "thb (Thai Baht)",
         "offsetgroup": "thb (Thai Baht)",
         "orientation": "v",
         "showlegend": true,
         "text": [
          3.97
         ],
         "textposition": "auto",
         "type": "bar",
         "x": [
          "thb (Thai Baht)"
         ],
         "xaxis": "x",
         "y": [
          3.97
         ],
         "yaxis": "y"
        }
       ],
       "layout": {
        "barmode": "relative",
        "legend": {
         "title": {
          "text": "Currency"
         },
         "tracegroupgap": 0
        },
        "template": {
         "data": {
          "bar": [
           {
            "error_x": {
             "color": "#2a3f5f"
            },
            "error_y": {
             "color": "#2a3f5f"
            },
            "marker": {
             "line": {
              "color": "#E5ECF6",
              "width": 0.5
             },
             "pattern": {
              "fillmode": "overlay",
              "size": 10,
              "solidity": 0.2
             }
            },
            "type": "bar"
           }
          ],
          "barpolar": [
           {
            "marker": {
             "line": {
              "color": "#E5ECF6",
              "width": 0.5
             },
             "pattern": {
              "fillmode": "overlay",
              "size": 10,
              "solidity": 0.2
             }
            },
            "type": "barpolar"
           }
          ],
          "carpet": [
           {
            "aaxis": {
             "endlinecolor": "#2a3f5f",
             "gridcolor": "white",
             "linecolor": "white",
             "minorgridcolor": "white",
             "startlinecolor": "#2a3f5f"
            },
            "baxis": {
             "endlinecolor": "#2a3f5f",
             "gridcolor": "white",
             "linecolor": "white",
             "minorgridcolor": "white",
             "startlinecolor": "#2a3f5f"
            },
            "type": "carpet"
           }
          ],
          "choropleth": [
           {
            "colorbar": {
             "outlinewidth": 0,
             "ticks": ""
            },
            "type": "choropleth"
           }
          ],
          "contour": [
           {
            "colorbar": {
             "outlinewidth": 0,
             "ticks": ""
            },
            "colorscale": [
             [
              0,
              "#0d0887"
             ],
             [
              0.1111111111111111,
              "#46039f"
             ],
             [
              0.2222222222222222,
              "#7201a8"
             ],
             [
              0.3333333333333333,
              "#9c179e"
             ],
             [
              0.4444444444444444,
              "#bd3786"
             ],
             [
              0.5555555555555556,
              "#d8576b"
             ],
             [
              0.6666666666666666,
              "#ed7953"
             ],
             [
              0.7777777777777778,
              "#fb9f3a"
             ],
             [
              0.8888888888888888,
              "#fdca26"
             ],
             [
              1,
              "#f0f921"
             ]
            ],
            "type": "contour"
           }
          ],
          "contourcarpet": [
           {
            "colorbar": {
             "outlinewidth": 0,
             "ticks": ""
            },
            "type": "contourcarpet"
           }
          ],
          "heatmap": [
           {
            "colorbar": {
             "outlinewidth": 0,
             "ticks": ""
            },
            "colorscale": [
             [
              0,
              "#0d0887"
             ],
             [
              0.1111111111111111,
              "#46039f"
             ],
             [
              0.2222222222222222,
              "#7201a8"
             ],
             [
              0.3333333333333333,
              "#9c179e"
             ],
             [
              0.4444444444444444,
              "#bd3786"
             ],
             [
              0.5555555555555556,
              "#d8576b"
             ],
             [
              0.6666666666666666,
              "#ed7953"
             ],
             [
              0.7777777777777778,
              "#fb9f3a"
             ],
             [
              0.8888888888888888,
              "#fdca26"
             ],
             [
              1,
              "#f0f921"
             ]
            ],
            "type": "heatmap"
           }
          ],
          "heatmapgl": [
           {
            "colorbar": {
             "outlinewidth": 0,
             "ticks": ""
            },
            "colorscale": [
             [
              0,
              "#0d0887"
             ],
             [
              0.1111111111111111,
              "#46039f"
             ],
             [
              0.2222222222222222,
              "#7201a8"
             ],
             [
              0.3333333333333333,
              "#9c179e"
             ],
             [
              0.4444444444444444,
              "#bd3786"
             ],
             [
              0.5555555555555556,
              "#d8576b"
             ],
             [
              0.6666666666666666,
              "#ed7953"
             ],
             [
              0.7777777777777778,
              "#fb9f3a"
             ],
             [
              0.8888888888888888,
              "#fdca26"
             ],
             [
              1,
              "#f0f921"
             ]
            ],
            "type": "heatmapgl"
           }
          ],
          "histogram": [
           {
            "marker": {
             "pattern": {
              "fillmode": "overlay",
              "size": 10,
              "solidity": 0.2
             }
            },
            "type": "histogram"
           }
          ],
          "histogram2d": [
           {
            "colorbar": {
             "outlinewidth": 0,
             "ticks": ""
            },
            "colorscale": [
             [
              0,
              "#0d0887"
             ],
             [
              0.1111111111111111,
              "#46039f"
             ],
             [
              0.2222222222222222,
              "#7201a8"
             ],
             [
              0.3333333333333333,
              "#9c179e"
             ],
             [
              0.4444444444444444,
              "#bd3786"
             ],
             [
              0.5555555555555556,
              "#d8576b"
             ],
             [
              0.6666666666666666,
              "#ed7953"
             ],
             [
              0.7777777777777778,
              "#fb9f3a"
             ],
             [
              0.8888888888888888,
              "#fdca26"
             ],
             [
              1,
              "#f0f921"
             ]
            ],
            "type": "histogram2d"
           }
          ],
          "histogram2dcontour": [
           {
            "colorbar": {
             "outlinewidth": 0,
             "ticks": ""
            },
            "colorscale": [
             [
              0,
              "#0d0887"
             ],
             [
              0.1111111111111111,
              "#46039f"
             ],
             [
              0.2222222222222222,
              "#7201a8"
             ],
             [
              0.3333333333333333,
              "#9c179e"
             ],
             [
              0.4444444444444444,
              "#bd3786"
             ],
             [
              0.5555555555555556,
              "#d8576b"
             ],
             [
              0.6666666666666666,
              "#ed7953"
             ],
             [
              0.7777777777777778,
              "#fb9f3a"
             ],
             [
              0.8888888888888888,
              "#fdca26"
             ],
             [
              1,
              "#f0f921"
             ]
            ],
            "type": "histogram2dcontour"
           }
          ],
          "mesh3d": [
           {
            "colorbar": {
             "outlinewidth": 0,
             "ticks": ""
            },
            "type": "mesh3d"
           }
          ],
          "parcoords": [
           {
            "line": {
             "colorbar": {
              "outlinewidth": 0,
              "ticks": ""
             }
            },
            "type": "parcoords"
           }
          ],
          "pie": [
           {
            "automargin": true,
            "type": "pie"
           }
          ],
          "scatter": [
           {
            "fillpattern": {
             "fillmode": "overlay",
             "size": 10,
             "solidity": 0.2
            },
            "type": "scatter"
           }
          ],
          "scatter3d": [
           {
            "line": {
             "colorbar": {
              "outlinewidth": 0,
              "ticks": ""
             }
            },
            "marker": {
             "colorbar": {
              "outlinewidth": 0,
              "ticks": ""
             }
            },
            "type": "scatter3d"
           }
          ],
          "scattercarpet": [
           {
            "marker": {
             "colorbar": {
              "outlinewidth": 0,
              "ticks": ""
             }
            },
            "type": "scattercarpet"
           }
          ],
          "scattergeo": [
           {
            "marker": {
             "colorbar": {
              "outlinewidth": 0,
              "ticks": ""
             }
            },
            "type": "scattergeo"
           }
          ],
          "scattergl": [
           {
            "marker": {
             "colorbar": {
              "outlinewidth": 0,
              "ticks": ""
             }
            },
            "type": "scattergl"
           }
          ],
          "scattermapbox": [
           {
            "marker": {
             "colorbar": {
              "outlinewidth": 0,
              "ticks": ""
             }
            },
            "type": "scattermapbox"
           }
          ],
          "scatterpolar": [
           {
            "marker": {
             "colorbar": {
              "outlinewidth": 0,
              "ticks": ""
             }
            },
            "type": "scatterpolar"
           }
          ],
          "scatterpolargl": [
           {
            "marker": {
             "colorbar": {
              "outlinewidth": 0,
              "ticks": ""
             }
            },
            "type": "scatterpolargl"
           }
          ],
          "scatterternary": [
           {
            "marker": {
             "colorbar": {
              "outlinewidth": 0,
              "ticks": ""
             }
            },
            "type": "scatterternary"
           }
          ],
          "surface": [
           {
            "colorbar": {
             "outlinewidth": 0,
             "ticks": ""
            },
            "colorscale": [
             [
              0,
              "#0d0887"
             ],
             [
              0.1111111111111111,
              "#46039f"
             ],
             [
              0.2222222222222222,
              "#7201a8"
             ],
             [
              0.3333333333333333,
              "#9c179e"
             ],
             [
              0.4444444444444444,
              "#bd3786"
             ],
             [
              0.5555555555555556,
              "#d8576b"
             ],
             [
              0.6666666666666666,
              "#ed7953"
             ],
             [
              0.7777777777777778,
              "#fb9f3a"
             ],
             [
              0.8888888888888888,
              "#fdca26"
             ],
             [
              1,
              "#f0f921"
             ]
            ],
            "type": "surface"
           }
          ],
          "table": [
           {
            "cells": {
             "fill": {
              "color": "#EBF0F8"
             },
             "line": {
              "color": "white"
             }
            },
            "header": {
             "fill": {
              "color": "#C8D4E3"
             },
             "line": {
              "color": "white"
             }
            },
            "type": "table"
           }
          ]
         },
         "layout": {
          "annotationdefaults": {
           "arrowcolor": "#2a3f5f",
           "arrowhead": 0,
           "arrowwidth": 1
          },
          "autotypenumbers": "strict",
          "coloraxis": {
           "colorbar": {
            "outlinewidth": 0,
            "ticks": ""
           }
          },
          "colorscale": {
           "diverging": [
            [
             0,
             "#8e0152"
            ],
            [
             0.1,
             "#c51b7d"
            ],
            [
             0.2,
             "#de77ae"
            ],
            [
             0.3,
             "#f1b6da"
            ],
            [
             0.4,
             "#fde0ef"
            ],
            [
             0.5,
             "#f7f7f7"
            ],
            [
             0.6,
             "#e6f5d0"
            ],
            [
             0.7,
             "#b8e186"
            ],
            [
             0.8,
             "#7fbc41"
            ],
            [
             0.9,
             "#4d9221"
            ],
            [
             1,
             "#276419"
            ]
           ],
           "sequential": [
            [
             0,
             "#0d0887"
            ],
            [
             0.1111111111111111,
             "#46039f"
            ],
            [
             0.2222222222222222,
             "#7201a8"
            ],
            [
             0.3333333333333333,
             "#9c179e"
            ],
            [
             0.4444444444444444,
             "#bd3786"
            ],
            [
             0.5555555555555556,
             "#d8576b"
            ],
            [
             0.6666666666666666,
             "#ed7953"
            ],
            [
             0.7777777777777778,
             "#fb9f3a"
            ],
            [
             0.8888888888888888,
             "#fdca26"
            ],
            [
             1,
             "#f0f921"
            ]
           ],
           "sequentialminus": [
            [
             0,
             "#0d0887"
            ],
            [
             0.1111111111111111,
             "#46039f"
            ],
            [
             0.2222222222222222,
             "#7201a8"
            ],
            [
             0.3333333333333333,
             "#9c179e"
            ],
            [
             0.4444444444444444,
             "#bd3786"
            ],
            [
             0.5555555555555556,
             "#d8576b"
            ],
            [
             0.6666666666666666,
             "#ed7953"
            ],
            [
             0.7777777777777778,
             "#fb9f3a"
            ],
            [
             0.8888888888888888,
             "#fdca26"
            ],
            [
             1,
             "#f0f921"
            ]
           ]
          },
          "colorway": [
           "#636efa",
           "#EF553B",
           "#00cc96",
           "#ab63fa",
           "#FFA15A",
           "#19d3f3",
           "#FF6692",
           "#B6E880",
           "#FF97FF",
           "#FECB52"
          ],
          "font": {
           "color": "#2a3f5f"
          },
          "geo": {
           "bgcolor": "white",
           "lakecolor": "white",
           "landcolor": "#E5ECF6",
           "showlakes": true,
           "showland": true,
           "subunitcolor": "white"
          },
          "hoverlabel": {
           "align": "left"
          },
          "hovermode": "closest",
          "mapbox": {
           "style": "light"
          },
          "paper_bgcolor": "white",
          "plot_bgcolor": "#E5ECF6",
          "polar": {
           "angularaxis": {
            "gridcolor": "white",
            "linecolor": "white",
            "ticks": ""
           },
           "bgcolor": "#E5ECF6",
           "radialaxis": {
            "gridcolor": "white",
            "linecolor": "white",
            "ticks": ""
           }
          },
          "scene": {
           "xaxis": {
            "backgroundcolor": "#E5ECF6",
            "gridcolor": "white",
            "gridwidth": 2,
            "linecolor": "white",
            "showbackground": true,
            "ticks": "",
            "zerolinecolor": "white"
           },
           "yaxis": {
            "backgroundcolor": "#E5ECF6",
            "gridcolor": "white",
            "gridwidth": 2,
            "linecolor": "white",
            "showbackground": true,
            "ticks": "",
            "zerolinecolor": "white"
           },
           "zaxis": {
            "backgroundcolor": "#E5ECF6",
            "gridcolor": "white",
            "gridwidth": 2,
            "linecolor": "white",
            "showbackground": true,
            "ticks": "",
            "zerolinecolor": "white"
           }
          },
          "shapedefaults": {
           "line": {
            "color": "#2a3f5f"
           }
          },
          "ternary": {
           "aaxis": {
            "gridcolor": "white",
            "linecolor": "white",
            "ticks": ""
           },
           "baxis": {
            "gridcolor": "white",
            "linecolor": "white",
            "ticks": ""
           },
           "bgcolor": "#E5ECF6",
           "caxis": {
            "gridcolor": "white",
            "linecolor": "white",
            "ticks": ""
           }
          },
          "title": {
           "x": 0.05
          },
          "xaxis": {
           "automargin": true,
           "gridcolor": "white",
           "linecolor": "white",
           "ticks": "",
           "title": {
            "standoff": 15
           },
           "zerolinecolor": "white",
           "zerolinewidth": 2
          },
          "yaxis": {
           "automargin": true,
           "gridcolor": "white",
           "linecolor": "white",
           "ticks": "",
           "title": {
            "standoff": 15
           },
           "zerolinecolor": "white",
           "zerolinewidth": 2
          }
         }
        },
        "title": {
         "text": "Foreign Exchange Rate"
        },
        "xaxis": {
         "anchor": "y",
         "categoryarray": [
          "kwd (Kuwaity Dinar)",
          "bhd (Bahrain Dinar)",
          "omr (Omani Rial)",
          "gbp (UK Pound Sterling)",
          "chf (Swiss Franc)",
          "eur (European Euro)",
          "usd (U.S. Dollar)",
          "sgd (Singapore Dollar)",
          "cad (Canadian Dollar)",
          "aud (Australian Dollar)",
          "qar (Qatari Riyal)",
          "aed (UAE Dirham)",
          "sar (Saudi Arabian Riyal)",
          "myr (Malaysian Ringgit)",
          "dkk (Danish Kroner)",
          "cny (Chinese Yuan)",
          "hkd (Hong Kong Dollar)",
          "sek (Swedish Kroner)",
          "krw (South Korean Won)",
          "jpy (Japanese Yen)",
          "thb (Thai Baht)"
         ],
         "categoryorder": "array",
         "domain": [
          0,
          1
         ],
         "title": {
          "text": "Currency"
         }
        },
        "yaxis": {
         "anchor": "x",
         "domain": [
          0,
          1
         ],
         "title": {
          "text": "Sell"
         }
        }
       }
      }
     },
     "metadata": {},
     "output_type": "display_data"
    }
   ],
   "source": [
    "import plotly.express as px\n",
    "fig = px.bar(df_sorted,x='Currency',y = 'Sell',title='Foreign Exchange Rate',text='Sell',color='Currency',color_discrete_sequence=px.colors.qualitative.Plotly)\n",
    "fig.show()\n",
    "\n"
   ]
  }
 ],
 "metadata": {
  "kernelspec": {
   "display_name": "base",
   "language": "python",
   "name": "python3"
  },
  "language_info": {
   "codemirror_mode": {
    "name": "ipython",
    "version": 3
   },
   "file_extension": ".py",
   "mimetype": "text/x-python",
   "name": "python",
   "nbconvert_exporter": "python",
   "pygments_lexer": "ipython3",
   "version": "3.12.7"
  }
 },
 "nbformat": 4,
 "nbformat_minor": 5
}
